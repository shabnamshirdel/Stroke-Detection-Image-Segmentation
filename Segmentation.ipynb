{
  "nbformat": 4,
  "nbformat_minor": 0,
  "metadata": {
    "accelerator": "GPU",
    "colab": {
      "name": "ClassificationAndSegmentation.ipynb",
      "provenance": [],
      "collapsed_sections": [],
      "toc_visible": true,
      "machine_shape": "hm"
    },
    "kernelspec": {
      "display_name": "Python 3",
      "name": "python3"
    },
    "language_info": {
      "name": "python"
    }
  },
  "cells": [
    {
      "cell_type": "markdown",
      "metadata": {
        "id": "3FPDj-bFWTb7"
      },
      "source": [
        "# TRAINING PROCESS"
      ]
    },
    {
      "cell_type": "code",
      "metadata": {
        "colab": {
          "base_uri": "https://localhost:8080/"
        },
        "id": "sRl2Ww6bBoY4",
        "outputId": "06aaa0f3-afb9-455e-c66d-bb3a7b509083"
      },
      "source": [
        "import DataOperations/dataset\n",
        "dset=dataset.Dataset(\"/content/drive/MyDrive/Intercubic\",\"TrainingSet\",\"TestSet\",\"Segmentation\")"
      ],
      "execution_count": null,
      "outputs": [
        {
          "output_type": "stream",
          "name": "stdout",
          "text": [
            "['/content/drive/MyDrive/Intercubic/TrainingSet/Image', '/content/drive/MyDrive/Intercubic/TestSet/Image']\n"
          ]
        }
      ]
    },
    {
      "cell_type": "code",
      "metadata": {
        "id": "LmIRmpoYtLRQ"
      },
      "source": [
        "dset.importSegmentationClass(False)"
      ],
      "execution_count": null,
      "outputs": []
    },
    {
      "cell_type": "code",
      "metadata": {
        "colab": {
          "base_uri": "https://localhost:8080/"
        },
        "id": "aLz9C-76zkKJ",
        "outputId": "4af65d73-549d-4aae-cf6f-eb4c6ab3b815"
      },
      "source": [
        "dset.trainingArrayX.shape,dset.testArrayX.shape,dset.trainingArrayY.shape,dset.testArrayY.shape"
      ],
      "execution_count": null,
      "outputs": [
        {
          "output_type": "execute_result",
          "data": {
            "text/plain": [
              "((1768, 256, 256), (441, 256, 256), (1768, 256, 256, 3), (441, 256, 256, 3))"
            ]
          },
          "metadata": {},
          "execution_count": 3
        }
      ]
    },
    {
      "cell_type": "code",
      "metadata": {
        "id": "zDtY2XdGz0PJ"
      },
      "source": [
        "dset.trainingArrayX=dset.trainingArrayX.astype('float32')\n",
        "dset.testArrayX=dset.testArrayX.astype('float32')\n"
      ],
      "execution_count": null,
      "outputs": []
    },
    {
      "cell_type": "code",
      "metadata": {
        "id": "TGRJYVKABIrD"
      },
      "source": [
        "for i in range(len(dset.trainingArrayX)):\n",
        "  dset.trainingArrayX[i]=dset.trainingArrayX[i]/255.\n",
        "\n",
        "for i in range(len(dset.testArrayX)):\n",
        "  dset.testArrayX[i]=dset.testArrayX[i]/255.\n"
      ],
      "execution_count": null,
      "outputs": []
    },
    {
      "cell_type": "code",
      "metadata": {
        "id": "JIoazB2yC5oQ"
      },
      "source": [
        "import tensorflow as tf\n",
        "dset.trainingArrayY=tf.keras.utils.to_categorical(dset.trainingArrayY)\n",
        "dset.testArrayY=tf.keras.utils.to_categorical(dset.testArrayY)"
      ],
      "execution_count": null,
      "outputs": []
    },
    {
      "cell_type": "markdown",
      "metadata": {
        "id": "ij2UQ5w_WW34"
      },
      "source": [
        "#VGG16 MODEL CONSTRUCTION"
      ]
    },
    {
      "cell_type": "code",
      "metadata": {
        "colab": {
          "base_uri": "https://localhost:8080/"
        },
        "id": "bOIaQYXaBwdR",
        "outputId": "6e69c876-f011-4eb0-c7ee-5c98ac5358ba"
      },
      "source": [
        "\n",
        "from keras.applications.vgg16 import VGG16\n",
        "import numpy as np\n",
        "from keras.models import Model\n",
        "from keras.layers import Input, Dense,Dropout, Conv2D, GlobalAveragePooling2D\n",
        "import matplotlib.pyplot as plt\n",
        "\n",
        "def vgg16():\n",
        "    \n",
        "  conv=VGG16(input_shape=[224,224,3],weights='imagenet',include_top=False)\n",
        "  conv.output\n",
        "\n",
        "\n",
        "  x = conv.output\n",
        "  x = Dropout(0.2)(x)\n",
        "  x = GlobalAveragePooling2D()(x)\n",
        "\n",
        "\n",
        "  x = Dense(2048,activation='relu')(x)\n",
        "  x = Dense(1024,activation='relu')(x)\n",
        "  x = Dropout(0.2)(x)\n",
        "  x = Dense(1024,activation='relu')(x)\n",
        "  x = Dense(512,activation='relu')(x)\n",
        "  \n",
        "  \n",
        "  pred = Dense(2,activation='softmax')(x)\n",
        "  model = Model(inputs = conv.input,outputs=pred)\n",
        "\n",
        "  model.summary()\n",
        "\n",
        "\n",
        "  for layer in conv.layers:\n",
        "      layer.trainable = False\n",
        "  return model\n",
        "model=vgg16()"
      ],
      "execution_count": null,
      "outputs": [
        {
          "output_type": "stream",
          "name": "stdout",
          "text": [
            "Model: \"model\"\n",
            "_________________________________________________________________\n",
            "Layer (type)                 Output Shape              Param #   \n",
            "=================================================================\n",
            "input_1 (InputLayer)         [(None, 224, 224, 3)]     0         \n",
            "_________________________________________________________________\n",
            "block1_conv1 (Conv2D)        (None, 224, 224, 64)      1792      \n",
            "_________________________________________________________________\n",
            "block1_conv2 (Conv2D)        (None, 224, 224, 64)      36928     \n",
            "_________________________________________________________________\n",
            "block1_pool (MaxPooling2D)   (None, 112, 112, 64)      0         \n",
            "_________________________________________________________________\n",
            "block2_conv1 (Conv2D)        (None, 112, 112, 128)     73856     \n",
            "_________________________________________________________________\n",
            "block2_conv2 (Conv2D)        (None, 112, 112, 128)     147584    \n",
            "_________________________________________________________________\n",
            "block2_pool (MaxPooling2D)   (None, 56, 56, 128)       0         \n",
            "_________________________________________________________________\n",
            "block3_conv1 (Conv2D)        (None, 56, 56, 256)       295168    \n",
            "_________________________________________________________________\n",
            "block3_conv2 (Conv2D)        (None, 56, 56, 256)       590080    \n",
            "_________________________________________________________________\n",
            "block3_conv3 (Conv2D)        (None, 56, 56, 256)       590080    \n",
            "_________________________________________________________________\n",
            "block3_pool (MaxPooling2D)   (None, 28, 28, 256)       0         \n",
            "_________________________________________________________________\n",
            "block4_conv1 (Conv2D)        (None, 28, 28, 512)       1180160   \n",
            "_________________________________________________________________\n",
            "block4_conv2 (Conv2D)        (None, 28, 28, 512)       2359808   \n",
            "_________________________________________________________________\n",
            "block4_conv3 (Conv2D)        (None, 28, 28, 512)       2359808   \n",
            "_________________________________________________________________\n",
            "block4_pool (MaxPooling2D)   (None, 14, 14, 512)       0         \n",
            "_________________________________________________________________\n",
            "block5_conv1 (Conv2D)        (None, 14, 14, 512)       2359808   \n",
            "_________________________________________________________________\n",
            "block5_conv2 (Conv2D)        (None, 14, 14, 512)       2359808   \n",
            "_________________________________________________________________\n",
            "block5_conv3 (Conv2D)        (None, 14, 14, 512)       2359808   \n",
            "_________________________________________________________________\n",
            "block5_pool (MaxPooling2D)   (None, 7, 7, 512)         0         \n",
            "_________________________________________________________________\n",
            "dropout (Dropout)            (None, 7, 7, 512)         0         \n",
            "_________________________________________________________________\n",
            "global_average_pooling2d (Gl (None, 512)               0         \n",
            "_________________________________________________________________\n",
            "dense (Dense)                (None, 2048)              1050624   \n",
            "_________________________________________________________________\n",
            "dense_1 (Dense)              (None, 1024)              2098176   \n",
            "_________________________________________________________________\n",
            "dropout_1 (Dropout)          (None, 1024)              0         \n",
            "_________________________________________________________________\n",
            "dense_2 (Dense)              (None, 1024)              1049600   \n",
            "_________________________________________________________________\n",
            "dense_3 (Dense)              (None, 512)               524800    \n",
            "_________________________________________________________________\n",
            "dense_4 (Dense)              (None, 2)                 1026      \n",
            "=================================================================\n",
            "Total params: 19,438,914\n",
            "Trainable params: 19,438,914\n",
            "Non-trainable params: 0\n",
            "_________________________________________________________________\n"
          ]
        }
      ]
    },
    {
      "cell_type": "code",
      "metadata": {
        "id": "dSHv5tJkBw-G"
      },
      "source": [
        "import tensorflow as tf\n",
        "adam=tf.keras.optimizers.Adam(learning_rate=0.00001)\n",
        "model.compile(optimizer = adam ,loss=\"categorical_crossentropy\", metrics=['accuracy'])"
      ],
      "execution_count": null,
      "outputs": []
    },
    {
      "cell_type": "code",
      "metadata": {
        "id": "CMGOMioYAoDI"
      },
      "source": [
        "model.load_weights('/content/drive/MyDrive/mkurtModel/modelAugmented.h5')"
      ],
      "execution_count": null,
      "outputs": []
    },
    {
      "cell_type": "code",
      "metadata": {
        "id": "b9iP2_ppTKV9"
      },
      "source": [
        "checkpoint_filepath = '/content/drive/MyDrive/mkurtModel/modelAugmentedLast.h5'\n",
        "model_checkpoint_callback = tf.keras.callbacks.ModelCheckpoint(\n",
        "    filepath=checkpoint_filepath,\n",
        "    monitor='val_accuracy',\n",
        "    mode='max',\n",
        "    save_best_only=True)\n"
      ],
      "execution_count": null,
      "outputs": []
    },
    {
      "cell_type": "code",
      "metadata": {
        "colab": {
          "base_uri": "https://localhost:8080/"
        },
        "id": "jQ4fH1OHfrbz",
        "outputId": "83b18293-0471-4e54-e46f-5cb02f541ed2"
      },
      "source": [
        "history=model.fit(\n",
        "    dset.trainingArrayX,\n",
        "    dset.trainingArrayY,\n",
        "    epochs=50,\n",
        "    validation_data=(dset.testArrayX,dset.testArrayY),\n",
        "    verbose=1,\n",
        "    batch_size=8,\n",
        "    callbacks=[model_checkpoint_callback]\n",
        ")"
      ],
      "execution_count": null,
      "outputs": [
        {
          "name": "stdout",
          "output_type": "stream",
          "text": [
            "Epoch 1/50\n",
            "1881/1881 [==============================] - 61s 27ms/step - loss: 0.0217 - accuracy: 0.9920 - false_negatives: 120.0000 - false_positives: 120.0000 - val_loss: 0.4052 - val_accuracy: 0.9115 - val_false_negatives: 88.0000 - val_false_positives: 88.0000\n",
            "Epoch 2/50\n",
            "1881/1881 [==============================] - 51s 27ms/step - loss: 0.0231 - accuracy: 0.9923 - false_negatives: 116.0000 - false_positives: 116.0000 - val_loss: 0.3263 - val_accuracy: 0.9115 - val_false_negatives: 88.0000 - val_false_positives: 88.0000\n",
            "Epoch 3/50\n",
            "1881/1881 [==============================] - 50s 27ms/step - loss: 0.0222 - accuracy: 0.9921 - false_negatives: 119.0000 - false_positives: 119.0000 - val_loss: 0.2733 - val_accuracy: 0.9286 - val_false_negatives: 71.0000 - val_false_positives: 71.0000\n",
            "Epoch 4/50\n",
            "1881/1881 [==============================] - 51s 27ms/step - loss: 0.0241 - accuracy: 0.9914 - false_negatives: 129.0000 - false_positives: 129.0000 - val_loss: 0.2370 - val_accuracy: 0.9416 - val_false_negatives: 58.0000 - val_false_positives: 58.0000\n",
            "Epoch 5/50\n",
            "1881/1881 [==============================] - 51s 27ms/step - loss: 0.0200 - accuracy: 0.9930 - false_negatives: 106.0000 - false_positives: 106.0000 - val_loss: 0.3176 - val_accuracy: 0.9266 - val_false_negatives: 73.0000 - val_false_positives: 73.0000\n",
            "Epoch 6/50\n",
            "1881/1881 [==============================] - 50s 27ms/step - loss: 0.0238 - accuracy: 0.9910 - false_negatives: 135.0000 - false_positives: 135.0000 - val_loss: 0.3028 - val_accuracy: 0.9336 - val_false_negatives: 66.0000 - val_false_positives: 66.0000\n",
            "Epoch 7/50\n",
            "1881/1881 [==============================] - 51s 27ms/step - loss: 0.0221 - accuracy: 0.9917 - false_negatives: 125.0000 - false_positives: 125.0000 - val_loss: 0.2738 - val_accuracy: 0.9316 - val_false_negatives: 68.0000 - val_false_positives: 68.0000\n",
            "Epoch 8/50\n",
            "1881/1881 [==============================] - 51s 27ms/step - loss: 0.0228 - accuracy: 0.9919 - false_negatives: 122.0000 - false_positives: 122.0000 - val_loss: 0.2579 - val_accuracy: 0.9356 - val_false_negatives: 64.0000 - val_false_positives: 64.0000\n",
            "Epoch 9/50\n",
            "1881/1881 [==============================] - 50s 27ms/step - loss: 0.0246 - accuracy: 0.9908 - false_negatives: 139.0000 - false_positives: 139.0000 - val_loss: 0.2659 - val_accuracy: 0.9256 - val_false_negatives: 74.0000 - val_false_positives: 74.0000\n",
            "Epoch 10/50\n",
            "1881/1881 [==============================] - 51s 27ms/step - loss: 0.0207 - accuracy: 0.9924 - false_negatives: 115.0000 - false_positives: 115.0000 - val_loss: 0.3141 - val_accuracy: 0.9185 - val_false_negatives: 81.0000 - val_false_positives: 81.0000\n",
            "Epoch 11/50\n",
            "1881/1881 [==============================] - 50s 27ms/step - loss: 0.0255 - accuracy: 0.9915 - false_negatives: 128.0000 - false_positives: 128.0000 - val_loss: 0.3483 - val_accuracy: 0.9165 - val_false_negatives: 83.0000 - val_false_positives: 83.0000\n",
            "Epoch 12/50\n",
            "1881/1881 [==============================] - 50s 27ms/step - loss: 0.0183 - accuracy: 0.9936 - false_negatives: 97.0000 - false_positives: 97.0000 - val_loss: 0.3070 - val_accuracy: 0.9276 - val_false_negatives: 72.0000 - val_false_positives: 72.0000\n",
            "Epoch 13/50\n",
            "1881/1881 [==============================] - 51s 27ms/step - loss: 0.0236 - accuracy: 0.9907 - false_negatives: 140.0000 - false_positives: 140.0000 - val_loss: 0.3638 - val_accuracy: 0.9185 - val_false_negatives: 81.0000 - val_false_positives: 81.0000\n",
            "Epoch 14/50\n",
            "1881/1881 [==============================] - 50s 27ms/step - loss: 0.0208 - accuracy: 0.9932 - false_negatives: 102.0000 - false_positives: 102.0000 - val_loss: 0.2969 - val_accuracy: 0.9215 - val_false_negatives: 78.0000 - val_false_positives: 78.0000\n",
            "Epoch 15/50\n",
            "1881/1881 [==============================] - 51s 27ms/step - loss: 0.0209 - accuracy: 0.9921 - false_negatives: 119.0000 - false_positives: 119.0000 - val_loss: 0.3311 - val_accuracy: 0.9276 - val_false_negatives: 72.0000 - val_false_positives: 72.0000\n",
            "Epoch 16/50\n",
            "1881/1881 [==============================] - 51s 27ms/step - loss: 0.0237 - accuracy: 0.9922 - false_negatives: 117.0000 - false_positives: 117.0000 - val_loss: 0.2419 - val_accuracy: 0.9396 - val_false_negatives: 60.0000 - val_false_positives: 60.0000\n",
            "Epoch 17/50\n",
            "1881/1881 [==============================] - 50s 27ms/step - loss: 0.0228 - accuracy: 0.9916 - false_negatives: 126.0000 - false_positives: 126.0000 - val_loss: 0.2830 - val_accuracy: 0.9276 - val_false_negatives: 72.0000 - val_false_positives: 72.0000\n",
            "Epoch 18/50\n",
            "1881/1881 [==============================] - 51s 27ms/step - loss: 0.0209 - accuracy: 0.9923 - false_negatives: 116.0000 - false_positives: 116.0000 - val_loss: 0.2842 - val_accuracy: 0.9326 - val_false_negatives: 67.0000 - val_false_positives: 67.0000\n",
            "Epoch 19/50\n",
            "1881/1881 [==============================] - 51s 27ms/step - loss: 0.0184 - accuracy: 0.9930 - false_negatives: 106.0000 - false_positives: 106.0000 - val_loss: 0.3179 - val_accuracy: 0.9215 - val_false_negatives: 78.0000 - val_false_positives: 78.0000\n",
            "Epoch 20/50\n",
            "1881/1881 [==============================] - 50s 27ms/step - loss: 0.0195 - accuracy: 0.9924 - false_negatives: 114.0000 - false_positives: 114.0000 - val_loss: 0.3710 - val_accuracy: 0.9266 - val_false_negatives: 73.0000 - val_false_positives: 73.0000\n",
            "Epoch 21/50\n",
            "1881/1881 [==============================] - 51s 27ms/step - loss: 0.0215 - accuracy: 0.9916 - false_negatives: 127.0000 - false_positives: 127.0000 - val_loss: 0.3134 - val_accuracy: 0.9175 - val_false_negatives: 82.0000 - val_false_positives: 82.0000\n",
            "Epoch 22/50\n",
            "1881/1881 [==============================] - 50s 27ms/step - loss: 0.0194 - accuracy: 0.9926 - false_negatives: 111.0000 - false_positives: 111.0000 - val_loss: 0.3020 - val_accuracy: 0.9205 - val_false_negatives: 79.0000 - val_false_positives: 79.0000\n",
            "Epoch 23/50\n",
            "1881/1881 [==============================] - 51s 27ms/step - loss: 0.0229 - accuracy: 0.9920 - false_negatives: 120.0000 - false_positives: 120.0000 - val_loss: 0.3196 - val_accuracy: 0.9316 - val_false_negatives: 68.0000 - val_false_positives: 68.0000\n",
            "Epoch 24/50\n",
            "1881/1881 [==============================] - 51s 27ms/step - loss: 0.0213 - accuracy: 0.9926 - false_negatives: 111.0000 - false_positives: 111.0000 - val_loss: 0.3085 - val_accuracy: 0.9336 - val_false_negatives: 66.0000 - val_false_positives: 66.0000\n",
            "Epoch 25/50\n",
            "1881/1881 [==============================] - 50s 27ms/step - loss: 0.0207 - accuracy: 0.9925 - false_negatives: 113.0000 - false_positives: 113.0000 - val_loss: 0.4264 - val_accuracy: 0.9074 - val_false_negatives: 92.0000 - val_false_positives: 92.0000\n",
            "Epoch 26/50\n",
            "1881/1881 [==============================] - 51s 27ms/step - loss: 0.0187 - accuracy: 0.9936 - false_negatives: 97.0000 - false_positives: 97.0000 - val_loss: 0.3078 - val_accuracy: 0.9316 - val_false_negatives: 68.0000 - val_false_positives: 68.0000\n",
            "Epoch 27/50\n",
            "1881/1881 [==============================] - 51s 27ms/step - loss: 0.0206 - accuracy: 0.9921 - false_negatives: 119.0000 - false_positives: 119.0000 - val_loss: 0.2768 - val_accuracy: 0.9336 - val_false_negatives: 66.0000 - val_false_positives: 66.0000\n",
            "Epoch 28/50\n",
            "1881/1881 [==============================] - 50s 27ms/step - loss: 0.0184 - accuracy: 0.9937 - false_negatives: 95.0000 - false_positives: 95.0000 - val_loss: 0.2856 - val_accuracy: 0.9306 - val_false_negatives: 69.0000 - val_false_positives: 69.0000\n",
            "Epoch 29/50\n",
            "1881/1881 [==============================] - 51s 27ms/step - loss: 0.0211 - accuracy: 0.9934 - false_negatives: 100.0000 - false_positives: 100.0000 - val_loss: 0.3392 - val_accuracy: 0.9215 - val_false_negatives: 78.0000 - val_false_positives: 78.0000\n",
            "Epoch 30/50\n",
            "1881/1881 [==============================] - 50s 27ms/step - loss: 0.0219 - accuracy: 0.9929 - false_negatives: 107.0000 - false_positives: 107.0000 - val_loss: 0.2326 - val_accuracy: 0.9366 - val_false_negatives: 63.0000 - val_false_positives: 63.0000\n",
            "Epoch 31/50\n",
            "1881/1881 [==============================] - 51s 27ms/step - loss: 0.0192 - accuracy: 0.9926 - false_negatives: 111.0000 - false_positives: 111.0000 - val_loss: 0.2544 - val_accuracy: 0.9376 - val_false_negatives: 62.0000 - val_false_positives: 62.0000\n",
            "Epoch 32/50\n",
            "1881/1881 [==============================] - 51s 27ms/step - loss: 0.0192 - accuracy: 0.9932 - false_negatives: 102.0000 - false_positives: 102.0000 - val_loss: 0.2665 - val_accuracy: 0.9416 - val_false_negatives: 58.0000 - val_false_positives: 58.0000\n",
            "Epoch 33/50\n",
            "1881/1881 [==============================] - 50s 27ms/step - loss: 0.0177 - accuracy: 0.9935 - false_negatives: 98.0000 - false_positives: 98.0000 - val_loss: 0.2773 - val_accuracy: 0.9376 - val_false_negatives: 62.0000 - val_false_positives: 62.0000\n",
            "Epoch 34/50\n",
            "1881/1881 [==============================] - 51s 27ms/step - loss: 0.0190 - accuracy: 0.9934 - false_negatives: 100.0000 - false_positives: 100.0000 - val_loss: 0.2619 - val_accuracy: 0.9386 - val_false_negatives: 61.0000 - val_false_positives: 61.0000\n",
            "Epoch 35/50\n",
            "1881/1881 [==============================] - 51s 27ms/step - loss: 0.0200 - accuracy: 0.9932 - false_negatives: 102.0000 - false_positives: 102.0000 - val_loss: 0.2600 - val_accuracy: 0.9356 - val_false_negatives: 64.0000 - val_false_positives: 64.0000\n",
            "Epoch 36/50\n",
            "1881/1881 [==============================] - 50s 27ms/step - loss: 0.0173 - accuracy: 0.9933 - false_negatives: 101.0000 - false_positives: 101.0000 - val_loss: 0.2501 - val_accuracy: 0.9406 - val_false_negatives: 59.0000 - val_false_positives: 59.0000\n",
            "Epoch 37/50\n",
            "1881/1881 [==============================] - 51s 27ms/step - loss: 0.0161 - accuracy: 0.9945 - false_negatives: 83.0000 - false_positives: 83.0000 - val_loss: 0.3129 - val_accuracy: 0.9276 - val_false_negatives: 72.0000 - val_false_positives: 72.0000\n",
            "Epoch 38/50\n",
            "1881/1881 [==============================] - 50s 27ms/step - loss: 0.0182 - accuracy: 0.9934 - false_negatives: 99.0000 - false_positives: 99.0000 - val_loss: 0.3110 - val_accuracy: 0.9316 - val_false_negatives: 68.0000 - val_false_positives: 68.0000\n",
            "Epoch 39/50\n",
            "1881/1881 [==============================] - 51s 27ms/step - loss: 0.0162 - accuracy: 0.9940 - false_negatives: 91.0000 - false_positives: 91.0000 - val_loss: 0.2811 - val_accuracy: 0.9356 - val_false_negatives: 64.0000 - val_false_positives: 64.0000\n",
            "Epoch 40/50\n",
            "1881/1881 [==============================] - 51s 27ms/step - loss: 0.0198 - accuracy: 0.9923 - false_negatives: 116.0000 - false_positives: 116.0000 - val_loss: 0.3644 - val_accuracy: 0.9175 - val_false_negatives: 82.0000 - val_false_positives: 82.0000\n",
            "Epoch 41/50\n",
            "1881/1881 [==============================] - 50s 27ms/step - loss: 0.0173 - accuracy: 0.9937 - false_negatives: 95.0000 - false_positives: 95.0000 - val_loss: 0.3288 - val_accuracy: 0.9326 - val_false_negatives: 67.0000 - val_false_positives: 67.0000\n",
            "Epoch 42/50\n",
            "1881/1881 [==============================] - 51s 27ms/step - loss: 0.0215 - accuracy: 0.9924 - false_negatives: 115.0000 - false_positives: 115.0000 - val_loss: 0.2568 - val_accuracy: 0.9356 - val_false_negatives: 64.0000 - val_false_positives: 64.0000\n",
            "Epoch 43/50\n",
            "1881/1881 [==============================] - 51s 27ms/step - loss: 0.0182 - accuracy: 0.9929 - false_negatives: 107.0000 - false_positives: 107.0000 - val_loss: 0.2862 - val_accuracy: 0.9326 - val_false_negatives: 67.0000 - val_false_positives: 67.0000\n",
            "Epoch 44/50\n",
            "1881/1881 [==============================] - 50s 27ms/step - loss: 0.0185 - accuracy: 0.9940 - false_negatives: 91.0000 - false_positives: 91.0000 - val_loss: 0.3781 - val_accuracy: 0.9195 - val_false_negatives: 80.0000 - val_false_positives: 80.0000\n",
            "Epoch 45/50\n",
            "1881/1881 [==============================] - 51s 27ms/step - loss: 0.0182 - accuracy: 0.9940 - false_negatives: 90.0000 - false_positives: 90.0000 - val_loss: 0.3202 - val_accuracy: 0.9356 - val_false_negatives: 64.0000 - val_false_positives: 64.0000\n",
            "Epoch 46/50\n",
            "1881/1881 [==============================] - 50s 27ms/step - loss: 0.0180 - accuracy: 0.9934 - false_negatives: 100.0000 - false_positives: 100.0000 - val_loss: 0.2592 - val_accuracy: 0.9376 - val_false_negatives: 62.0000 - val_false_positives: 62.0000\n",
            "Epoch 47/50\n",
            "1881/1881 [==============================] - 50s 27ms/step - loss: 0.0210 - accuracy: 0.9933 - false_negatives: 101.0000 - false_positives: 101.0000 - val_loss: 0.3323 - val_accuracy: 0.9245 - val_false_negatives: 75.0000 - val_false_positives: 75.0000\n",
            "Epoch 48/50\n",
            "1881/1881 [==============================] - 51s 27ms/step - loss: 0.0162 - accuracy: 0.9942 - false_negatives: 87.0000 - false_positives: 87.0000 - val_loss: 0.3224 - val_accuracy: 0.9225 - val_false_negatives: 77.0000 - val_false_positives: 77.0000\n",
            "Epoch 49/50\n",
            "1881/1881 [==============================] - 50s 27ms/step - loss: 0.0182 - accuracy: 0.9941 - false_negatives: 88.0000 - false_positives: 88.0000 - val_loss: 0.2626 - val_accuracy: 0.9336 - val_false_negatives: 66.0000 - val_false_positives: 66.0000\n",
            "Epoch 50/50\n",
            "1881/1881 [==============================] - 51s 27ms/step - loss: 0.0166 - accuracy: 0.9943 - false_negatives: 85.0000 - false_positives: 85.0000 - val_loss: 0.3061 - val_accuracy: 0.9276 - val_false_negatives: 72.0000 - val_false_positives: 72.0000\n"
          ]
        }
      ]
    },
    {
      "cell_type": "code",
      "metadata": {
        "colab": {
          "base_uri": "https://localhost:8080/"
        },
        "id": "MdsIBkySZY4P",
        "outputId": "37090258-b35a-4c35-f991-7328dbb47673"
      },
      "source": [
        "model.evaluate(dset.testArrayX,dset.testArrayY)"
      ],
      "execution_count": null,
      "outputs": [
        {
          "name": "stdout",
          "output_type": "stream",
          "text": [
            "32/32 [==============================] - 7s 74ms/step - loss: 0.2312 - accuracy: 0.9457 - true_negatives: 940.0000 - false_positives: 54.0000\n"
          ]
        },
        {
          "data": {
            "text/plain": [
              "[0.2311551570892334, 0.9456740617752075, 940.0, 54.0]"
            ]
          },
          "execution_count": 9,
          "metadata": {},
          "output_type": "execute_result"
        }
      ]
    },
    {
      "cell_type": "markdown",
      "metadata": {
        "id": "InNSOauJWbST"
      },
      "source": [
        "#ACCURACY VISUALIZATION"
      ]
    },
    {
      "cell_type": "code",
      "metadata": {
        "colab": {
          "base_uri": "https://localhost:8080/",
          "height": 295
        },
        "id": "RUKYtBMn2AQy",
        "outputId": "478b7280-15d0-47f8-b463-e8aa35f16e54"
      },
      "source": [
        "import keras\n",
        "from matplotlib import pyplot as plt\n",
        "plt.plot(history.history['accuracy'])\n",
        "plt.plot(history.history['val_accuracy'])\n",
        "plt.title('model accuracy')\n",
        "plt.ylabel('accuracy')\n",
        "plt.xlabel('epoch')\n",
        "plt.legend(['train', 'val'], loc='upper left')\n",
        "plt.show()"
      ],
      "execution_count": null,
      "outputs": [
        {
          "data": {
            "image/png": "[encoded data removed]",
            "text/plain": [
              "<Figure size 432x288 with 1 Axes>"
            ]
          },
          "metadata": {},
          "output_type": "display_data"
        }
      ]
    },
    {
      "cell_type": "markdown",
      "metadata": {
        "id": "LhPXVC4aWeZQ"
      },
      "source": [
        "#TEST"
      ]
    },
    {
      "cell_type": "code",
      "metadata": {
        "colab": {
          "base_uri": "https://localhost:8080/"
        },
        "id": "9Az71s0SXtM4",
        "outputId": "3da20498-9cfc-4b5d-f432-c2d4321fcc81"
      },
      "source": [
        "model_json = model.to_json()\n",
        "with open(\"/content/drive/MyDrive/Adsız klasör/modelvgghighest.json\", \"w\") as json_file:\n",
        "    json_file.write(model_json)\n",
        "# serialize weights to HDF5\n",
        "model.save_weights(\"/content/drive/MyDrive/Adsız klasör/modelvgghighest.h5\")\n",
        "print(\"Saved model to disk\")"
      ],
      "execution_count": null,
      "outputs": [
        {
          "name": "stdout",
          "output_type": "stream",
          "text": [
            "Saved model to disk\n"
          ]
        }
      ]
    },
    {
      "cell_type": "code",
      "metadata": {
        "id": "OUDPrEXk2SsW"
      },
      "source": [
        "from tensorflow.keras.models import model_from_json\n",
        "json_file = open(\"/content/drive/MyDrive/mkurtModel/modelAugmented.json\", 'r')\n",
        "loaded_modelm = json_file.read()\n",
        "json_file.close()\n",
        "loaded_model = model_from_json(loaded_modelm)\n",
        "# load weights into new model\n",
        "loaded_model.load_weights(\"/content/drive/MyDrive/mkurtModel/modelAugmented.h5\")\n"
      ],
      "execution_count": null,
      "outputs": []
    },
    {
      "cell_type": "code",
      "metadata": {
        "id": "3TqscOiuN-QG"
      },
      "source": [
        "loaded_model.compile()"
      ],
      "execution_count": null,
      "outputs": []
    },
    {
      "cell_type": "code",
      "metadata": {
        "colab": {
          "base_uri": "https://localhost:8080/"
        },
        "id": "lXEZ7YYINeXF",
        "outputId": "5dd8002c-64dd-4105-d7d6-0695198d6c99"
      },
      "source": [
        "model.evaluate(dset.testArrayX,dset.testArrayY)"
      ],
      "execution_count": null,
      "outputs": [
        {
          "name": "stdout",
          "output_type": "stream",
          "text": [
            "32/32 [==============================] - 7s 73ms/step - loss: 0.2312 - accuracy: 0.9457 - false_negatives: 54.0000 - false_positives: 54.0000\n"
          ]
        },
        {
          "data": {
            "text/plain": [
              "[0.231155127286911, 0.9456740617752075, 54.0, 54.0]"
            ]
          },
          "execution_count": 10,
          "metadata": {},
          "output_type": "execute_result"
        }
      ]
    },
    {
      "cell_type": "markdown",
      "metadata": {
        "id": "kXaMYepZYA3V"
      },
      "source": [
        "# UNET MODEL DATA PREPROCESS"
      ]
    },
    {
      "cell_type": "code",
      "metadata": {
        "id": "t1LMq7k3Ypl2"
      },
      "source": [
        "import os\n",
        "import numpy as np\n",
        "import matplotlib.pyplot as plt\n",
        "import time\n",
        "from skimage import io\n",
        "import cv2\n",
        "import random\n",
        "\n",
        "import tensorflow as tf"
      ],
      "execution_count": null,
      "outputs": []
    },
    {
      "cell_type": "code",
      "metadata": {
        "id": "Mx9qNbmbN9dp"
      },
      "source": [
        "dset.trainingArrayX=dset.trainingArrayX.astype('float32')\n",
        "dset.trainingArrayY=dset.trainingArrayY.astype('float32')\n",
        "dset.testArrayX=dset.testArrayX.astype('float32')\n",
        "dset.testArrayY=dset.testArrayY.astype('float32')"
      ],
      "execution_count": null,
      "outputs": []
    },
    {
      "cell_type": "code",
      "metadata": {
        "id": "XiUx4QmeYHZd"
      },
      "source": [
        "\n",
        "for i in range(len(dset.trainingArrayX)):\n",
        "  dset.trainingArrayX[i]=dset.trainingArrayX[i]/255.\n",
        "  dset.trainingArrayY[i]=dset.trainingArrayY[i]/255.\n",
        "  "
      ],
      "execution_count": null,
      "outputs": []
    },
    {
      "cell_type": "code",
      "metadata": {
        "id": "d3pPq-YgYH42"
      },
      "source": [
        "for i in range(len(dset.testArrayX)):\n",
        "  dset.testArrayX[i]=dset.testArrayX[i]/255.\n",
        "  dset.testArrayY[i]=dset.testArrayY[i]/255."
      ],
      "execution_count": null,
      "outputs": []
    },
    {
      "cell_type": "code",
      "metadata": {
        "id": "viFKVv95zkxQ"
      },
      "source": [
        "number=0"
      ],
      "execution_count": null,
      "outputs": []
    },
    {
      "cell_type": "code",
      "metadata": {
        "colab": {
          "base_uri": "https://localhost:8080/",
          "height": 298
        },
        "id": "-B9fcD59zjqv",
        "outputId": "5807b158-4a6a-4acb-cd90-a56a9c635331"
      },
      "source": [
        "from matplotlib import pyplot as plt\n",
        "plt.figure(figsize=(15,15))\n",
        "plt.subplot(231)\n",
        "plt.imshow(dset.trainingArrayX[number],cmap='gray')\n",
        "plt.subplot(232)\n",
        "plt.imshow(dset.trainingArrayY[number])\n",
        "number+=1"
      ],
      "execution_count": null,
      "outputs": [
        {
          "output_type": "display_data",
          "data": {
            "image/png": "[encoded data removed]",
            "text/plain": [
              "<Figure size 1080x1080 with 2 Axes>"
            ]
          },
          "metadata": {
            "needs_background": "light"
          }
        }
      ]
    },
    {
      "cell_type": "markdown",
      "metadata": {
        "id": "V-ZnFvBjWk8X"
      },
      "source": [
        "#UNET MODEL CONSTRUCTION"
      ]
    },
    {
      "cell_type": "code",
      "metadata": {
        "colab": {
          "base_uri": "https://localhost:8080/"
        },
        "id": "-WstfebvYIQ9",
        "outputId": "fada6190-5bb8-4ab9-e0f5-eb4c726c566c"
      },
      "source": [
        "!pip install -U segmentation-models"
      ],
      "execution_count": null,
      "outputs": [
        {
          "output_type": "stream",
          "name": "stdout",
          "text": [
            "Collecting segmentation-models\n",
            "  Downloading segmentation_models-1.0.1-py3-none-any.whl (33 kB)\n",
            "Collecting image-classifiers==1.0.0\n",
            "  Downloading image_classifiers-1.0.0-py3-none-any.whl (19 kB)\n",
            "Collecting efficientnet==1.0.0\n",
            "  Downloading efficientnet-1.0.0-py3-none-any.whl (17 kB)\n",
            "Collecting keras-applications<=1.0.8,>=1.0.7\n",
            "  Downloading Keras_Applications-1.0.8-py3-none-any.whl (50 kB)\n",
            "\u001b[K     |████████████████████████████████| 50 kB 8.3 MB/s \n",
            "\u001b[?25hRequirement already satisfied: scikit-image in /usr/local/lib/python3.7/dist-packages (from efficientnet==1.0.0->segmentation-models) (0.16.2)\n",
            "Requirement already satisfied: numpy>=1.9.1 in /usr/local/lib/python3.7/dist-packages (from keras-applications<=1.0.8,>=1.0.7->segmentation-models) (1.19.5)\n",
            "Requirement already satisfied: h5py in /usr/local/lib/python3.7/dist-packages (from keras-applications<=1.0.8,>=1.0.7->segmentation-models) (3.1.0)\n",
            "Requirement already satisfied: cached-property in /usr/local/lib/python3.7/dist-packages (from h5py->keras-applications<=1.0.8,>=1.0.7->segmentation-models) (1.5.2)\n",
            "Requirement already satisfied: matplotlib!=3.0.0,>=2.0.0 in /usr/local/lib/python3.7/dist-packages (from scikit-image->efficientnet==1.0.0->segmentation-models) (3.2.2)\n",
            "Requirement already satisfied: PyWavelets>=0.4.0 in /usr/local/lib/python3.7/dist-packages (from scikit-image->efficientnet==1.0.0->segmentation-models) (1.1.1)\n",
            "Requirement already satisfied: networkx>=2.0 in /usr/local/lib/python3.7/dist-packages (from scikit-image->efficientnet==1.0.0->segmentation-models) (2.6.3)\n",
            "Requirement already satisfied: scipy>=0.19.0 in /usr/local/lib/python3.7/dist-packages (from scikit-image->efficientnet==1.0.0->segmentation-models) (1.4.1)\n",
            "Requirement already satisfied: imageio>=2.3.0 in /usr/local/lib/python3.7/dist-packages (from scikit-image->efficientnet==1.0.0->segmentation-models) (2.4.1)\n",
            "Requirement already satisfied: pillow>=4.3.0 in /usr/local/lib/python3.7/dist-packages (from scikit-image->efficientnet==1.0.0->segmentation-models) (7.1.2)\n",
            "Requirement already satisfied: pyparsing!=2.0.4,!=2.1.2,!=2.1.6,>=2.0.1 in /usr/local/lib/python3.7/dist-packages (from matplotlib!=3.0.0,>=2.0.0->scikit-image->efficientnet==1.0.0->segmentation-models) (2.4.7)\n",
            "Requirement already satisfied: python-dateutil>=2.1 in /usr/local/lib/python3.7/dist-packages (from matplotlib!=3.0.0,>=2.0.0->scikit-image->efficientnet==1.0.0->segmentation-models) (2.8.2)\n",
            "Requirement already satisfied: cycler>=0.10 in /usr/local/lib/python3.7/dist-packages (from matplotlib!=3.0.0,>=2.0.0->scikit-image->efficientnet==1.0.0->segmentation-models) (0.10.0)\n",
            "Requirement already satisfied: kiwisolver>=1.0.1 in /usr/local/lib/python3.7/dist-packages (from matplotlib!=3.0.0,>=2.0.0->scikit-image->efficientnet==1.0.0->segmentation-models) (1.3.2)\n",
            "Requirement already satisfied: six in /usr/local/lib/python3.7/dist-packages (from cycler>=0.10->matplotlib!=3.0.0,>=2.0.0->scikit-image->efficientnet==1.0.0->segmentation-models) (1.15.0)\n",
            "Installing collected packages: keras-applications, image-classifiers, efficientnet, segmentation-models\n",
            "Successfully installed efficientnet-1.0.0 image-classifiers-1.0.0 keras-applications-1.0.8 segmentation-models-1.0.1\n"
          ]
        }
      ]
    },
    {
      "cell_type": "code",
      "metadata": {
        "colab": {
          "base_uri": "https://localhost:8080/",
          "height": 54
        },
        "id": "RzXnc5fSYL9u",
        "outputId": "e0575288-326f-458c-dcd1-8e180ea00b5f"
      },
      "source": [
        "import segmentation_models as sm\n",
        "sm.set_framework('tf.keras')\n",
        "sm.framework()"
      ],
      "execution_count": null,
      "outputs": [
        {
          "output_type": "stream",
          "name": "stdout",
          "text": [
            "Segmentation Models: using `keras` framework.\n"
          ]
        },
        {
          "output_type": "execute_result",
          "data": {
            "application/vnd.google.colaboratory.intrinsic+json": {
              "type": "string"
            },
            "text/plain": [
              "'tf.keras'"
            ]
          },
          "metadata": {},
          "execution_count": 14
        }
      ]
    },
    {
      "cell_type": "code",
      "metadata": {
        "colab": {
          "base_uri": "https://localhost:8080/"
        },
        "id": "VUbTDC_wYL4J",
        "outputId": "7a00ca16-de8e-4640-80ad-5195552367a5"
      },
      "source": [
        "import keras\n",
        "import tensorflow as tf\n",
        "print(keras.__version__)\n",
        "print(tf.__version__)\n",
        "#from keras.utils import normalize\n",
        "import os\n",
        "import glob\n",
        "import cv2\n",
        "import numpy as np\n",
        "from matplotlib import pyplot as plt\n",
        "from segmentation_models.losses import cce_jaccard_loss\n",
        "from segmentation_models.metrics import iou_score"
      ],
      "execution_count": null,
      "outputs": [
        {
          "output_type": "stream",
          "name": "stdout",
          "text": [
            "2.6.0\n",
            "2.6.0\n"
          ]
        }
      ]
    },
    {
      "cell_type": "code",
      "metadata": {
        "id": "5V38YK5qYLtU",
        "colab": {
          "base_uri": "https://localhost:8080/"
        },
        "outputId": "85fe71c0-4458-4f15-8ad4-d8969fd0802d"
      },
      "source": [
        "from tensorflow.keras.layers import Input,Conv2D,Rescaling\n",
        "from tensorflow.keras import Model\n",
        "base_model = sm.Unet('densenet201', classes=3, activation='softmax',encoder_weights='imagenet',decoder_use_batchnorm=True)\n",
        "inp = Input(shape=(None, None, 1))\n",
        "l1 = Conv2D(3, (1, 1))(inp) # map N channels data to 3 channels\n",
        "\n",
        "out = base_model(l1)\n",
        "\n",
        "\n",
        "model = Model(inp, out, name=base_model.name)\n",
        "#model=base_model"
      ],
      "execution_count": null,
      "outputs": [
        {
          "output_type": "stream",
          "name": "stdout",
          "text": [
            "Downloading data from https://github.com/keras-team/keras-applications/releases/download/densenet/densenet201_weights_tf_dim_ordering_tf_kernels_notop.h5\n",
            "74842112/74836368 [==============================] - 1s 0us/step\n",
            "74850304/74836368 [==============================] - 1s 0us/step\n"
          ]
        }
      ]
    },
    {
      "cell_type": "markdown",
      "metadata": {
        "id": "wv4dkglFWn8E"
      },
      "source": [
        "#UNET MODEL TRAINING"
      ]
    },
    {
      "cell_type": "code",
      "metadata": {
        "id": "XcfO0rWTYLnE"
      },
      "source": [
        "model.load_weights('/content/drive/MyDrive/SegmentModelLastDay/sondenemeki.h5')\n",
        "\n",
        "dice_loss = sm.losses.DiceLoss(class_indexes=np.array([0,1])) \n",
        "focal_loss = sm.losses.CategoricalCELoss(class_indexes=np.array([0,1]))\n",
        "jaccard_loss=sm.losses.JaccardLoss(class_indexes=np.array([0,1]))\n",
        "total_loss = dice_loss \n",
        "adam=tf.keras.optimizers.Adam(learning_rate=0.0001) \n",
        "metrics = [sm.metrics.IOUScore(class_indexes=np.array([0,1])),sm.metrics.FScore(threshold=0.5,class_indexes=np.array([0,1]))]\n",
        "model.compile(optimizer=adam,loss=dice_loss,metrics=metrics)"
      ],
      "execution_count": null,
      "outputs": []
    },
    {
      "cell_type": "code",
      "metadata": {
        "id": "9sclnQFhYV8n"
      },
      "source": [
        "checkpoint_filepath = '/content/drive/MyDrive/SegmentModelLastDay/sondenemeki.h5'\n",
        "model_checkpoint_callback = tf.keras.callbacks.ModelCheckpoint(\n",
        "    filepath=checkpoint_filepath,\n",
        "    monitor='val_iou_score',\n",
        "    mode='max',\n",
        "    save_best_only=True,\n",
        "    save_weights_only=True)\n"
      ],
      "execution_count": null,
      "outputs": []
    },
    {
      "cell_type": "code",
      "metadata": {
        "colab": {
          "base_uri": "https://localhost:8080/"
        },
        "id": "zR5h6C2WgbBw",
        "outputId": "d7789611-d352-49c9-e400-144a18b58afd"
      },
      "source": [
        "model.fit(\n",
        "   x=dset.trainingArrayX,\n",
        "   y=dset.trainingArrayY,\n",
        "   batch_size=16,\n",
        "   epochs=200,\n",
        "   validation_data=(dset.testArrayX, dset.testArrayY),\n",
        "   callbacks=[model_checkpoint_callback],\n",
        ")"
      ],
      "execution_count": null,
      "outputs": [
        {
          "output_type": "stream",
          "name": "stdout",
          "text": [
            "Epoch 1/200\n"
          ]
        },
        {
          "output_type": "stream",
          "name": "stderr",
          "text": [
            "/usr/local/lib/python3.7/dist-packages/tensorflow/python/framework/indexed_slices.py:449: UserWarning: Converting sparse IndexedSlices(IndexedSlices(indices=Tensor(\"gradient_tape/dice_loss/Reshape_4:0\", shape=(2,), dtype=int64), values=Tensor(\"gradient_tape/dice_loss/Reshape_3:0\", shape=(2, None, 256, 256), dtype=float32), dense_shape=Tensor(\"gradient_tape/dice_loss/Cast:0\", shape=(4,), dtype=int32))) to a dense Tensor of unknown shape. This may consume a large amount of memory.\n",
            "  \"shape. This may consume a large amount of memory.\" % value)\n"
          ]
        },
        {
          "output_type": "stream",
          "name": "stdout",
          "text": [
            "332/332 [==============================] - 91s 201ms/step - loss: 0.8505 - iou_score: 0.0923 - f1-score: 0.2064 - val_loss: 0.7842 - val_iou_score: 0.1371 - val_f1-score: 0.2510\n",
            "Epoch 2/200\n",
            "332/332 [==============================] - 60s 179ms/step - loss: 0.7028 - iou_score: 0.2100 - f1-score: 0.3093 - val_loss: 0.6983 - val_iou_score: 0.2149 - val_f1-score: 0.3088\n",
            "Epoch 3/200\n",
            "332/332 [==============================] - 60s 180ms/step - loss: 0.5253 - iou_score: 0.3518 - f1-score: 0.5037 - val_loss: 0.4105 - val_iou_score: 0.4356 - val_f1-score: 0.6081\n",
            "Epoch 4/200\n",
            "332/332 [==============================] - 60s 180ms/step - loss: 0.2721 - iou_score: 0.5831 - f1-score: 0.7368 - val_loss: 0.2993 - val_iou_score: 0.5530 - val_f1-score: 0.7071\n",
            "Epoch 5/200\n",
            "332/332 [==============================] - 60s 180ms/step - loss: 0.2562 - iou_score: 0.6043 - f1-score: 0.7484 - val_loss: 0.2399 - val_iou_score: 0.6276 - val_f1-score: 0.7646\n",
            "Epoch 6/200\n",
            "332/332 [==============================] - 60s 180ms/step - loss: 0.2243 - iou_score: 0.6450 - f1-score: 0.7786 - val_loss: 0.2602 - val_iou_score: 0.6074 - val_f1-score: 0.7427\n",
            "Epoch 7/200\n",
            "332/332 [==============================] - 60s 180ms/step - loss: 0.2117 - iou_score: 0.6616 - f1-score: 0.7907 - val_loss: 0.2572 - val_iou_score: 0.6111 - val_f1-score: 0.7467\n",
            "Epoch 8/200\n",
            "332/332 [==============================] - 60s 180ms/step - loss: 0.2033 - iou_score: 0.6717 - f1-score: 0.7986 - val_loss: 0.2425 - val_iou_score: 0.6306 - val_f1-score: 0.7601\n",
            "Epoch 9/200\n",
            "332/332 [==============================] - 60s 180ms/step - loss: 0.1974 - iou_score: 0.6805 - f1-score: 0.8039 - val_loss: 0.2316 - val_iou_score: 0.6377 - val_f1-score: 0.7708\n",
            "Epoch 10/200\n",
            "332/332 [==============================] - 60s 179ms/step - loss: 0.1904 - iou_score: 0.6893 - f1-score: 0.8111 - val_loss: 0.2503 - val_iou_score: 0.6199 - val_f1-score: 0.7513\n",
            "Epoch 11/200\n",
            "332/332 [==============================] - 60s 179ms/step - loss: 0.1779 - iou_score: 0.7058 - f1-score: 0.8233 - val_loss: 0.2251 - val_iou_score: 0.6513 - val_f1-score: 0.7768\n",
            "Epoch 12/200\n",
            "332/332 [==============================] - 60s 179ms/step - loss: 0.1744 - iou_score: 0.7107 - f1-score: 0.8267 - val_loss: 0.2515 - val_iou_score: 0.6141 - val_f1-score: 0.7498\n",
            "Epoch 13/200\n",
            "332/332 [==============================] - 60s 179ms/step - loss: 0.1662 - iou_score: 0.7228 - f1-score: 0.8348 - val_loss: 0.2169 - val_iou_score: 0.6592 - val_f1-score: 0.7849\n",
            "Epoch 14/200\n",
            "332/332 [==============================] - 60s 180ms/step - loss: 0.1629 - iou_score: 0.7265 - f1-score: 0.8379 - val_loss: 0.2789 - val_iou_score: 0.5832 - val_f1-score: 0.7221\n",
            "Epoch 15/200\n",
            "332/332 [==============================] - 60s 179ms/step - loss: 0.1693 - iou_score: 0.7187 - f1-score: 0.8313 - val_loss: 0.2204 - val_iou_score: 0.6572 - val_f1-score: 0.7809\n",
            "Epoch 16/200\n",
            "332/332 [==============================] - 60s 179ms/step - loss: 0.1636 - iou_score: 0.7257 - f1-score: 0.8372 - val_loss: 0.2151 - val_iou_score: 0.6607 - val_f1-score: 0.7868\n",
            "Epoch 17/200\n",
            "332/332 [==============================] - 60s 179ms/step - loss: 0.1538 - iou_score: 0.7401 - f1-score: 0.8470 - val_loss: 0.2229 - val_iou_score: 0.6541 - val_f1-score: 0.7793\n",
            "Epoch 18/200\n",
            "332/332 [==============================] - 60s 179ms/step - loss: 0.1463 - iou_score: 0.7504 - f1-score: 0.8545 - val_loss: 0.2182 - val_iou_score: 0.6599 - val_f1-score: 0.7831\n",
            "Epoch 19/200\n",
            "332/332 [==============================] - 60s 179ms/step - loss: 0.1446 - iou_score: 0.7531 - f1-score: 0.8561 - val_loss: 0.2079 - val_iou_score: 0.6725 - val_f1-score: 0.7939\n",
            "Epoch 20/200\n",
            "332/332 [==============================] - 60s 179ms/step - loss: 0.1419 - iou_score: 0.7570 - f1-score: 0.8588 - val_loss: 0.2209 - val_iou_score: 0.6540 - val_f1-score: 0.7798\n",
            "Epoch 21/200\n",
            "332/332 [==============================] - 59s 179ms/step - loss: 0.1387 - iou_score: 0.7609 - f1-score: 0.8617 - val_loss: 0.2078 - val_iou_score: 0.6689 - val_f1-score: 0.7930\n",
            "Epoch 22/200\n",
            "332/332 [==============================] - 60s 179ms/step - loss: 0.1343 - iou_score: 0.7683 - f1-score: 0.8663 - val_loss: 0.2142 - val_iou_score: 0.6632 - val_f1-score: 0.7865\n",
            "Epoch 23/200\n",
            "332/332 [==============================] - 60s 179ms/step - loss: 0.1324 - iou_score: 0.7704 - f1-score: 0.8682 - val_loss: 0.2151 - val_iou_score: 0.6643 - val_f1-score: 0.7853\n",
            "Epoch 24/200\n",
            "332/332 [==============================] - 60s 179ms/step - loss: 0.1245 - iou_score: 0.7821 - f1-score: 0.8760 - val_loss: 0.2126 - val_iou_score: 0.6655 - val_f1-score: 0.7889\n",
            "Epoch 25/200\n",
            "332/332 [==============================] - 60s 179ms/step - loss: 0.1352 - iou_score: 0.7668 - f1-score: 0.8654 - val_loss: 0.2056 - val_iou_score: 0.6719 - val_f1-score: 0.7955\n",
            "Epoch 26/200\n",
            "332/332 [==============================] - 60s 179ms/step - loss: 0.1243 - iou_score: 0.7823 - f1-score: 0.8761 - val_loss: 0.2161 - val_iou_score: 0.6614 - val_f1-score: 0.7856\n",
            "Epoch 27/200\n",
            "332/332 [==============================] - 59s 179ms/step - loss: 0.1234 - iou_score: 0.7840 - f1-score: 0.8770 - val_loss: 0.1994 - val_iou_score: 0.6808 - val_f1-score: 0.8015\n",
            "Epoch 28/200\n",
            "332/332 [==============================] - 59s 179ms/step - loss: 0.1213 - iou_score: 0.7868 - f1-score: 0.8791 - val_loss: 0.2057 - val_iou_score: 0.6711 - val_f1-score: 0.7944\n",
            "Epoch 29/200\n",
            "332/332 [==============================] - 60s 179ms/step - loss: 0.1172 - iou_score: 0.7933 - f1-score: 0.8832 - val_loss: 0.1924 - val_iou_score: 0.6899 - val_f1-score: 0.8088\n",
            "Epoch 30/200\n",
            "332/332 [==============================] - 60s 180ms/step - loss: 0.1100 - iou_score: 0.8042 - f1-score: 0.8904 - val_loss: 0.1911 - val_iou_score: 0.6910 - val_f1-score: 0.8096\n",
            "Epoch 31/200\n",
            "332/332 [==============================] - 60s 179ms/step - loss: 0.1107 - iou_score: 0.8037 - f1-score: 0.8896 - val_loss: 0.2215 - val_iou_score: 0.6578 - val_f1-score: 0.7803\n",
            "Epoch 32/200\n",
            "332/332 [==============================] - 60s 180ms/step - loss: 0.1153 - iou_score: 0.7967 - f1-score: 0.8851 - val_loss: 0.2060 - val_iou_score: 0.6723 - val_f1-score: 0.7951\n",
            "Epoch 33/200\n",
            "332/332 [==============================] - 60s 179ms/step - loss: 0.1072 - iou_score: 0.8087 - f1-score: 0.8930 - val_loss: 0.2008 - val_iou_score: 0.6794 - val_f1-score: 0.7999\n",
            "Epoch 34/200\n",
            "332/332 [==============================] - 60s 179ms/step - loss: 0.1069 - iou_score: 0.8093 - f1-score: 0.8934 - val_loss: 0.1992 - val_iou_score: 0.6833 - val_f1-score: 0.8015\n",
            "Epoch 35/200\n",
            "332/332 [==============================] - 60s 179ms/step - loss: 0.1032 - iou_score: 0.8151 - f1-score: 0.8971 - val_loss: 0.2191 - val_iou_score: 0.6583 - val_f1-score: 0.7817\n",
            "Epoch 36/200\n",
            "332/332 [==============================] - 60s 179ms/step - loss: 0.1007 - iou_score: 0.8193 - f1-score: 0.8997 - val_loss: 0.1986 - val_iou_score: 0.6854 - val_f1-score: 0.8030\n",
            "Epoch 37/200\n",
            "332/332 [==============================] - 60s 179ms/step - loss: 0.1125 - iou_score: 0.8007 - f1-score: 0.8878 - val_loss: 0.2152 - val_iou_score: 0.6626 - val_f1-score: 0.7861\n",
            "Epoch 38/200\n",
            "332/332 [==============================] - 60s 179ms/step - loss: 0.1140 - iou_score: 0.7985 - f1-score: 0.8862 - val_loss: 0.2027 - val_iou_score: 0.6789 - val_f1-score: 0.7974\n",
            "Epoch 39/200\n",
            "332/332 [==============================] - 60s 179ms/step - loss: 0.1033 - iou_score: 0.8156 - f1-score: 0.8971 - val_loss: 0.2012 - val_iou_score: 0.6818 - val_f1-score: 0.7996\n",
            "Epoch 40/200\n",
            "332/332 [==============================] - 60s 180ms/step - loss: 0.1012 - iou_score: 0.8189 - f1-score: 0.8991 - val_loss: 0.2251 - val_iou_score: 0.6522 - val_f1-score: 0.7766\n",
            "Epoch 41/200\n",
            "332/332 [==============================] - 59s 179ms/step - loss: 0.1020 - iou_score: 0.8176 - f1-score: 0.8983 - val_loss: 0.2016 - val_iou_score: 0.6804 - val_f1-score: 0.7999\n",
            "Epoch 42/200\n",
            "332/332 [==============================] - 60s 179ms/step - loss: 0.0970 - iou_score: 0.8257 - f1-score: 0.9033 - val_loss: 0.2017 - val_iou_score: 0.6810 - val_f1-score: 0.7994\n",
            "Epoch 43/200\n",
            "332/332 [==============================] - 60s 179ms/step - loss: 0.0926 - iou_score: 0.8324 - f1-score: 0.9070 - val_loss: 0.2103 - val_iou_score: 0.6704 - val_f1-score: 0.7910\n",
            "Epoch 44/200\n",
            "332/332 [==============================] - 60s 179ms/step - loss: 0.0929 - iou_score: 0.8319 - f1-score: 0.9073 - val_loss: 0.1902 - val_iou_score: 0.6944 - val_f1-score: 0.8106\n",
            "Epoch 45/200\n",
            "332/332 [==============================] - 60s 180ms/step - loss: 0.0885 - iou_score: 0.8392 - f1-score: 0.9119 - val_loss: 0.1991 - val_iou_score: 0.6839 - val_f1-score: 0.8017\n",
            "Epoch 46/200\n",
            "332/332 [==============================] - 60s 179ms/step - loss: 0.0888 - iou_score: 0.8388 - f1-score: 0.9116 - val_loss: 0.1943 - val_iou_score: 0.6897 - val_f1-score: 0.8069\n",
            "Epoch 47/200\n",
            "332/332 [==============================] - 60s 179ms/step - loss: 0.0905 - iou_score: 0.8359 - f1-score: 0.9097 - val_loss: 0.2033 - val_iou_score: 0.6806 - val_f1-score: 0.7984\n",
            "Epoch 48/200\n",
            "332/332 [==============================] - 60s 179ms/step - loss: 0.0904 - iou_score: 0.8361 - f1-score: 0.9099 - val_loss: 0.1962 - val_iou_score: 0.6871 - val_f1-score: 0.8052\n",
            "Epoch 49/200\n",
            "332/332 [==============================] - 60s 179ms/step - loss: 0.0893 - iou_score: 0.8388 - f1-score: 0.9125 - val_loss: 0.1932 - val_iou_score: 0.6911 - val_f1-score: 0.8081\n",
            "Epoch 50/200\n",
            "332/332 [==============================] - 60s 179ms/step - loss: 0.0857 - iou_score: 0.8440 - f1-score: 0.9145 - val_loss: 0.1936 - val_iou_score: 0.6901 - val_f1-score: 0.8075\n",
            "Epoch 51/200\n",
            "332/332 [==============================] - 60s 179ms/step - loss: 0.0900 - iou_score: 0.8369 - f1-score: 0.9103 - val_loss: 0.2015 - val_iou_score: 0.6795 - val_f1-score: 0.7992\n",
            "Epoch 52/200\n",
            "332/332 [==============================] - 60s 179ms/step - loss: 0.0849 - iou_score: 0.8453 - f1-score: 0.9154 - val_loss: 0.1977 - val_iou_score: 0.6843 - val_f1-score: 0.8032\n",
            "Epoch 53/200\n",
            "332/332 [==============================] - 60s 179ms/step - loss: 0.0811 - iou_score: 0.8514 - f1-score: 0.9191 - val_loss: 0.1972 - val_iou_score: 0.6865 - val_f1-score: 0.8040\n",
            "Epoch 54/200\n",
            "332/332 [==============================] - 60s 180ms/step - loss: 0.1095 - iou_score: 0.8071 - f1-score: 0.8907 - val_loss: 0.2050 - val_iou_score: 0.6771 - val_f1-score: 0.7962\n",
            "Epoch 55/200\n",
            "332/332 [==============================] - 60s 179ms/step - loss: 0.0982 - iou_score: 0.8241 - f1-score: 0.9021 - val_loss: 0.2171 - val_iou_score: 0.6624 - val_f1-score: 0.7841\n",
            "Epoch 56/200\n",
            "332/332 [==============================] - 60s 180ms/step - loss: 0.0868 - iou_score: 0.8419 - f1-score: 0.9132 - val_loss: 0.2001 - val_iou_score: 0.6831 - val_f1-score: 0.8010\n",
            "Epoch 57/200\n",
            "332/332 [==============================] - 60s 179ms/step - loss: 0.0793 - iou_score: 0.8543 - f1-score: 0.9210 - val_loss: 0.2038 - val_iou_score: 0.6804 - val_f1-score: 0.7977\n",
            "Epoch 58/200\n",
            "332/332 [==============================] - 60s 180ms/step - loss: 0.0787 - iou_score: 0.8562 - f1-score: 0.9215 - val_loss: 0.1919 - val_iou_score: 0.6932 - val_f1-score: 0.8094\n",
            "Epoch 59/200\n",
            "332/332 [==============================] - 60s 180ms/step - loss: 0.0777 - iou_score: 0.8571 - f1-score: 0.9223 - val_loss: 0.1936 - val_iou_score: 0.6911 - val_f1-score: 0.8076\n",
            "Epoch 60/200\n",
            "332/332 [==============================] - 60s 180ms/step - loss: 0.0761 - iou_score: 0.8601 - f1-score: 0.9241 - val_loss: 0.2097 - val_iou_score: 0.6709 - val_f1-score: 0.7914\n",
            "Epoch 61/200\n",
            "332/332 [==============================] - 60s 179ms/step - loss: 0.0797 - iou_score: 0.8545 - f1-score: 0.9205 - val_loss: 0.2933 - val_iou_score: 0.5737 - val_f1-score: 0.7091\n",
            "Epoch 62/200\n",
            "332/332 [==============================] - 60s 179ms/step - loss: 0.1091 - iou_score: 0.8085 - f1-score: 0.8912 - val_loss: 0.1978 - val_iou_score: 0.6865 - val_f1-score: 0.8035\n",
            "Epoch 63/200\n",
            "332/332 [==============================] - 60s 179ms/step - loss: 0.0853 - iou_score: 0.8455 - f1-score: 0.9149 - val_loss: 0.2024 - val_iou_score: 0.6809 - val_f1-score: 0.7989\n",
            "Epoch 64/200\n",
            "332/332 [==============================] - 60s 179ms/step - loss: 0.0795 - iou_score: 0.8553 - f1-score: 0.9208 - val_loss: 0.1985 - val_iou_score: 0.6861 - val_f1-score: 0.8028\n",
            "Epoch 65/200\n",
            "332/332 [==============================] - 60s 180ms/step - loss: 0.0769 - iou_score: 0.8593 - f1-score: 0.9234 - val_loss: 0.1918 - val_iou_score: 0.6945 - val_f1-score: 0.8096\n",
            "Epoch 66/200\n",
            "332/332 [==============================] - 60s 180ms/step - loss: 0.0730 - iou_score: 0.8654 - f1-score: 0.9272 - val_loss: 0.1939 - val_iou_score: 0.6911 - val_f1-score: 0.8077\n",
            "Epoch 67/200\n",
            "332/332 [==============================] - 60s 179ms/step - loss: 0.0755 - iou_score: 0.8614 - f1-score: 0.9248 - val_loss: 0.1988 - val_iou_score: 0.6859 - val_f1-score: 0.8028\n",
            "Epoch 68/200\n",
            "332/332 [==============================] - 60s 180ms/step - loss: 0.0723 - iou_score: 0.8665 - f1-score: 0.9278 - val_loss: 0.1970 - val_iou_score: 0.6871 - val_f1-score: 0.8044\n",
            "Epoch 69/200\n",
            "332/332 [==============================] - 60s 180ms/step - loss: 0.0703 - iou_score: 0.8700 - f1-score: 0.9300 - val_loss: 0.1937 - val_iou_score: 0.6918 - val_f1-score: 0.8077\n",
            "Epoch 70/200\n",
            "332/332 [==============================] - 60s 179ms/step - loss: 0.0708 - iou_score: 0.8691 - f1-score: 0.9292 - val_loss: 0.1931 - val_iou_score: 0.6920 - val_f1-score: 0.8082\n",
            "Epoch 71/200\n",
            "332/332 [==============================] - 60s 180ms/step - loss: 0.0697 - iou_score: 0.8708 - f1-score: 0.9305 - val_loss: 0.1943 - val_iou_score: 0.6905 - val_f1-score: 0.8069\n",
            "Epoch 72/200\n",
            "332/332 [==============================] - 60s 179ms/step - loss: 0.0695 - iou_score: 0.8711 - f1-score: 0.9306 - val_loss: 0.1921 - val_iou_score: 0.6932 - val_f1-score: 0.8095\n",
            "Epoch 73/200\n",
            "332/332 [==============================] - 60s 179ms/step - loss: 0.0692 - iou_score: 0.8715 - f1-score: 0.9310 - val_loss: 0.1928 - val_iou_score: 0.6929 - val_f1-score: 0.8086\n",
            "Epoch 74/200\n",
            "332/332 [==============================] - 60s 179ms/step - loss: 0.0699 - iou_score: 0.8703 - f1-score: 0.9302 - val_loss: 0.2041 - val_iou_score: 0.6778 - val_f1-score: 0.7972\n",
            "Epoch 75/200\n",
            "332/332 [==============================] - 60s 179ms/step - loss: 0.0947 - iou_score: 0.8304 - f1-score: 0.9054 - val_loss: 0.2049 - val_iou_score: 0.6771 - val_f1-score: 0.7963\n",
            "Epoch 76/200\n",
            "332/332 [==============================] - 60s 179ms/step - loss: 0.0819 - iou_score: 0.8503 - f1-score: 0.9183 - val_loss: 0.2053 - val_iou_score: 0.6745 - val_f1-score: 0.7953\n",
            "Epoch 77/200\n",
            "332/332 [==============================] - 60s 180ms/step - loss: 0.0727 - iou_score: 0.8656 - f1-score: 0.9275 - val_loss: 0.1947 - val_iou_score: 0.6898 - val_f1-score: 0.8063\n",
            "Epoch 78/200\n",
            "332/332 [==============================] - 60s 179ms/step - loss: 0.0671 - iou_score: 0.8753 - f1-score: 0.9332 - val_loss: 0.1954 - val_iou_score: 0.6895 - val_f1-score: 0.8059\n",
            "Epoch 79/200\n",
            "332/332 [==============================] - 60s 179ms/step - loss: 0.0658 - iou_score: 0.8777 - f1-score: 0.9344 - val_loss: 0.1935 - val_iou_score: 0.6922 - val_f1-score: 0.8080\n",
            "Epoch 80/200\n",
            "332/332 [==============================] - 60s 179ms/step - loss: 0.0644 - iou_score: 0.8800 - f1-score: 0.9358 - val_loss: 0.1953 - val_iou_score: 0.6896 - val_f1-score: 0.8062\n",
            "Epoch 81/200\n",
            "332/332 [==============================] - 60s 179ms/step - loss: 0.0635 - iou_score: 0.8816 - f1-score: 0.9368 - val_loss: 0.1949 - val_iou_score: 0.6897 - val_f1-score: 0.8063\n",
            "Epoch 82/200\n",
            "332/332 [==============================] - 60s 180ms/step - loss: 0.0644 - iou_score: 0.8803 - f1-score: 0.9359 - val_loss: 0.1947 - val_iou_score: 0.6895 - val_f1-score: 0.8064\n",
            "Epoch 83/200\n",
            "332/332 [==============================] - 60s 180ms/step - loss: 0.0636 - iou_score: 0.8814 - f1-score: 0.9366 - val_loss: 0.1946 - val_iou_score: 0.6903 - val_f1-score: 0.8066\n",
            "Epoch 84/200\n",
            "332/332 [==============================] - 60s 180ms/step - loss: 0.0645 - iou_score: 0.8800 - f1-score: 0.9356 - val_loss: 0.1963 - val_iou_score: 0.6889 - val_f1-score: 0.8050\n",
            "Epoch 85/200\n",
            "332/332 [==============================] - 60s 180ms/step - loss: 0.0654 - iou_score: 0.8793 - f1-score: 0.9348 - val_loss: 0.1946 - val_iou_score: 0.6900 - val_f1-score: 0.8063\n",
            "Epoch 86/200\n",
            "332/332 [==============================] - 60s 179ms/step - loss: 0.0695 - iou_score: 0.8716 - f1-score: 0.9307 - val_loss: 0.2003 - val_iou_score: 0.6832 - val_f1-score: 0.8003\n",
            "Epoch 87/200\n",
            "332/332 [==============================] - 60s 179ms/step - loss: 0.0654 - iou_score: 0.8783 - f1-score: 0.9347 - val_loss: 0.1940 - val_iou_score: 0.6910 - val_f1-score: 0.8070\n",
            "Epoch 88/200\n",
            "332/332 [==============================] - 60s 180ms/step - loss: 0.0651 - iou_score: 0.8786 - f1-score: 0.9350 - val_loss: 0.1989 - val_iou_score: 0.6856 - val_f1-score: 0.8020\n",
            "Epoch 89/200\n",
            "332/332 [==============================] - 60s 180ms/step - loss: 0.0625 - iou_score: 0.8834 - f1-score: 0.9377 - val_loss: 0.1992 - val_iou_score: 0.6846 - val_f1-score: 0.8019\n",
            "Epoch 90/200\n",
            "332/332 [==============================] - 60s 180ms/step - loss: 0.0668 - iou_score: 0.8760 - f1-score: 0.9334 - val_loss: 0.2036 - val_iou_score: 0.6794 - val_f1-score: 0.7976\n",
            "Epoch 91/200\n",
            "332/332 [==============================] - 60s 180ms/step - loss: 0.0661 - iou_score: 0.8772 - f1-score: 0.9338 - val_loss: 0.2045 - val_iou_score: 0.6786 - val_f1-score: 0.7965\n",
            "Epoch 92/200\n",
            "332/332 [==============================] - 60s 179ms/step - loss: 0.0651 - iou_score: 0.8788 - f1-score: 0.9350 - val_loss: 0.1913 - val_iou_score: 0.6952 - val_f1-score: 0.8098\n",
            "Epoch 93/200\n",
            "332/332 [==============================] - 60s 180ms/step - loss: 0.0605 - iou_score: 0.8866 - f1-score: 0.9396 - val_loss: 0.1911 - val_iou_score: 0.6947 - val_f1-score: 0.8097\n",
            "Epoch 94/200\n",
            "332/332 [==============================] - 60s 180ms/step - loss: 0.0597 - iou_score: 0.8884 - f1-score: 0.9405 - val_loss: 0.1962 - val_iou_score: 0.6860 - val_f1-score: 0.8044\n",
            "Epoch 95/200\n",
            "332/332 [==============================] - 60s 180ms/step - loss: 0.0594 - iou_score: 0.8888 - f1-score: 0.9409 - val_loss: 0.1898 - val_iou_score: 0.6957 - val_f1-score: 0.8111\n",
            "Epoch 96/200\n",
            "332/332 [==============================] - 60s 180ms/step - loss: 0.0592 - iou_score: 0.8893 - f1-score: 0.9410 - val_loss: 0.1954 - val_iou_score: 0.6904 - val_f1-score: 0.8056\n",
            "Epoch 97/200\n",
            "332/332 [==============================] - 60s 179ms/step - loss: 0.0618 - iou_score: 0.8847 - f1-score: 0.9383 - val_loss: 0.2156 - val_iou_score: 0.6639 - val_f1-score: 0.7857\n",
            "Epoch 98/200\n",
            "332/332 [==============================] - 60s 179ms/step - loss: 0.0670 - iou_score: 0.8758 - f1-score: 0.9330 - val_loss: 0.1994 - val_iou_score: 0.6834 - val_f1-score: 0.8006\n",
            "Epoch 99/200\n",
            "332/332 [==============================] - 60s 179ms/step - loss: 0.0610 - iou_score: 0.8859 - f1-score: 0.9391 - val_loss: 0.2017 - val_iou_score: 0.6808 - val_f1-score: 0.7996\n",
            "Epoch 100/200\n",
            "332/332 [==============================] - 60s 180ms/step - loss: 0.0583 - iou_score: 0.8907 - f1-score: 0.9418 - val_loss: 0.1939 - val_iou_score: 0.6911 - val_f1-score: 0.8072\n",
            "Epoch 101/200\n",
            "332/332 [==============================] - 60s 180ms/step - loss: 0.0571 - iou_score: 0.8929 - f1-score: 0.9431 - val_loss: 0.1893 - val_iou_score: 0.6958 - val_f1-score: 0.8111\n",
            "Epoch 102/200\n",
            "332/332 [==============================] - 60s 180ms/step - loss: 0.0642 - iou_score: 0.8804 - f1-score: 0.9360 - val_loss: 0.1999 - val_iou_score: 0.6856 - val_f1-score: 0.8014\n",
            "Epoch 103/200\n",
            "332/332 [==============================] - 60s 179ms/step - loss: 0.0591 - iou_score: 0.8894 - f1-score: 0.9411 - val_loss: 0.1918 - val_iou_score: 0.6950 - val_f1-score: 0.8091\n",
            "Epoch 104/200\n",
            "332/332 [==============================] - 60s 180ms/step - loss: 0.0565 - iou_score: 0.8939 - f1-score: 0.9437 - val_loss: 0.1923 - val_iou_score: 0.6941 - val_f1-score: 0.8089\n",
            "Epoch 105/200\n",
            "332/332 [==============================] - 60s 179ms/step - loss: 0.0548 - iou_score: 0.8969 - f1-score: 0.9454 - val_loss: 0.1917 - val_iou_score: 0.6946 - val_f1-score: 0.8095\n",
            "Epoch 106/200\n",
            "332/332 [==============================] - 60s 180ms/step - loss: 0.0555 - iou_score: 0.8956 - f1-score: 0.9447 - val_loss: 0.1903 - val_iou_score: 0.6961 - val_f1-score: 0.8107\n",
            "Epoch 107/200\n",
            "332/332 [==============================] - 60s 180ms/step - loss: 0.0548 - iou_score: 0.8968 - f1-score: 0.9454 - val_loss: 0.1914 - val_iou_score: 0.6941 - val_f1-score: 0.8097\n",
            "Epoch 108/200\n",
            "332/332 [==============================] - 60s 180ms/step - loss: 0.0543 - iou_score: 0.8977 - f1-score: 0.9459 - val_loss: 0.1875 - val_iou_score: 0.6997 - val_f1-score: 0.8135\n",
            "Epoch 109/200\n",
            "332/332 [==============================] - 60s 180ms/step - loss: 0.0543 - iou_score: 0.8979 - f1-score: 0.9459 - val_loss: 0.1879 - val_iou_score: 0.6992 - val_f1-score: 0.8131\n",
            "Epoch 110/200\n",
            "332/332 [==============================] - 60s 180ms/step - loss: 0.0542 - iou_score: 0.8979 - f1-score: 0.9460 - val_loss: 0.1924 - val_iou_score: 0.6932 - val_f1-score: 0.8087\n",
            "Epoch 111/200\n",
            "332/332 [==============================] - 60s 180ms/step - loss: 0.0567 - iou_score: 0.8934 - f1-score: 0.9435 - val_loss: 0.1996 - val_iou_score: 0.6843 - val_f1-score: 0.8014\n",
            "Epoch 112/200\n",
            "332/332 [==============================] - 60s 180ms/step - loss: 0.0567 - iou_score: 0.8936 - f1-score: 0.9435 - val_loss: 0.1920 - val_iou_score: 0.6939 - val_f1-score: 0.8089\n",
            "Epoch 113/200\n",
            "332/332 [==============================] - 60s 180ms/step - loss: 0.0623 - iou_score: 0.8838 - f1-score: 0.9386 - val_loss: 0.2321 - val_iou_score: 0.6418 - val_f1-score: 0.7693\n",
            "Epoch 114/200\n",
            "332/332 [==============================] - 60s 180ms/step - loss: 0.0667 - iou_score: 0.8764 - f1-score: 0.9335 - val_loss: 0.2010 - val_iou_score: 0.6836 - val_f1-score: 0.8004\n",
            "Epoch 115/200\n",
            "332/332 [==============================] - 60s 179ms/step - loss: 0.0557 - iou_score: 0.8951 - f1-score: 0.9444 - val_loss: 0.1996 - val_iou_score: 0.6841 - val_f1-score: 0.8014\n",
            "Epoch 116/200\n",
            "332/332 [==============================] - 60s 180ms/step - loss: 0.0543 - iou_score: 0.8982 - f1-score: 0.9459 - val_loss: 0.1980 - val_iou_score: 0.6859 - val_f1-score: 0.8029\n",
            "Epoch 117/200\n",
            "332/332 [==============================] - 60s 180ms/step - loss: 0.0513 - iou_score: 0.9030 - f1-score: 0.9488 - val_loss: 0.1912 - val_iou_score: 0.6953 - val_f1-score: 0.8101\n",
            "Epoch 118/200\n",
            "332/332 [==============================] - 60s 180ms/step - loss: 0.0520 - iou_score: 0.9018 - f1-score: 0.9481 - val_loss: 0.1954 - val_iou_score: 0.6892 - val_f1-score: 0.8058\n",
            "Epoch 119/200\n",
            "332/332 [==============================] - 60s 180ms/step - loss: 0.0511 - iou_score: 0.9036 - f1-score: 0.9491 - val_loss: 0.1955 - val_iou_score: 0.6889 - val_f1-score: 0.8057\n",
            "Epoch 120/200\n",
            "332/332 [==============================] - 60s 180ms/step - loss: 0.0507 - iou_score: 0.9038 - f1-score: 0.9493 - val_loss: 0.1978 - val_iou_score: 0.6873 - val_f1-score: 0.8034\n",
            "Epoch 121/200\n",
            "332/332 [==============================] - 60s 180ms/step - loss: 0.0504 - iou_score: 0.9047 - f1-score: 0.9498 - val_loss: 0.1971 - val_iou_score: 0.6870 - val_f1-score: 0.8039\n",
            "Epoch 122/200\n",
            "332/332 [==============================] - 60s 180ms/step - loss: 0.0533 - iou_score: 0.8998 - f1-score: 0.9469 - val_loss: 0.1999 - val_iou_score: 0.6840 - val_f1-score: 0.8014\n",
            "Epoch 123/200\n",
            "332/332 [==============================] - 60s 180ms/step - loss: 0.0509 - iou_score: 0.9036 - f1-score: 0.9492 - val_loss: 0.1958 - val_iou_score: 0.6881 - val_f1-score: 0.8053\n",
            "Epoch 124/200\n",
            "332/332 [==============================] - 60s 180ms/step - loss: 0.0505 - iou_score: 0.9045 - f1-score: 0.9496 - val_loss: 0.1947 - val_iou_score: 0.6895 - val_f1-score: 0.8066\n",
            "Epoch 125/200\n",
            "332/332 [==============================] - 60s 180ms/step - loss: 0.0504 - iou_score: 0.9047 - f1-score: 0.9497 - val_loss: 0.1905 - val_iou_score: 0.6956 - val_f1-score: 0.8108\n",
            "Epoch 126/200\n",
            "332/332 [==============================] - 60s 180ms/step - loss: 0.0497 - iou_score: 0.9057 - f1-score: 0.9504 - val_loss: 0.1969 - val_iou_score: 0.6884 - val_f1-score: 0.8043\n",
            "Epoch 127/200\n",
            "332/332 [==============================] - 60s 180ms/step - loss: 0.0504 - iou_score: 0.9046 - f1-score: 0.9497 - val_loss: 0.1935 - val_iou_score: 0.6903 - val_f1-score: 0.8073\n",
            "Epoch 128/200\n",
            "332/332 [==============================] - 60s 180ms/step - loss: 0.0503 - iou_score: 0.9048 - f1-score: 0.9498 - val_loss: 0.2001 - val_iou_score: 0.6825 - val_f1-score: 0.8007\n",
            "Epoch 129/200\n",
            "332/332 [==============================] - 60s 180ms/step - loss: 0.0495 - iou_score: 0.9062 - f1-score: 0.9507 - val_loss: 0.1923 - val_iou_score: 0.6915 - val_f1-score: 0.8085\n",
            "Epoch 130/200\n",
            "332/332 [==============================] - 60s 180ms/step - loss: 0.0489 - iou_score: 0.9074 - f1-score: 0.9512 - val_loss: 0.1965 - val_iou_score: 0.6873 - val_f1-score: 0.8046\n",
            "Epoch 131/200\n",
            "332/332 [==============================] - 60s 180ms/step - loss: 0.0492 - iou_score: 0.9065 - f1-score: 0.9508 - val_loss: 0.1898 - val_iou_score: 0.6952 - val_f1-score: 0.8111\n",
            "Epoch 132/200\n",
            "332/332 [==============================] - 60s 180ms/step - loss: 0.0502 - iou_score: 0.9048 - f1-score: 0.9498 - val_loss: 0.1891 - val_iou_score: 0.6971 - val_f1-score: 0.8121\n",
            "Epoch 133/200\n",
            "332/332 [==============================] - 60s 180ms/step - loss: 0.0491 - iou_score: 0.9068 - f1-score: 0.9509 - val_loss: 0.1918 - val_iou_score: 0.6934 - val_f1-score: 0.8092\n",
            "Epoch 134/200\n",
            "332/332 [==============================] - 60s 179ms/step - loss: 0.0489 - iou_score: 0.9074 - f1-score: 0.9513 - val_loss: 0.2049 - val_iou_score: 0.6789 - val_f1-score: 0.7962\n",
            "Epoch 135/200\n",
            "332/332 [==============================] - 60s 180ms/step - loss: 0.0644 - iou_score: 0.8807 - f1-score: 0.9358 - val_loss: 0.1994 - val_iou_score: 0.6819 - val_f1-score: 0.8018\n",
            "Epoch 136/200\n",
            "332/332 [==============================] - 60s 180ms/step - loss: 0.0552 - iou_score: 0.8963 - f1-score: 0.9449 - val_loss: 0.1918 - val_iou_score: 0.6934 - val_f1-score: 0.8093\n",
            "Epoch 137/200\n",
            "332/332 [==============================] - 60s 180ms/step - loss: 0.0490 - iou_score: 0.9071 - f1-score: 0.9511 - val_loss: 0.1912 - val_iou_score: 0.6938 - val_f1-score: 0.8097\n",
            "Epoch 138/200\n",
            "332/332 [==============================] - 60s 180ms/step - loss: 0.0474 - iou_score: 0.9100 - f1-score: 0.9527 - val_loss: 0.1862 - val_iou_score: 0.6998 - val_f1-score: 0.8148\n",
            "Epoch 139/200\n",
            "332/332 [==============================] - 60s 180ms/step - loss: 0.0458 - iou_score: 0.9129 - f1-score: 0.9543 - val_loss: 0.1908 - val_iou_score: 0.6955 - val_f1-score: 0.8104\n",
            "Epoch 140/200\n",
            "332/332 [==============================] - 60s 180ms/step - loss: 0.0461 - iou_score: 0.9125 - f1-score: 0.9540 - val_loss: 0.1945 - val_iou_score: 0.6911 - val_f1-score: 0.8067\n",
            "Epoch 141/200\n",
            "332/332 [==============================] - 60s 180ms/step - loss: 0.0455 - iou_score: 0.9135 - f1-score: 0.9547 - val_loss: 0.1899 - val_iou_score: 0.6962 - val_f1-score: 0.8114\n",
            "Epoch 142/200\n",
            "332/332 [==============================] - 60s 180ms/step - loss: 0.0462 - iou_score: 0.9122 - f1-score: 0.9539 - val_loss: 0.1917 - val_iou_score: 0.6947 - val_f1-score: 0.8093\n",
            "Epoch 143/200\n",
            "332/332 [==============================] - 60s 180ms/step - loss: 0.0463 - iou_score: 0.9121 - f1-score: 0.9539 - val_loss: 0.1905 - val_iou_score: 0.6957 - val_f1-score: 0.8107\n",
            "Epoch 144/200\n",
            "332/332 [==============================] - 60s 180ms/step - loss: 0.0561 - iou_score: 0.8953 - f1-score: 0.9440 - val_loss: 0.2137 - val_iou_score: 0.6636 - val_f1-score: 0.7873\n",
            "Epoch 145/200\n",
            "332/332 [==============================] - 60s 180ms/step - loss: 0.0776 - iou_score: 0.8583 - f1-score: 0.9225 - val_loss: 0.2088 - val_iou_score: 0.6710 - val_f1-score: 0.7926\n",
            "Epoch 146/200\n",
            "332/332 [==============================] - 60s 180ms/step - loss: 0.0553 - iou_score: 0.8958 - f1-score: 0.9448 - val_loss: 0.1966 - val_iou_score: 0.6870 - val_f1-score: 0.8046\n",
            "Epoch 147/200\n",
            "332/332 [==============================] - 60s 180ms/step - loss: 0.0476 - iou_score: 0.9096 - f1-score: 0.9526 - val_loss: 0.1972 - val_iou_score: 0.6865 - val_f1-score: 0.8041\n",
            "Epoch 148/200\n",
            "332/332 [==============================] - 60s 180ms/step - loss: 0.0452 - iou_score: 0.9139 - f1-score: 0.9549 - val_loss: 0.1933 - val_iou_score: 0.6909 - val_f1-score: 0.8079\n",
            "Epoch 149/200\n",
            "332/332 [==============================] - 60s 180ms/step - loss: 0.0444 - iou_score: 0.9153 - f1-score: 0.9557 - val_loss: 0.1975 - val_iou_score: 0.6861 - val_f1-score: 0.8037\n",
            "Epoch 150/200\n",
            "332/332 [==============================] - 60s 180ms/step - loss: 0.0447 - iou_score: 0.9151 - f1-score: 0.9554 - val_loss: 0.1930 - val_iou_score: 0.6916 - val_f1-score: 0.8082\n",
            "Epoch 151/200\n",
            "332/332 [==============================] - 60s 180ms/step - loss: 0.0432 - iou_score: 0.9177 - f1-score: 0.9570 - val_loss: 0.1922 - val_iou_score: 0.6922 - val_f1-score: 0.8091\n",
            "Epoch 152/200\n",
            "332/332 [==============================] - 60s 180ms/step - loss: 0.0439 - iou_score: 0.9161 - f1-score: 0.9561 - val_loss: 0.1919 - val_iou_score: 0.6923 - val_f1-score: 0.8092\n",
            "Epoch 153/200\n",
            "332/332 [==============================] - 60s 180ms/step - loss: 0.0440 - iou_score: 0.9162 - f1-score: 0.9561 - val_loss: 0.1928 - val_iou_score: 0.6908 - val_f1-score: 0.8083\n",
            "Epoch 154/200\n",
            "332/332 [==============================] - 60s 180ms/step - loss: 0.0436 - iou_score: 0.9168 - f1-score: 0.9565 - val_loss: 0.1884 - val_iou_score: 0.6966 - val_f1-score: 0.8127\n",
            "Epoch 155/200\n",
            "332/332 [==============================] - 60s 180ms/step - loss: 0.0439 - iou_score: 0.9163 - f1-score: 0.9562 - val_loss: 0.1938 - val_iou_score: 0.6893 - val_f1-score: 0.8071\n",
            "Epoch 156/200\n",
            "332/332 [==============================] - 60s 180ms/step - loss: 0.0463 - iou_score: 0.9134 - f1-score: 0.9538 - val_loss: 0.1915 - val_iou_score: 0.6929 - val_f1-score: 0.8095\n",
            "Epoch 157/200\n",
            "332/332 [==============================] - 60s 180ms/step - loss: 0.0450 - iou_score: 0.9143 - f1-score: 0.9551 - val_loss: 0.2101 - val_iou_score: 0.6700 - val_f1-score: 0.7912\n",
            "Epoch 158/200\n",
            "332/332 [==============================] - 60s 180ms/step - loss: 0.0453 - iou_score: 0.9138 - f1-score: 0.9548 - val_loss: 0.2006 - val_iou_score: 0.6819 - val_f1-score: 0.8007\n",
            "Epoch 159/200\n",
            "332/332 [==============================] - 60s 180ms/step - loss: 0.0456 - iou_score: 0.9133 - f1-score: 0.9545 - val_loss: 0.1937 - val_iou_score: 0.6901 - val_f1-score: 0.8073\n",
            "Epoch 160/200\n",
            "332/332 [==============================] - 60s 180ms/step - loss: 0.0443 - iou_score: 0.9155 - f1-score: 0.9558 - val_loss: 0.1981 - val_iou_score: 0.6855 - val_f1-score: 0.8031\n",
            "Epoch 161/200\n",
            "332/332 [==============================] - 60s 180ms/step - loss: 0.0449 - iou_score: 0.9144 - f1-score: 0.9552 - val_loss: 0.1954 - val_iou_score: 0.6886 - val_f1-score: 0.8056\n",
            "Epoch 162/200\n",
            "332/332 [==============================] - 60s 180ms/step - loss: 0.0450 - iou_score: 0.9144 - f1-score: 0.9552 - val_loss: 0.1924 - val_iou_score: 0.6922 - val_f1-score: 0.8085\n",
            "Epoch 163/200\n",
            "332/332 [==============================] - 60s 180ms/step - loss: 0.0445 - iou_score: 0.9152 - f1-score: 0.9556 - val_loss: 0.1919 - val_iou_score: 0.6924 - val_f1-score: 0.8091\n",
            "Epoch 164/200\n",
            "332/332 [==============================] - 60s 181ms/step - loss: 0.0447 - iou_score: 0.9149 - f1-score: 0.9554 - val_loss: 0.1936 - val_iou_score: 0.6906 - val_f1-score: 0.8076\n",
            "Epoch 165/200\n",
            "332/332 [==============================] - 60s 180ms/step - loss: 0.0468 - iou_score: 0.9113 - f1-score: 0.9533 - val_loss: 0.1955 - val_iou_score: 0.6886 - val_f1-score: 0.8057\n",
            "Epoch 166/200\n",
            "332/332 [==============================] - 60s 180ms/step - loss: 0.0439 - iou_score: 0.9163 - f1-score: 0.9562 - val_loss: 0.1881 - val_iou_score: 0.6971 - val_f1-score: 0.8128\n",
            "Epoch 167/200\n",
            "332/332 [==============================] - 60s 180ms/step - loss: 0.0433 - iou_score: 0.9174 - f1-score: 0.9568 - val_loss: 0.1876 - val_iou_score: 0.6985 - val_f1-score: 0.8137\n",
            "Epoch 168/200\n",
            "332/332 [==============================] - 60s 179ms/step - loss: 0.0437 - iou_score: 0.9167 - f1-score: 0.9564 - val_loss: 0.1903 - val_iou_score: 0.6953 - val_f1-score: 0.8109\n",
            "Epoch 169/200\n",
            "332/332 [==============================] - 59s 179ms/step - loss: 0.0443 - iou_score: 0.9155 - f1-score: 0.9557 - val_loss: 0.1869 - val_iou_score: 0.6991 - val_f1-score: 0.8142\n",
            "Epoch 170/200\n",
            "332/332 [==============================] - 59s 179ms/step - loss: 0.0430 - iou_score: 0.9180 - f1-score: 0.9572 - val_loss: 0.1918 - val_iou_score: 0.6933 - val_f1-score: 0.8092\n",
            "Epoch 171/200\n",
            "332/332 [==============================] - 59s 179ms/step - loss: 0.0432 - iou_score: 0.9176 - f1-score: 0.9569 - val_loss: 0.1872 - val_iou_score: 0.6990 - val_f1-score: 0.8140\n",
            "Epoch 172/200\n",
            "332/332 [==============================] - 60s 179ms/step - loss: 0.0428 - iou_score: 0.9182 - f1-score: 0.9572 - val_loss: 0.1852 - val_iou_score: 0.7020 - val_f1-score: 0.8162\n",
            "Epoch 173/200\n",
            "332/332 [==============================] - 59s 179ms/step - loss: 0.0433 - iou_score: 0.9176 - f1-score: 0.9569 - val_loss: 0.1873 - val_iou_score: 0.6990 - val_f1-score: 0.8139\n",
            "Epoch 174/200\n",
            "332/332 [==============================] - 59s 179ms/step - loss: 0.0426 - iou_score: 0.9185 - f1-score: 0.9574 - val_loss: 0.1862 - val_iou_score: 0.6998 - val_f1-score: 0.8148\n",
            "Epoch 175/200\n",
            "332/332 [==============================] - 59s 179ms/step - loss: 0.0427 - iou_score: 0.9186 - f1-score: 0.9574 - val_loss: 0.1906 - val_iou_score: 0.6940 - val_f1-score: 0.8104\n",
            "Epoch 176/200\n",
            "332/332 [==============================] - 59s 179ms/step - loss: 0.0424 - iou_score: 0.9189 - f1-score: 0.9577 - val_loss: 0.1885 - val_iou_score: 0.6969 - val_f1-score: 0.8127\n",
            "Epoch 177/200\n",
            "332/332 [==============================] - 59s 179ms/step - loss: 0.0428 - iou_score: 0.9182 - f1-score: 0.9572 - val_loss: 0.1913 - val_iou_score: 0.6928 - val_f1-score: 0.8097\n",
            "Epoch 178/200\n",
            "332/332 [==============================] - 59s 179ms/step - loss: 0.0431 - iou_score: 0.9179 - f1-score: 0.9571 - val_loss: 0.1882 - val_iou_score: 0.6980 - val_f1-score: 0.8131\n",
            "Epoch 179/200\n",
            "332/332 [==============================] - 59s 179ms/step - loss: 0.0422 - iou_score: 0.9194 - f1-score: 0.9579 - val_loss: 0.1930 - val_iou_score: 0.6924 - val_f1-score: 0.8083\n",
            "Epoch 180/200\n",
            "332/332 [==============================] - 59s 179ms/step - loss: 0.0415 - iou_score: 0.9206 - f1-score: 0.9586 - val_loss: 0.1887 - val_iou_score: 0.6970 - val_f1-score: 0.8125\n",
            "Epoch 181/200\n",
            "332/332 [==============================] - 59s 179ms/step - loss: 0.0429 - iou_score: 0.9182 - f1-score: 0.9571 - val_loss: 0.1869 - val_iou_score: 0.6988 - val_f1-score: 0.8144\n",
            "Epoch 182/200\n",
            "332/332 [==============================] - 59s 179ms/step - loss: 0.0418 - iou_score: 0.9201 - f1-score: 0.9583 - val_loss: 0.1878 - val_iou_score: 0.6983 - val_f1-score: 0.8134\n",
            "Epoch 183/200\n",
            "332/332 [==============================] - 59s 179ms/step - loss: 0.0417 - iou_score: 0.9202 - f1-score: 0.9584 - val_loss: 0.1925 - val_iou_score: 0.6924 - val_f1-score: 0.8087\n",
            "Epoch 184/200\n",
            "332/332 [==============================] - 59s 179ms/step - loss: 0.0416 - iou_score: 0.9205 - f1-score: 0.9585 - val_loss: 0.1912 - val_iou_score: 0.6936 - val_f1-score: 0.8100\n",
            "Epoch 185/200\n",
            "332/332 [==============================] - 59s 179ms/step - loss: 0.0435 - iou_score: 0.9171 - f1-score: 0.9566 - val_loss: 0.2149 - val_iou_score: 0.6639 - val_f1-score: 0.7864\n",
            "Epoch 186/200\n",
            "332/332 [==============================] - 60s 179ms/step - loss: 0.0465 - iou_score: 0.9116 - f1-score: 0.9536 - val_loss: 0.2022 - val_iou_score: 0.6815 - val_f1-score: 0.7988\n",
            "Epoch 187/200\n",
            "332/332 [==============================] - 60s 180ms/step - loss: 0.0413 - iou_score: 0.9210 - f1-score: 0.9588 - val_loss: 0.1916 - val_iou_score: 0.6934 - val_f1-score: 0.8095\n",
            "Epoch 188/200\n",
            "332/332 [==============================] - 60s 180ms/step - loss: 0.0406 - iou_score: 0.9222 - f1-score: 0.9595 - val_loss: 0.1915 - val_iou_score: 0.6938 - val_f1-score: 0.8097\n",
            "Epoch 189/200\n",
            "332/332 [==============================] - 60s 180ms/step - loss: 0.0399 - iou_score: 0.9235 - f1-score: 0.9601 - val_loss: 0.1940 - val_iou_score: 0.6911 - val_f1-score: 0.8070\n",
            "Epoch 190/200\n",
            "332/332 [==============================] - 60s 180ms/step - loss: 0.0396 - iou_score: 0.9240 - f1-score: 0.9604 - val_loss: 0.1897 - val_iou_score: 0.6959 - val_f1-score: 0.8112\n",
            "Epoch 191/200\n",
            "332/332 [==============================] - 60s 180ms/step - loss: 0.0398 - iou_score: 0.9237 - f1-score: 0.9602 - val_loss: 0.1944 - val_iou_score: 0.6892 - val_f1-score: 0.8065\n",
            "Epoch 192/200\n",
            "332/332 [==============================] - 60s 180ms/step - loss: 0.0409 - iou_score: 0.9218 - f1-score: 0.9592 - val_loss: 0.1920 - val_iou_score: 0.6921 - val_f1-score: 0.8089\n",
            "Epoch 193/200\n",
            "332/332 [==============================] - 60s 179ms/step - loss: 0.0409 - iou_score: 0.9219 - f1-score: 0.9592 - val_loss: 0.1914 - val_iou_score: 0.6939 - val_f1-score: 0.8097\n",
            "Epoch 194/200\n",
            "332/332 [==============================] - 59s 179ms/step - loss: 0.0458 - iou_score: 0.9132 - f1-score: 0.9543 - val_loss: 0.3626 - val_iou_score: 0.4916 - val_f1-score: 0.6366\n",
            "Epoch 195/200\n",
            "332/332 [==============================] - 59s 179ms/step - loss: 0.0519 - iou_score: 0.9021 - f1-score: 0.9482 - val_loss: 0.2008 - val_iou_score: 0.6828 - val_f1-score: 0.8008\n",
            "Epoch 196/200\n",
            "332/332 [==============================] - 59s 179ms/step - loss: 0.0434 - iou_score: 0.9173 - f1-score: 0.9567 - val_loss: 0.1917 - val_iou_score: 0.6938 - val_f1-score: 0.8096\n",
            "Epoch 197/200\n",
            "332/332 [==============================] - 59s 179ms/step - loss: 0.0398 - iou_score: 0.9238 - f1-score: 0.9603 - val_loss: 0.1893 - val_iou_score: 0.6959 - val_f1-score: 0.8120\n",
            "Epoch 198/200\n",
            "332/332 [==============================] - 59s 179ms/step - loss: 0.0384 - iou_score: 0.9264 - f1-score: 0.9617 - val_loss: 0.1916 - val_iou_score: 0.6935 - val_f1-score: 0.8097\n",
            "Epoch 199/200\n",
            "332/332 [==============================] - 59s 179ms/step - loss: 0.0384 - iou_score: 0.9264 - f1-score: 0.9617 - val_loss: 0.1918 - val_iou_score: 0.6929 - val_f1-score: 0.8093\n",
            "Epoch 200/200\n",
            "332/332 [==============================] - 59s 179ms/step - loss: 0.0381 - iou_score: 0.9269 - f1-score: 0.9620 - val_loss: 0.1895 - val_iou_score: 0.6965 - val_f1-score: 0.8119\n"
          ]
        },
        {
          "output_type": "execute_result",
          "data": {
            "text/plain": [
              "<keras.callbacks.History at 0x7f9fd873e6d0>"
            ]
          },
          "metadata": {},
          "execution_count": 13
        }
      ]
    },
    {
      "cell_type": "code",
      "metadata": {
        "id": "pqnHjAkAjuvi"
      },
      "source": [
        "for i in range(len(dset.nameArray)):\n",
        "  img_test = dset.testArrayX[i]\n",
        "  img_test_input = np.expand_dims(img_test, 0)\n",
        "  plt.imsave(\"/content/drive/MyDrive/testFolderm/\"+str(dset.nameArray[i]),((model.predict(img_test_input)[0,:,:,:] > 0.5)*255).astype(np.uint8))"
      ],
      "execution_count": null,
      "outputs": []
    },
    {
      "cell_type": "markdown",
      "metadata": {
        "id": "iSMjD8D6Wtca"
      },
      "source": [
        "#IOU SCORE CALCULATOR"
      ]
    },
    {
      "cell_type": "code",
      "metadata": {
        "id": "xzdTF-A6P3tG"
      },
      "source": [
        "import SimpleITK as sitk\n",
        "def loadMask(path):\n",
        "    reader = sitk.ImageFileReader()\n",
        "    reader.SetFileName(path)\n",
        "    sitkMask = reader.Execute();\n",
        "    mask = sitk.GetArrayFromImage(sitkMask)\n",
        "    \n",
        "    return mask\n",
        "\n",
        "def showGrayScale(mask, title):\n",
        "    plt.imshow(mask, cmap=plt.cm.gray)\n",
        "    plt.title(title)\n",
        "    plt.show()\n",
        "\n",
        "# 8 bit ve tek kanallı, normal (0), iskemik (1) ve kanama (2) sınıflarından oluşan\n",
        "# groundTruthMask ve predictedMask'i parametre olarak alip predictedMask'i puanlayan fonksiyon.\n",
        "# Maskelerin her adımdakı değişiminlerini görmek için showSteps = True.\n",
        "def calculateIoU(groundTruthMask, predictedMask, showSteps = False):\n",
        "    \n",
        "    if showSteps:\n",
        "        showGrayScale(groundtruthMask, \"Ground Truth Maskesi\")\n",
        "        showGrayScale(predictedMask, \"Predicted Maskesi\")\n",
        "    \n",
        "    # 1 ve 2 maskelerini ayrı ayrı oluşturuyoruz (0 ve 255 değerlerinin olduğu birer maske olarak)\n",
        "    mask1 = np.where(groundtruthMask == 1, 1, 0).astype(np.uint8)\n",
        "    mask2 = np.where(groundtruthMask == 2, 1, 0).astype(np.uint8)\n",
        "    \n",
        "\n",
        "    if showSteps:\n",
        "        showGrayScale(mask1, \"Ground Truth Sınıf 1\")\n",
        "        showGrayScale(mask2, \"Ground Truth Sınıf 2\")\n",
        "        \n",
        "\n",
        "    # İki sınıfı ayrı ayrı dilate ve erode ediyoruz\n",
        "    kernel = np.ones((3,3))\n",
        "\n",
        "    erosion1 = cv2.erode(mask1, kernel, iterations=1) \n",
        "    dilation1 = cv2.dilate(mask1, kernel, iterations=1)\n",
        "\n",
        "    erosion2 = cv2.erode(mask2, kernel, iterations=1) \n",
        "    dilation2 = cv2.dilate(mask2, kernel, iterations=1)\n",
        "    \n",
        "   \n",
        "    if showSteps:\n",
        "        showGrayScale(erosion1, \"Erode Edilmiş Ground Truth Sınıf 1\")\n",
        "    \n",
        "    \n",
        "    # Erode edilmiş ground truth class maskelerini birleştiriyoruz\n",
        "    erodedGroundtruth = np.zeros(groundtruthMask.shape, dtype = np.uint8)\n",
        "    erodedGroundtruth[erosion1 == 1] = 1\n",
        "    erodedGroundtruth[erosion2 == 1] = 2\n",
        "    \n",
        "    \n",
        "    if showSteps:\n",
        "        showGrayScale(erodedGroundtruth, \"Erode Edilmiş Ground Truthların Birleştirilmesi\")\n",
        "    \n",
        "    \n",
        "    # Dilate edilmiş ground truth class maskelerini birleştiriyoruz\n",
        "    dilatedGroundtruth = np.zeros(groundtruthMask.shape, dtype = np.uint8)\n",
        "    dilatedGroundtruth[dilation1 == 1] = 1\n",
        "    dilatedGroundtruth[dilation2 == 1] = 2    \n",
        "    \n",
        "    \n",
        "    if showSteps:\n",
        "        showGrayScale(dilatedGroundtruth, \"Dilate Edilmiş Ground Truthların Birleştirilmesi\")\n",
        "    \n",
        "    \n",
        "    # Dilate edilmiş ground truth ile kesişim\n",
        "    intersection = np.where(np.logical_and(dilatedGroundtruth == predictedMask, dilatedGroundtruth != 0), 1, 0)        \n",
        "    intersectionCount = np.count_nonzero(intersection)\n",
        "\n",
        "    # Erode edilmiş ground truth ile birleşim\n",
        "    union = np.where(np.logical_or(erodedGroundtruth != 0, predictedMask != 0), 1, 0)\n",
        "    unionCount = np.count_nonzero(union)\n",
        "\n",
        "    score = intersectionCount / unionCount\n",
        "\n",
        "    \n",
        "    if showSteps:\n",
        "        showGrayScale(intersection, \"Kesişim\")\n",
        "        showGrayScale(union, \"Birleşim\")\n",
        "        print('Kesişim piksel sayısı: ', intersectionCount)\n",
        "        print('Birleşim piksel sayısı: ', unionCount)\n",
        "        print('Puan: ', score)\n",
        "    \n",
        "    \n",
        "    return score"
      ],
      "execution_count": null,
      "outputs": []
    },
    {
      "cell_type": "code",
      "metadata": {
        "colab": {
          "base_uri": "https://localhost:8080/",
          "height": 323
        },
        "id": "IslY4jhSQdQE",
        "outputId": "16bf2f3d-bc32-4783-97fc-70eba55c9fab"
      },
      "source": [
        "img1=cv2.imread(\"/content/drive/MyDrive/Intercubic/TestSet/Annotation/10073.png\")\n",
        "newimage=np.zeros((256,256,3))\n",
        "newimage[:,:,0]=img1[:,:,0]\n",
        "newimage[:,:,2]=img1[:,:,1]\n",
        "newimage[:,:,1]=img1[:,:,2]\n",
        "plt.imshow(newimage[:,:,:])"
      ],
      "execution_count": null,
      "outputs": [
        {
          "output_type": "stream",
          "name": "stderr",
          "text": [
            "Clipping input data to the valid range for imshow with RGB data ([0..1] for floats or [0..255] for integers).\n"
          ]
        },
        {
          "output_type": "execute_result",
          "data": {
            "text/plain": [
              "<matplotlib.image.AxesImage at 0x7f1a483abed0>"
            ]
          },
          "metadata": {},
          "execution_count": 67
        },
        {
          "output_type": "display_data",
          "data": {
            "image/png": "[encoded data removed]",
            "text/plain": [
              "<Figure size 432x288 with 1 Axes>"
            ]
          },
          "metadata": {
            "needs_background": "light"
          }
        }
      ]
    },
    {
      "cell_type": "code",
      "metadata": {
        "id": "AbwcigGuQFRm"
      },
      "source": [
        "\n",
        "scores=[]\n",
        "\n",
        "for i in range(len(dset.nameArray)):\n",
        "    start = time.time()\n",
        "   \n",
        "    \n",
        "    grd=cv2.imread(\"/content/drive/MyDrive/Intercubic/TestSet/Annotation/\"+dset.nameArray[i])\n",
        "    prd=cv2.imread(\"/content/drive/MyDrive/testFolderm/\"+dset.nameArray[i])\n",
        "    prdnew=np.zeros((256,256,3))\n",
        "    prdnew[:,:,0]=prd[:,:,0]\n",
        "    prdnew[:,:,2]=prd[:,:,1]\n",
        "    prdnew[:,:,1]=prd[:,:,2]\n",
        "    grdnew=np.zeros((256,256,3))\n",
        "    grdnew[:,:,0]=grd[:,:,0]\n",
        "    grdnew[:,:,2]=grd[:,:,1]\n",
        "    grdnew[:,:,1]=grd[:,:,2]\n",
        "    newimage=np.zeros((256,256))\n",
        "    newimage2=np.zeros((256,256))\n",
        "    for i in range(256):\n",
        "      for j in range(256):\n",
        "        class_labels = np.argmax(prd[i,j], axis=0)\n",
        "        newimage[i][j]=class_labels\n",
        "        class_labelsTwo = np.argmax(grd[i,j], axis=0)\n",
        "        newimage2[i][j]=class_labelsTwo\n",
        "    predictedMask=newimage\n",
        "    groundtruthMask=newimage2\n",
        "    \n",
        "    iou=calculateIoU(groundtruthMask,predictedMask,False)\n",
        "    end = time.time()\n",
        "  \n",
        "    scores.append(iou)\n",
        "    print(end - start,iou,sum(scores)/len(scores))"
      ],
      "execution_count": null,
      "outputs": []
    },
    {
      "cell_type": "markdown",
      "metadata": {
        "id": "fGO8FqWFaDyE"
      },
      "source": [
        "# USAGE OF UNET MODEL WITH REAL CASES\n"
      ]
    },
    {
      "cell_type": "code",
      "metadata": {
        "colab": {
          "base_uri": "https://localhost:8080/"
        },
        "id": "KFtlK_vqaHxh",
        "outputId": "a55e44a8-52e1-4308-a7a4-8c0768c64a9b"
      },
      "source": [
        "!pip install pydicom"
      ],
      "execution_count": null,
      "outputs": [
        {
          "output_type": "stream",
          "name": "stdout",
          "text": [
            "Collecting pydicom\n",
            "  Downloading pydicom-2.2.1-py3-none-any.whl (2.0 MB)\n",
            "\u001b[K     |████████████████████████████████| 2.0 MB 5.2 MB/s \n",
            "\u001b[?25hInstalling collected packages: pydicom\n",
            "Successfully installed pydicom-2.2.1\n"
          ]
        }
      ]
    },
    {
      "cell_type": "code",
      "metadata": {
        "colab": {
          "base_uri": "https://localhost:8080/"
        },
        "id": "R_kbi5xFaZQ-",
        "outputId": "de69f9d4-2580-4847-91e0-709c477aa495"
      },
      "source": [
        "!pip install python-gdcm"
      ],
      "execution_count": null,
      "outputs": [
        {
          "output_type": "stream",
          "name": "stdout",
          "text": [
            "Collecting python-gdcm\n",
            "  Downloading python_gdcm-3.0.9.1-cp37-cp37m-manylinux_2_17_x86_64.manylinux2014_x86_64.whl (9.4 MB)\n",
            "\u001b[K     |████████████████████████████████| 9.4 MB 5.3 MB/s \n",
            "\u001b[?25hInstalling collected packages: python-gdcm\n",
            "Successfully installed python-gdcm-3.0.9.1\n"
          ]
        }
      ]
    },
    {
      "cell_type": "code",
      "metadata": {
        "id": "7D9DbvW0aeVq"
      },
      "source": [
        "from PIL import Image\n",
        "import numpy as np\n",
        "from numpy import asarray\n",
        "import cv2\n",
        "import tensorflow as tf\n",
        "import os\n",
        "from tensorflow.keras.models import model_from_json\n",
        "from tensorflow.keras.utils import to_categorical\n",
        "import pandas as pd\n",
        "import pydicom"
      ],
      "execution_count": null,
      "outputs": []
    },
    {
      "cell_type": "code",
      "metadata": {
        "id": "mZcNQJCghFJM"
      },
      "source": [
        "def contour_crop_resize(image):\n",
        "      '''\n",
        "      Contour and crop the image (generally used in brain mri images and object detection)\n",
        "      :param image: cv2 object\n",
        "      :param n: if n=0, no cropping, else, cropping exists\n",
        "      '''\n",
        "      grayscale=cv2.cvtColor(image,cv2.COLOR_BGR2GRAY)\n",
        "      gaussianBlurred=cv2.GaussianBlur(grayscale,(5,5),0)\n",
        "      thresholded=cv2.threshold(gaussianBlurred,45,255,cv2.THRESH_BINARY)[1]\n",
        "      eroded=cv2.erode(thresholded,None,iterations=2)\n",
        "      dilated=cv2.dilate(eroded,None,iterations=2)\n",
        "\n",
        "      contouring=cv2.findContours(dilated.copy(),cv2.RETR_EXTERNAL,cv2.CHAIN_APPROX_SIMPLE)\n",
        "      contoursGrabbed=imutils.grab_contours(contouring)\n",
        "      c=max(contoursGrabbed,key=cv2.contourArea)\n",
        "\n",
        "      extreme_pnts_left=tuple(c[c[:,:,0].argmin()][0])\n",
        "      extreme_pnts_right=tuple(c[c[:,:,0].argmax()][0])\n",
        "      extreme_pnts_top=tuple(c[c[:,:,1].argmin()][0])\n",
        "      extreme_pnts_bot=tuple(c[c[:,:,1].argmax()][0])\n",
        "    \n",
        "      new_image=image[extreme_pnts_top[1]:extreme_pnts_bot[1],extreme_pnts_left[0]:extreme_pnts_right[0]]\n",
        "      returning=np.zeros((256,256,3),dtype=np.uint8)\n",
        "      returning[extreme_pnts_top[1]:extreme_pnts_bot[1],extreme_pnts_left[0]:extreme_pnts_right[0]]=new_image\n",
        "      return returning"
      ],
      "execution_count": null,
      "outputs": []
    },
    {
      "cell_type": "code",
      "metadata": {
        "id": "ag-NPrsNagef"
      },
      "source": [
        "import yarismaPngGenerator\n",
        "pngGen=yarismaPngGenerator.PngGenerator(\"/content/drive/MyDrive/yarismaOturumiki/DICOM\",\"Segmentation\")\n",
        "pngGen.insertDicomData()\n",
        "pngGen.getPngData(\"/content/drive/MyDrive/pngOturumTwo\",\"Data\")"
      ],
      "execution_count": null,
      "outputs": []
    },
    {
      "cell_type": "code",
      "metadata": {
        "id": "i9O4j6AS4hIc"
      },
      "source": [
        "!pip install segmentation_models"
      ],
      "execution_count": null,
      "outputs": []
    },
    {
      "cell_type": "code",
      "metadata": {
        "colab": {
          "base_uri": "https://localhost:8080/",
          "height": 54
        },
        "id": "6autJys4aqyR",
        "outputId": "fcbf1937-96a4-466f-f188-bc74a0023cce"
      },
      "source": [
        "import segmentation_models as sm\n",
        "sm.set_framework('tf.keras')\n",
        "sm.framework()"
      ],
      "execution_count": null,
      "outputs": [
        {
          "output_type": "stream",
          "name": "stdout",
          "text": [
            "Segmentation Models: using `keras` framework.\n"
          ]
        },
        {
          "output_type": "execute_result",
          "data": {
            "application/vnd.google.colaboratory.intrinsic+json": {
              "type": "string"
            },
            "text/plain": [
              "'tf.keras'"
            ]
          },
          "metadata": {},
          "execution_count": 9
        }
      ]
    },
    {
      "cell_type": "code",
      "metadata": {
        "colab": {
          "base_uri": "https://localhost:8080/"
        },
        "id": "Pe5WsXEOasfa",
        "outputId": "7c1fa02f-01a1-486f-f72d-1685c090204e"
      },
      "source": [
        "import keras\n",
        "import tensorflow as tf\n",
        "print(keras.__version__)\n",
        "print(tf.__version__)\n",
        "#from keras.utils import normalize\n",
        "import os\n",
        "import glob\n",
        "import cv2\n",
        "import numpy as np\n",
        "from matplotlib import pyplot as plt\n",
        "from segmentation_models.losses import cce_jaccard_loss\n",
        "from segmentation_models.metrics import iou_score"
      ],
      "execution_count": null,
      "outputs": [
        {
          "output_type": "stream",
          "name": "stdout",
          "text": [
            "2.6.0\n",
            "2.6.0\n"
          ]
        }
      ]
    },
    {
      "cell_type": "code",
      "metadata": {
        "id": "sQqMijrtauXD"
      },
      "source": [
        "from tensorflow.keras.layers import Input,Conv2D,Rescaling\n",
        "from tensorflow.keras import Model\n",
        "base_model = sm.Unet('densenet201', classes=3, activation='softmax',encoder_weights='imagenet',decoder_use_batchnorm=True)\n",
        "inp = Input(shape=(None, None, 1))\n",
        "l1 = Conv2D(3, (1, 1))(inp) # map N channels data to 3 channels\n",
        "\n",
        "out = base_model(l1)\n",
        "\n",
        "\n",
        "model = Model(inp, out, name=base_model.name)\n",
        "#model=base_model"
      ],
      "execution_count": null,
      "outputs": []
    },
    {
      "cell_type": "code",
      "metadata": {
        "id": "0t6rqnPNa0Ai"
      },
      "source": [
        "model.load_weights('/content/drive/MyDrive/SegmentModelLastDay/sondenemeki.h5')\n",
        "\n",
        "dice_loss = sm.losses.DiceLoss(class_indexes=np.array([0,1])) \n",
        "focal_loss = sm.losses.CategoricalCELoss(class_indexes=np.array([0,1]))\n",
        "jaccard_loss=sm.losses.JaccardLoss(class_indexes=np.array([0,1]))\n",
        "total_loss = dice_loss \n",
        "adam=tf.keras.optimizers.Adam(learning_rate=0.0001) \n",
        "metrics = [sm.metrics.IOUScore(class_indexes=np.array([0,1])),sm.metrics.FScore(threshold=0.5,class_indexes=np.array([0,1]))]\n",
        "model.compile(optimizer=adam,loss=dice_loss,metrics=metrics)"
      ],
      "execution_count": null,
      "outputs": []
    },
    {
      "cell_type": "code",
      "metadata": {
        "id": "1vLAKR9la29S"
      },
      "source": [
        "import imutils\n",
        "liste=list()\n",
        "\n",
        "filenamelist=list()\n",
        "path=\"/content/drive/MyDrive/pngOturumTwo/Data\"\n",
        "predictions=[]\n",
        "for subdir,dirs,files in os.walk(path):\n",
        "  for file in files:\n",
        "    filePath=subdir+os.sep+file\n",
        "    img=cv2.imread(filePath)\n",
        "    img_test = cv2.cvtColor(contour_crop_resize(cv2.resize(img,(256,256),interpolation=cv2.INTER_CUBIC)),cv2.COLOR_BGR2GRAY)\n",
        "    liste.append(img_test)\n",
        "    img_test_input = np.expand_dims(img_test,0)\n",
        "    img_test_input=img_test_input.astype(np.float32)\n",
        "    img_test_input=img_test_input/255.\n",
        "    strfile=file\n",
        "    filenamelist.append(strfile.split(\".\")[0])\n",
        "    pred = ((model.predict(img_test_input)[0,:,:,:] > 0.5)*255).astype(np.uint8)\n",
        "    predictions.append(pred)\n",
        "\n"
      ],
      "execution_count": null,
      "outputs": []
    },
    {
      "cell_type": "code",
      "metadata": {
        "id": "l6Xc2IAmbY9s"
      },
      "source": [
        "for i in range(len(predictions)):\n",
        "    print(i)\n",
        "    prd=cv2.cvtColor(cv2.resize(predictions[i],(512,512),interpolation=cv2.INTER_CUBIC),cv2.COLOR_BGR2RGB)\n",
        "    newimage=np.zeros((512,512))\n",
        "    for m in range(512):\n",
        "      for k in range(512):\n",
        "        class_labels = np.argmax(prd[m,k], axis=0)\n",
        "        newimage[m][k]=class_labels\n",
        "    predictedMask=newimage\n",
        "    cv2.imwrite(\"/content/drive/MyDrive/ikinciasamagonderilecek/\"+filenamelist[i]+\".png\",predictedMask)\n",
        "\n",
        "    \n",
        "  "
      ],
      "execution_count": null,
      "outputs": []
    },
    {
      "cell_type": "code",
      "metadata": {
        "id": "ZQBWrnHF7kKU"
      },
      "source": [
        ""
      ],
      "execution_count": null,
      "outputs": []
    }
  ]
}