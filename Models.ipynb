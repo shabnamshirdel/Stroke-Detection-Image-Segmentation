{
  "cells": [
    {
      "cell_type": "markdown",
      "metadata": {
        "id": "w5VPRht7-opS"
      },
      "source": [
        "# MODEL 1"
      ]
    },
    {
      "cell_type": "code",
      "execution_count": null,
      "metadata": {
        "id": "AGG6wgp00M2Y"
      },
      "outputs": [],
      "source": [
        "import os\n",
        "import numpy as np\n",
        "import matplotlib.pyplot as plt\n",
        "import time\n",
        "from skimage import io\n",
        "import cv2\n",
        "import random\n",
        "\n",
        "import tensorflow as tf\n",
        "'''from keras.models import Model\n",
        "from keras.models import Input\n",
        "from keras.layers import Conv2D\n",
        "from keras.layers import Conv2DTranspose\n",
        "from keras.layers import add\n",
        "from keras.layers import Activation\n",
        "from keras.layers import UpSampling2D\n",
        "from keras.layers import Dropout\n",
        "from keras.layers import BatchNormalization\n",
        "from keras.layers import MaxPooling2D\n",
        "from keras.layers import Lambda\n",
        "from keras.layers import multiply\n",
        "from keras.layers import concatenate'''\n",
        "\n",
        "from tensorflow.keras import backend as K\n",
        "from tensorflow.keras.metrics import MeanIoU\n"
      ]
    },
    {
      "cell_type": "code",
      "execution_count": null,
      "metadata": {
        "colab": {
          "base_uri": "https://localhost:8080/"
        },
        "id": "98yP7nYm0bIh",
        "outputId": "2f069176-1cf6-4192-a38f-f230ced0b536"
      },
      "outputs": [
        {
          "name": "stdout",
          "output_type": "stream",
          "text": [
            "['/content/drive/MyDrive/Intercubic/TrainingSet/Image', '/content/drive/MyDrive/Intercubic/TestSet/Image']\n"
          ]
        }
      ],
      "source": [
        "import dataset\n",
        "mySet=dataset.Dataset(\"/content/drive/MyDrive/Intercubic\",\"TrainingSet\",\"TestSet\",\"Segmentation\")"
      ]
    },
    {
      "cell_type": "code",
      "execution_count": null,
      "metadata": {
        "colab": {
          "base_uri": "https://localhost:8080/",
          "height": 1000
        },
        "id": "jYJcou4IbRTn",
        "outputId": "d445fc7f-b478-401a-c3c2-46a7158d4372"
      },
      "outputs": [],
      "source": [
        "mySet.importSegmentationClass(False)"
      ]
    },
    {
      "cell_type": "code",
      "execution_count": null,
      "metadata": {
        "id": "QCZEfMIWlo92"
      },
      "outputs": [],
      "source": [
        "mySet.trainingArrayX=mySet.trainingArrayX.astype('float32')\n",
        "mySet.trainingArrayY=mySet.trainingArrayY.astype('float32')\n",
        "mySet.testArrayX=mySet.testArrayX.astype('float32')\n",
        "mySet.testArrayY=mySet.testArrayY.astype('float32')"
      ]
    },
    {
      "cell_type": "code",
      "execution_count": null,
      "metadata": {
        "id": "K27Mo4-31sxM"
      },
      "outputs": [],
      "source": [
        "\n",
        "for i in range(len(mySet.trainingArrayX)):\n",
        "  mySet.trainingArrayX[i]=mySet.trainingArrayX[i]/255.\n",
        "  mySet.trainingArrayY[i]=mySet.trainingArrayY[i]/255.\n",
        "  '''trainlistx.append(cv2.resize(mySet.trainingArrayX[i],(256,256),0,0,interpolation = cv2.INTER_NEAREST))\n",
        "  trainlisty.append(cv2.resize(mySet.trainingArrayY[i],(256,256),0,0,interpolation= cv2.INTER_NEAREST))\n",
        "  '''"
      ]
    },
    {
      "cell_type": "code",
      "execution_count": null,
      "metadata": {
        "id": "wvHBhMgNm2mZ"
      },
      "outputs": [],
      "source": [
        "for i in range(len(mySet.testArrayX)):\n",
        "  mySet.testArrayX[i]=mySet.testArrayX[i]/255.\n",
        "  mySet.testArrayY[i]=mySet.testArrayY[i]/255.\n",
        "  '''testlistx.append(cv2.resize(mySet.testArrayX[i],(256,256),0,0,interpolation = cv2.INTER_NEAREST))\n",
        "  testlisty.append(cv2.resize(mySet.testArrayY[i],(256,256),0,0,interpolation= cv2.INTER_NEAREST))'''"
      ]
    },
    {
      "cell_type": "code",
      "execution_count": null,
      "metadata": {
        "colab": {
          "base_uri": "https://localhost:8080/"
        },
        "id": "dUEdcAfXNoiG",
        "outputId": "7a1c6fe9-9788-4387-ed5c-7fa9c3b40da6"
      },
      "outputs": [
        {
          "name": "stdout",
          "output_type": "stream",
          "text": [
            "Thu Sep 23 10:32:20 2021       \n",
            "+-----------------------------------------------------------------------------+\n",
            "| NVIDIA-SMI 470.63.01    Driver Version: 460.32.03    CUDA Version: 11.2     |\n",
            "|-------------------------------+----------------------+----------------------+\n",
            "| GPU  Name        Persistence-M| Bus-Id        Disp.A | Volatile Uncorr. ECC |\n",
            "| Fan  Temp  Perf  Pwr:Usage/Cap|         Memory-Usage | GPU-Util  Compute M. |\n",
            "|                               |                      |               MIG M. |\n",
            "|===============================+======================+======================|\n",
            "|   0  Tesla P100-PCIE...  Off  | 00000000:00:04.0 Off |                    0 |\n",
            "| N/A   34C    P0    28W / 250W |      0MiB / 16280MiB |      0%      Default |\n",
            "|                               |                      |                  N/A |\n",
            "+-------------------------------+----------------------+----------------------+\n",
            "                                                                               \n",
            "+-----------------------------------------------------------------------------+\n",
            "| Processes:                                                                  |\n",
            "|  GPU   GI   CI        PID   Type   Process name                  GPU Memory |\n",
            "|        ID   ID                                                   Usage      |\n",
            "|=============================================================================|\n",
            "|  No running processes found                                                 |\n",
            "+-----------------------------------------------------------------------------+\n"
          ]
        }
      ],
      "source": [
        "!nvidia-smi"
      ]
    },
    {
      "cell_type": "code",
      "execution_count": null,
      "metadata": {
        "id": "8Nnr-O2hRkpc"
      },
      "outputs": [],
      "source": [
        "number=3"
      ]
    },
    {
      "cell_type": "code",
      "execution_count": null,
      "metadata": {
        "colab": {
          "base_uri": "https://localhost:8080/",
          "height": 161
        },
        "id": "ZICr4kIhqQwZ",
        "outputId": "b3fb4dd9-7f1b-4c81-9ef5-e19cbfd8b602"
      },
      "outputs": [
        {
          "data": {
            "image/png": "[encoded data removed]",
            "text/plain": [
              "<Figure size 1080x1080 with 2 Axes>"
            ]
          },
          "metadata": {},
          "output_type": "display_data"
        }
      ],
      "source": [
        "from matplotlib import pyplot as plt\n",
        "plt.figure(figsize=(15,15))\n",
        "plt.subplot(231)\n",
        "plt.imshow(mySet.trainingArrayX[number])\n",
        "plt.subplot(232)\n",
        "plt.imshow(mySet.trainingArrayY[number])\n",
        "number+=1"
      ]
    },
    {
      "cell_type": "code",
      "execution_count": null,
      "metadata": {
        "colab": {
          "base_uri": "https://localhost:8080/"
        },
        "id": "dE12IZmmmCJT",
        "outputId": "fb449cb2-3f23-47a9-dec4-7e117181f02d"
      },
      "outputs": [
        {
          "name": "stdout",
          "output_type": "stream",
          "text": [
            "Collecting python-gdcm\n",
            "  Downloading python_gdcm-3.0.9.1-cp37-cp37m-manylinux_2_17_x86_64.manylinux2014_x86_64.whl (9.4 MB)\n",
            "\u001b[K     |████████████████████████████████| 9.4 MB 13.9 MB/s \n",
            "\u001b[?25hInstalling collected packages: python-gdcm\n",
            "Successfully installed python-gdcm-3.0.9.1\n"
          ]
        }
      ],
      "source": []
    },
    {
      "cell_type": "code",
      "execution_count": null,
      "metadata": {
        "colab": {
          "base_uri": "https://localhost:8080/"
        },
        "id": "2aavkH90BxWr",
        "outputId": "5bf9e871-2251-4b32-c2c5-21f10c80ac08"
      },
      "outputs": [
        {
          "data": {
            "text/plain": [
              "((8840, 256, 256), (8840, 256, 256, 3), (441, 256, 256), (441, 256, 256, 3))"
            ]
          },
          "execution_count": 7,
          "metadata": {},
          "output_type": "execute_result"
        }
      ],
      "source": [
        "mySet.trainingArrayX.shape,mySet.trainingArrayY.shape,mySet.testArrayX.shape,mySet.testArrayY.shape"
      ]
    },
    {
      "cell_type": "code",
      "execution_count": null,
      "metadata": {
        "id": "EgQQ9qL2CUG5"
      },
      "outputs": [],
      "source": [
        "from skimage.transform import resize\n",
        "\n",
        "trainlistx,trainlisty=[],[]\n",
        "for i in range(len(mySet.trainingArrayX)):\n",
        "  trainlistx.append(resize(mySet.trainingArrayX[i],(256,256)))\n",
        "  trainlisty.append(resize(mySet.trainingArrayY[i],(256,256)))"
      ]
    },
    {
      "cell_type": "code",
      "execution_count": null,
      "metadata": {
        "id": "Kshoj-E63GPd"
      },
      "outputs": [],
      "source": [
        "import numpy as np\n",
        "trainingArrayX=np.array(trainlistx)\n",
        "del trainlistx\n",
        "trainingArrayY=np.array(trainlisty)\n",
        "del trainlisty"
      ]
    },
    {
      "cell_type": "code",
      "execution_count": null,
      "metadata": {
        "id": "j7uJ8CLU3t_H"
      },
      "outputs": [],
      "source": [
        "testlistx,testlisty=[],[]\n",
        "for i in range(len(mySet.testArrayX)):\n",
        "  testlistx.append(resize(mySet.testArrayX[i],(256,256)))\n",
        "  testlisty.append(resize(mySet.testArrayY[i],(256,256)))"
      ]
    },
    {
      "cell_type": "code",
      "execution_count": null,
      "metadata": {
        "id": "gOmG5vDD4GDr"
      },
      "outputs": [],
      "source": [
        "testArrayX=np.array(testlistx)\n",
        "del testlistx\n",
        "testArrayY=np.array(testlisty)\n",
        "del testlisty"
      ]
    },
    {
      "cell_type": "code",
      "execution_count": null,
      "metadata": {
        "colab": {
          "base_uri": "https://localhost:8080/",
          "height": 164
        },
        "id": "DK8VPA8I4MqB",
        "outputId": "b6b54848-cc7e-4118-e69f-703ddd8b0fb6"
      },
      "outputs": [],
      "source": [
        "trainingArrayX.shape,trainingArrayY.shape,testArrayX.shape,testArrayY.shape"
      ]
    },
    {
      "cell_type": "code",
      "execution_count": null,
      "metadata": {
        "id": "dQdLFlhes3vO"
      },
      "outputs": [],
      "source": [
        "del mySet"
      ]
    },
    {
      "cell_type": "code",
      "execution_count": null,
      "metadata": {
        "id": "ilfZE3KIseDI"
      },
      "outputs": [],
      "source": [
        "import numpy as np\n",
        "import tensorflow as tf\n",
        "smooth=100\n",
        "# loss function and metrics\n",
        "def dice_coef(y_pred, Y):\n",
        "    y_flatten = K.flatten(Y)\n",
        "    y_pred_flatten = K.flatten(y_pred)\n",
        "    intersection = K.sum(y_flatten * y_pred_flatten)\n",
        "    dice = (0.2 * intersection + 1.0) / (K.sum(y_flatten) + K.sum(y_pred_flatten) + 1.0)\n",
        "    return dice\n",
        "\n",
        "def jacard_coef(y_pred, Y):\n",
        "    y_flatten = K.cast(K.flatten(Y[0,:,:,0:2]),tf.int8)\n",
        "    y_pred_flatten = K.cast(K.flatten(y_pred[0,:,:,0:2]),tf.int8)\n",
        "    intersection = K.sum(y_flatten * y_pred_flatten)\n",
        "    y_flatten_bool=K.cast(y_flatten,tf.bool)\n",
        "    y_pred_flatten_bool=K.cast(y_pred_flatten,tf.bool)\n",
        "    xor=K.sum(K.cast(tf.math.logical_xor(y_flatten_bool,y_pred_flatten_bool),tf.int8))\n",
        "    iou=intersection/(intersection+xor)\n",
        "    return iou\n",
        "\n",
        "def jacard_coef_loss(y_pred, Y):\n",
        "    return 1-jacard_coef(y_pred, Y)\n",
        "\n",
        "\n",
        "def dice_coef_loss(y_pred, Y):\n",
        "    return -dice_coef(y_pred, Y)\n",
        "  \n",
        "def iou(y_pred, y_true):\n",
        "\n",
        "    y_pred=K.flatten(y_pred)\n",
        "    y_true=K.flatten(y_true)\n",
        "    intersection=tf.keras.backend.any(tf.keras.backend.stack([y_pred, y_true], axis=0), axis=0)\n",
        "    union=tf.keras.backend.all(tf.keras.backend.stack([y_pred, y_true], axis=0), axis=0)\n",
        "    intersection = K.cast(intersection,\"int32\")\n",
        "    union=K.cast(union,\"int32\")\n",
        "    '''intersection=K.logical_and(y_pred[0:2],y_true[0:2])\n",
        "    union=K.logical_or(y_pred[0:2],y_true[0:2])'''\n",
        "    iou=K.sum(intersection)/K.sum(union)\n",
        "    return iou\n",
        "  \n",
        "\n",
        "def iou_coef(y_true, y_pred, smooth=1):\n",
        "  intersection = K.sum(K.abs(y_true * y_pred), axis=[1,2])\n",
        "  union = K.sum(y_true,[1,2])+K.sum(y_pred,[1,2])-intersection\n",
        "  iou = K.mean((intersection + smooth) / (union + smooth), axis=0)\n",
        "  return iou\n"
      ]
    },
    {
      "cell_type": "code",
      "execution_count": null,
      "metadata": {
        "id": "w_8yzP0bqDSF"
      },
      "outputs": [],
      "source": [
        "def mean_iou(y_pred, y_true):\n",
        "  y_pred=K.flatten(y_pred)\n",
        "  y_true=K.flatten(y_true)\n",
        "  diffOne=tf.math.not_equal(y_pred[0,:,:,0],0)\n",
        "  diffTwo=tf.math.not_equal(y_true[0,:,:,0],0)\n",
        "  diff=K.cast(tf.math.equal(diffOne,diffTwo),tf.int8)\n",
        "  neg=K.cast(tf.math.not_equal(y_pred[0,:,:,0],y_true[0,:,:,0]),tf.int8)\n",
        "\n",
        "  diffOneTwo=tf.math.not_equal(y_pred[0,:,:,1],0)\n",
        "  diffTwoTwo=tf.math.not_equal(y_true[0,:,:,1],0)\n",
        "  diffTwo=K.cast(tf.math.equal(diffOneTwo,diffTwoTwo),tf.int8)\n",
        "  negTwo=K.cast(tf.math.not_equal(y_pred[0,:,:,1],y_true[0,:,:,1]),tf.int8)\n",
        "\n",
        "  int1=K.sum(diff)/(K.sum(diff)+K.sum(neg))\n",
        "  int2=K.sum(diffTwo)/(K.sum(diffTwo)+K.sum(negTwo))\n",
        "  print(int1,int2)\n",
        "  return (int1+int2)/2\n",
        "  "
      ]
    },
    {
      "cell_type": "code",
      "execution_count": null,
      "metadata": {
        "id": "KLSHhr3JkgTj"
      },
      "outputs": [],
      "source": [
        "import attenunet"
      ]
    },
    {
      "cell_type": "code",
      "execution_count": null,
      "metadata": {
        "colab": {
          "base_uri": "https://localhost:8080/"
        },
        "id": "IbmkpU_AF1fb",
        "outputId": "61179ca4-38bf-4435-aa8b-5b42610fdfe3"
      },
      "outputs": [
        {
          "name": "stdout",
          "output_type": "stream",
          "text": [
            "Model: \"Attention_UNet\"\n",
            "__________________________________________________________________________________________________\n",
            "Layer (type)                    Output Shape         Param #     Connected to                     \n",
            "==================================================================================================\n",
            "input_1 (InputLayer)            [(None, 256, 256, 3) 0                                            \n",
            "__________________________________________________________________________________________________\n",
            "conv2d (Conv2D)                 (None, 256, 256, 64) 1792        input_1[0][0]                    \n",
            "__________________________________________________________________________________________________\n",
            "batch_normalization (BatchNorma (None, 256, 256, 64) 256         conv2d[0][0]                     \n",
            "__________________________________________________________________________________________________\n",
            "activation (Activation)         (None, 256, 256, 64) 0           batch_normalization[0][0]        \n",
            "__________________________________________________________________________________________________\n",
            "conv2d_1 (Conv2D)               (None, 256, 256, 64) 36928       activation[0][0]                 \n",
            "__________________________________________________________________________________________________\n",
            "batch_normalization_1 (BatchNor (None, 256, 256, 64) 256         conv2d_1[0][0]                   \n",
            "__________________________________________________________________________________________________\n",
            "activation_1 (Activation)       (None, 256, 256, 64) 0           batch_normalization_1[0][0]      \n",
            "__________________________________________________________________________________________________\n",
            "max_pooling2d (MaxPooling2D)    (None, 128, 128, 64) 0           activation_1[0][0]               \n",
            "__________________________________________________________________________________________________\n",
            "conv2d_2 (Conv2D)               (None, 128, 128, 128 73856       max_pooling2d[0][0]              \n",
            "__________________________________________________________________________________________________\n",
            "batch_normalization_2 (BatchNor (None, 128, 128, 128 512         conv2d_2[0][0]                   \n",
            "__________________________________________________________________________________________________\n",
            "activation_2 (Activation)       (None, 128, 128, 128 0           batch_normalization_2[0][0]      \n",
            "__________________________________________________________________________________________________\n",
            "conv2d_3 (Conv2D)               (None, 128, 128, 128 147584      activation_2[0][0]               \n",
            "__________________________________________________________________________________________________\n",
            "batch_normalization_3 (BatchNor (None, 128, 128, 128 512         conv2d_3[0][0]                   \n",
            "__________________________________________________________________________________________________\n",
            "activation_3 (Activation)       (None, 128, 128, 128 0           batch_normalization_3[0][0]      \n",
            "__________________________________________________________________________________________________\n",
            "max_pooling2d_1 (MaxPooling2D)  (None, 64, 64, 128)  0           activation_3[0][0]               \n",
            "__________________________________________________________________________________________________\n",
            "conv2d_4 (Conv2D)               (None, 64, 64, 256)  295168      max_pooling2d_1[0][0]            \n",
            "__________________________________________________________________________________________________\n",
            "batch_normalization_4 (BatchNor (None, 64, 64, 256)  1024        conv2d_4[0][0]                   \n",
            "__________________________________________________________________________________________________\n",
            "activation_4 (Activation)       (None, 64, 64, 256)  0           batch_normalization_4[0][0]      \n",
            "__________________________________________________________________________________________________\n",
            "conv2d_5 (Conv2D)               (None, 64, 64, 256)  590080      activation_4[0][0]               \n",
            "__________________________________________________________________________________________________\n",
            "batch_normalization_5 (BatchNor (None, 64, 64, 256)  1024        conv2d_5[0][0]                   \n",
            "__________________________________________________________________________________________________\n",
            "activation_5 (Activation)       (None, 64, 64, 256)  0           batch_normalization_5[0][0]      \n",
            "__________________________________________________________________________________________________\n",
            "max_pooling2d_2 (MaxPooling2D)  (None, 32, 32, 256)  0           activation_5[0][0]               \n",
            "__________________________________________________________________________________________________\n",
            "conv2d_6 (Conv2D)               (None, 32, 32, 512)  1180160     max_pooling2d_2[0][0]            \n",
            "__________________________________________________________________________________________________\n",
            "batch_normalization_6 (BatchNor (None, 32, 32, 512)  2048        conv2d_6[0][0]                   \n",
            "__________________________________________________________________________________________________\n",
            "activation_6 (Activation)       (None, 32, 32, 512)  0           batch_normalization_6[0][0]      \n",
            "__________________________________________________________________________________________________\n",
            "conv2d_7 (Conv2D)               (None, 32, 32, 512)  2359808     activation_6[0][0]               \n",
            "__________________________________________________________________________________________________\n",
            "batch_normalization_7 (BatchNor (None, 32, 32, 512)  2048        conv2d_7[0][0]                   \n",
            "__________________________________________________________________________________________________\n",
            "activation_7 (Activation)       (None, 32, 32, 512)  0           batch_normalization_7[0][0]      \n",
            "__________________________________________________________________________________________________\n",
            "max_pooling2d_3 (MaxPooling2D)  (None, 16, 16, 512)  0           activation_7[0][0]               \n",
            "__________________________________________________________________________________________________\n",
            "conv2d_8 (Conv2D)               (None, 16, 16, 1024) 4719616     max_pooling2d_3[0][0]            \n",
            "__________________________________________________________________________________________________\n",
            "batch_normalization_8 (BatchNor (None, 16, 16, 1024) 4096        conv2d_8[0][0]                   \n",
            "__________________________________________________________________________________________________\n",
            "activation_8 (Activation)       (None, 16, 16, 1024) 0           batch_normalization_8[0][0]      \n",
            "__________________________________________________________________________________________________\n",
            "conv2d_9 (Conv2D)               (None, 16, 16, 1024) 9438208     activation_8[0][0]               \n",
            "__________________________________________________________________________________________________\n",
            "batch_normalization_9 (BatchNor (None, 16, 16, 1024) 4096        conv2d_9[0][0]                   \n",
            "__________________________________________________________________________________________________\n",
            "activation_9 (Activation)       (None, 16, 16, 1024) 0           batch_normalization_9[0][0]      \n",
            "__________________________________________________________________________________________________\n",
            "conv2d_10 (Conv2D)              (None, 16, 16, 512)  524800      activation_9[0][0]               \n",
            "__________________________________________________________________________________________________\n",
            "batch_normalization_10 (BatchNo (None, 16, 16, 512)  2048        conv2d_10[0][0]                  \n",
            "__________________________________________________________________________________________________\n",
            "activation_10 (Activation)      (None, 16, 16, 512)  0           batch_normalization_10[0][0]     \n",
            "__________________________________________________________________________________________________\n",
            "conv2d_12 (Conv2D)              (None, 16, 16, 512)  262656      activation_10[0][0]              \n",
            "__________________________________________________________________________________________________\n",
            "conv2d_transpose (Conv2DTranspo (None, 16, 16, 512)  2359808     conv2d_12[0][0]                  \n",
            "__________________________________________________________________________________________________\n",
            "conv2d_11 (Conv2D)              (None, 16, 16, 512)  1049088     activation_7[0][0]               \n",
            "__________________________________________________________________________________________________\n",
            "add (Add)                       (None, 16, 16, 512)  0           conv2d_transpose[0][0]           \n",
            "                                                                 conv2d_11[0][0]                  \n",
            "__________________________________________________________________________________________________\n",
            "activation_11 (Activation)      (None, 16, 16, 512)  0           add[0][0]                        \n",
            "__________________________________________________________________________________________________\n",
            "conv2d_13 (Conv2D)              (None, 16, 16, 1)    513         activation_11[0][0]              \n",
            "__________________________________________________________________________________________________\n",
            "activation_12 (Activation)      (None, 16, 16, 1)    0           conv2d_13[0][0]                  \n",
            "__________________________________________________________________________________________________\n",
            "up_sampling2d (UpSampling2D)    (None, 32, 32, 1)    0           activation_12[0][0]              \n",
            "__________________________________________________________________________________________________\n",
            "lambda (Lambda)                 (None, 32, 32, 512)  0           up_sampling2d[0][0]              \n",
            "__________________________________________________________________________________________________\n",
            "multiply (Multiply)             (None, 32, 32, 512)  0           lambda[0][0]                     \n",
            "                                                                 activation_7[0][0]               \n",
            "__________________________________________________________________________________________________\n",
            "conv2d_14 (Conv2D)              (None, 32, 32, 512)  262656      multiply[0][0]                   \n",
            "__________________________________________________________________________________________________\n",
            "up_sampling2d_1 (UpSampling2D)  (None, 32, 32, 1024) 0           activation_9[0][0]               \n",
            "__________________________________________________________________________________________________\n",
            "batch_normalization_11 (BatchNo (None, 32, 32, 512)  2048        conv2d_14[0][0]                  \n",
            "__________________________________________________________________________________________________\n",
            "concatenate (Concatenate)       (None, 32, 32, 1536) 0           up_sampling2d_1[0][0]            \n",
            "                                                                 batch_normalization_11[0][0]     \n",
            "__________________________________________________________________________________________________\n",
            "conv2d_15 (Conv2D)              (None, 32, 32, 512)  7078400     concatenate[0][0]                \n",
            "__________________________________________________________________________________________________\n",
            "batch_normalization_12 (BatchNo (None, 32, 32, 512)  2048        conv2d_15[0][0]                  \n",
            "__________________________________________________________________________________________________\n",
            "activation_13 (Activation)      (None, 32, 32, 512)  0           batch_normalization_12[0][0]     \n",
            "__________________________________________________________________________________________________\n",
            "conv2d_16 (Conv2D)              (None, 32, 32, 512)  2359808     activation_13[0][0]              \n",
            "__________________________________________________________________________________________________\n",
            "batch_normalization_13 (BatchNo (None, 32, 32, 512)  2048        conv2d_16[0][0]                  \n",
            "__________________________________________________________________________________________________\n",
            "activation_14 (Activation)      (None, 32, 32, 512)  0           batch_normalization_13[0][0]     \n",
            "__________________________________________________________________________________________________\n",
            "conv2d_17 (Conv2D)              (None, 32, 32, 256)  131328      activation_14[0][0]              \n",
            "__________________________________________________________________________________________________\n",
            "batch_normalization_14 (BatchNo (None, 32, 32, 256)  1024        conv2d_17[0][0]                  \n",
            "__________________________________________________________________________________________________\n",
            "activation_15 (Activation)      (None, 32, 32, 256)  0           batch_normalization_14[0][0]     \n",
            "__________________________________________________________________________________________________\n",
            "conv2d_19 (Conv2D)              (None, 32, 32, 256)  65792       activation_15[0][0]              \n",
            "__________________________________________________________________________________________________\n",
            "conv2d_transpose_1 (Conv2DTrans (None, 32, 32, 256)  590080      conv2d_19[0][0]                  \n",
            "__________________________________________________________________________________________________\n",
            "conv2d_18 (Conv2D)              (None, 32, 32, 256)  262400      activation_5[0][0]               \n",
            "__________________________________________________________________________________________________\n",
            "add_1 (Add)                     (None, 32, 32, 256)  0           conv2d_transpose_1[0][0]         \n",
            "                                                                 conv2d_18[0][0]                  \n",
            "__________________________________________________________________________________________________\n",
            "activation_16 (Activation)      (None, 32, 32, 256)  0           add_1[0][0]                      \n",
            "__________________________________________________________________________________________________\n",
            "conv2d_20 (Conv2D)              (None, 32, 32, 1)    257         activation_16[0][0]              \n",
            "__________________________________________________________________________________________________\n",
            "activation_17 (Activation)      (None, 32, 32, 1)    0           conv2d_20[0][0]                  \n",
            "__________________________________________________________________________________________________\n",
            "up_sampling2d_2 (UpSampling2D)  (None, 64, 64, 1)    0           activation_17[0][0]              \n",
            "__________________________________________________________________________________________________\n",
            "lambda_1 (Lambda)               (None, 64, 64, 256)  0           up_sampling2d_2[0][0]            \n",
            "__________________________________________________________________________________________________\n",
            "multiply_1 (Multiply)           (None, 64, 64, 256)  0           lambda_1[0][0]                   \n",
            "                                                                 activation_5[0][0]               \n",
            "__________________________________________________________________________________________________\n",
            "conv2d_21 (Conv2D)              (None, 64, 64, 256)  65792       multiply_1[0][0]                 \n",
            "__________________________________________________________________________________________________\n",
            "up_sampling2d_3 (UpSampling2D)  (None, 64, 64, 512)  0           activation_14[0][0]              \n",
            "__________________________________________________________________________________________________\n",
            "batch_normalization_15 (BatchNo (None, 64, 64, 256)  1024        conv2d_21[0][0]                  \n",
            "__________________________________________________________________________________________________\n",
            "concatenate_1 (Concatenate)     (None, 64, 64, 768)  0           up_sampling2d_3[0][0]            \n",
            "                                                                 batch_normalization_15[0][0]     \n",
            "__________________________________________________________________________________________________\n",
            "conv2d_22 (Conv2D)              (None, 64, 64, 256)  1769728     concatenate_1[0][0]              \n",
            "__________________________________________________________________________________________________\n",
            "batch_normalization_16 (BatchNo (None, 64, 64, 256)  1024        conv2d_22[0][0]                  \n",
            "__________________________________________________________________________________________________\n",
            "activation_18 (Activation)      (None, 64, 64, 256)  0           batch_normalization_16[0][0]     \n",
            "__________________________________________________________________________________________________\n",
            "conv2d_23 (Conv2D)              (None, 64, 64, 256)  590080      activation_18[0][0]              \n",
            "__________________________________________________________________________________________________\n",
            "batch_normalization_17 (BatchNo (None, 64, 64, 256)  1024        conv2d_23[0][0]                  \n",
            "__________________________________________________________________________________________________\n",
            "activation_19 (Activation)      (None, 64, 64, 256)  0           batch_normalization_17[0][0]     \n",
            "__________________________________________________________________________________________________\n",
            "conv2d_24 (Conv2D)              (None, 64, 64, 128)  32896       activation_19[0][0]              \n",
            "__________________________________________________________________________________________________\n",
            "batch_normalization_18 (BatchNo (None, 64, 64, 128)  512         conv2d_24[0][0]                  \n",
            "__________________________________________________________________________________________________\n",
            "activation_20 (Activation)      (None, 64, 64, 128)  0           batch_normalization_18[0][0]     \n",
            "__________________________________________________________________________________________________\n",
            "conv2d_26 (Conv2D)              (None, 64, 64, 128)  16512       activation_20[0][0]              \n",
            "__________________________________________________________________________________________________\n",
            "conv2d_transpose_2 (Conv2DTrans (None, 64, 64, 128)  147584      conv2d_26[0][0]                  \n",
            "__________________________________________________________________________________________________\n",
            "conv2d_25 (Conv2D)              (None, 64, 64, 128)  65664       activation_3[0][0]               \n",
            "__________________________________________________________________________________________________\n",
            "add_2 (Add)                     (None, 64, 64, 128)  0           conv2d_transpose_2[0][0]         \n",
            "                                                                 conv2d_25[0][0]                  \n",
            "__________________________________________________________________________________________________\n",
            "activation_21 (Activation)      (None, 64, 64, 128)  0           add_2[0][0]                      \n",
            "__________________________________________________________________________________________________\n",
            "conv2d_27 (Conv2D)              (None, 64, 64, 1)    129         activation_21[0][0]              \n",
            "__________________________________________________________________________________________________\n",
            "activation_22 (Activation)      (None, 64, 64, 1)    0           conv2d_27[0][0]                  \n",
            "__________________________________________________________________________________________________\n",
            "up_sampling2d_4 (UpSampling2D)  (None, 128, 128, 1)  0           activation_22[0][0]              \n",
            "__________________________________________________________________________________________________\n",
            "lambda_2 (Lambda)               (None, 128, 128, 128 0           up_sampling2d_4[0][0]            \n",
            "__________________________________________________________________________________________________\n",
            "multiply_2 (Multiply)           (None, 128, 128, 128 0           lambda_2[0][0]                   \n",
            "                                                                 activation_3[0][0]               \n",
            "__________________________________________________________________________________________________\n",
            "conv2d_28 (Conv2D)              (None, 128, 128, 128 16512       multiply_2[0][0]                 \n",
            "__________________________________________________________________________________________________\n",
            "up_sampling2d_5 (UpSampling2D)  (None, 128, 128, 256 0           activation_19[0][0]              \n",
            "__________________________________________________________________________________________________\n",
            "batch_normalization_19 (BatchNo (None, 128, 128, 128 512         conv2d_28[0][0]                  \n",
            "__________________________________________________________________________________________________\n",
            "concatenate_2 (Concatenate)     (None, 128, 128, 384 0           up_sampling2d_5[0][0]            \n",
            "                                                                 batch_normalization_19[0][0]     \n",
            "__________________________________________________________________________________________________\n",
            "conv2d_29 (Conv2D)              (None, 128, 128, 128 442496      concatenate_2[0][0]              \n",
            "__________________________________________________________________________________________________\n",
            "batch_normalization_20 (BatchNo (None, 128, 128, 128 512         conv2d_29[0][0]                  \n",
            "__________________________________________________________________________________________________\n",
            "activation_23 (Activation)      (None, 128, 128, 128 0           batch_normalization_20[0][0]     \n",
            "__________________________________________________________________________________________________\n",
            "conv2d_30 (Conv2D)              (None, 128, 128, 128 147584      activation_23[0][0]              \n",
            "__________________________________________________________________________________________________\n",
            "batch_normalization_21 (BatchNo (None, 128, 128, 128 512         conv2d_30[0][0]                  \n",
            "__________________________________________________________________________________________________\n",
            "activation_24 (Activation)      (None, 128, 128, 128 0           batch_normalization_21[0][0]     \n",
            "__________________________________________________________________________________________________\n",
            "conv2d_31 (Conv2D)              (None, 128, 128, 64) 8256        activation_24[0][0]              \n",
            "__________________________________________________________________________________________________\n",
            "batch_normalization_22 (BatchNo (None, 128, 128, 64) 256         conv2d_31[0][0]                  \n",
            "__________________________________________________________________________________________________\n",
            "activation_25 (Activation)      (None, 128, 128, 64) 0           batch_normalization_22[0][0]     \n",
            "__________________________________________________________________________________________________\n",
            "conv2d_33 (Conv2D)              (None, 128, 128, 64) 4160        activation_25[0][0]              \n",
            "__________________________________________________________________________________________________\n",
            "conv2d_transpose_3 (Conv2DTrans (None, 128, 128, 64) 36928       conv2d_33[0][0]                  \n",
            "__________________________________________________________________________________________________\n",
            "conv2d_32 (Conv2D)              (None, 128, 128, 64) 16448       activation_1[0][0]               \n",
            "__________________________________________________________________________________________________\n",
            "add_3 (Add)                     (None, 128, 128, 64) 0           conv2d_transpose_3[0][0]         \n",
            "                                                                 conv2d_32[0][0]                  \n",
            "__________________________________________________________________________________________________\n",
            "activation_26 (Activation)      (None, 128, 128, 64) 0           add_3[0][0]                      \n",
            "__________________________________________________________________________________________________\n",
            "conv2d_34 (Conv2D)              (None, 128, 128, 1)  65          activation_26[0][0]              \n",
            "__________________________________________________________________________________________________\n",
            "activation_27 (Activation)      (None, 128, 128, 1)  0           conv2d_34[0][0]                  \n",
            "__________________________________________________________________________________________________\n",
            "up_sampling2d_6 (UpSampling2D)  (None, 256, 256, 1)  0           activation_27[0][0]              \n",
            "__________________________________________________________________________________________________\n",
            "lambda_3 (Lambda)               (None, 256, 256, 64) 0           up_sampling2d_6[0][0]            \n",
            "__________________________________________________________________________________________________\n",
            "multiply_3 (Multiply)           (None, 256, 256, 64) 0           lambda_3[0][0]                   \n",
            "                                                                 activation_1[0][0]               \n",
            "__________________________________________________________________________________________________\n",
            "conv2d_35 (Conv2D)              (None, 256, 256, 64) 4160        multiply_3[0][0]                 \n",
            "__________________________________________________________________________________________________\n",
            "up_sampling2d_7 (UpSampling2D)  (None, 256, 256, 128 0           activation_24[0][0]              \n",
            "__________________________________________________________________________________________________\n",
            "batch_normalization_23 (BatchNo (None, 256, 256, 64) 256         conv2d_35[0][0]                  \n",
            "__________________________________________________________________________________________________\n",
            "concatenate_3 (Concatenate)     (None, 256, 256, 192 0           up_sampling2d_7[0][0]            \n",
            "                                                                 batch_normalization_23[0][0]     \n",
            "__________________________________________________________________________________________________\n",
            "conv2d_36 (Conv2D)              (None, 256, 256, 64) 110656      concatenate_3[0][0]              \n",
            "__________________________________________________________________________________________________\n",
            "batch_normalization_24 (BatchNo (None, 256, 256, 64) 256         conv2d_36[0][0]                  \n",
            "__________________________________________________________________________________________________\n",
            "activation_28 (Activation)      (None, 256, 256, 64) 0           batch_normalization_24[0][0]     \n",
            "__________________________________________________________________________________________________\n",
            "conv2d_37 (Conv2D)              (None, 256, 256, 64) 36928       activation_28[0][0]              \n",
            "__________________________________________________________________________________________________\n",
            "batch_normalization_25 (BatchNo (None, 256, 256, 64) 256         conv2d_37[0][0]                  \n",
            "__________________________________________________________________________________________________\n",
            "activation_29 (Activation)      (None, 256, 256, 64) 0           batch_normalization_25[0][0]     \n",
            "__________________________________________________________________________________________________\n",
            "conv2d_38 (Conv2D)              (None, 256, 256, 3)  195         activation_29[0][0]              \n",
            "__________________________________________________________________________________________________\n",
            "batch_normalization_26 (BatchNo (None, 256, 256, 3)  12          conv2d_38[0][0]                  \n",
            "__________________________________________________________________________________________________\n",
            "activation_30 (Activation)      (None, 256, 256, 3)  0           batch_normalization_26[0][0]     \n",
            "==================================================================================================\n",
            "Total params: 37,334,803\n",
            "Trainable params: 37,319,181\n",
            "Non-trainable params: 15,622\n",
            "__________________________________________________________________________________________________\n",
            "None\n"
          ]
        }
      ],
      "source": [
        "unet_model = attenunet.Attention_UNet((256,256,3),num_classes=3,dropout=0.2)\n",
        "att_unet_model = unet_model.build_attention_unit()"
      ]
    },
    {
      "cell_type": "code",
      "execution_count": null,
      "metadata": {
        "id": "_pjw06pR8hP7"
      },
      "outputs": [],
      "source": [
        "tf.keras.utils.plot_model(att_unet_model)"
      ]
    },
    {
      "cell_type": "code",
      "execution_count": null,
      "metadata": {
        "id": "Ey3pHPrR8-Lf"
      },
      "outputs": [],
      "source": [
        "att_unet_model.load_weights(\"/content/drive/MyDrive/SegmentationNewModels/HighestmodelFifth.h5\")"
      ]
    },
    {
      "cell_type": "code",
      "execution_count": null,
      "metadata": {
        "id": "ywbOpLrBtZuT"
      },
      "outputs": [],
      "source": [
        "focal_loss = sm.losses.CategoricalCELoss()\n",
        "\n",
        "adam=tf.keras.optimizers.Adam()\n",
        "metric = [sm.metrics.IOUScore(threshold=0.5), sm.metrics.FScore(threshold=0.5)]\n",
        "att_unet_model.compile(loss=focal_loss, optimizer=adam, \n",
        "              metrics=metric)"
      ]
    },
    {
      "cell_type": "code",
      "execution_count": null,
      "metadata": {
        "id": "dICu_HJIukPV"
      },
      "outputs": [],
      "source": [
        "checkpoint_filepath=\"/content/drive/MyDrive/attUnetModels/mehakif.h5\"\n",
        "model_checkpoint_callback = tf.keras.callbacks.ModelCheckpoint(\n",
        "    filepath=checkpoint_filepath,\n",
        "    save_weights_only=True,\n",
        "    monitor='val_iou_score',\n",
        "    mode='max',\n",
        "    save_best_only=True)\n",
        "\n"
      ]
    },
    {
      "cell_type": "code",
      "execution_count": null,
      "metadata": {
        "colab": {
          "base_uri": "https://localhost:8080/",
          "height": 463
        },
        "id": "4M4tqiC7Ltqw",
        "outputId": "54245b96-590f-4a43-a2c1-75ab650b154c"
      },
      "outputs": [],
      "source": [
        "history = att_unet_model.fit(mySet.trainingArrayX, mySet.trainingArrayY, \n",
        "                             verbose=1,\n",
        "                             batch_size = 8,\n",
        "                             validation_data=(mySet.testArrayX,mySet.testArrayY),\n",
        "                             shuffle=False,\n",
        "                             epochs=25,\n",
        "                             callbacks=[model_checkpoint_callback])"
      ]
    },
    {
      "cell_type": "code",
      "execution_count": null,
      "metadata": {
        "colab": {
          "base_uri": "https://localhost:8080/"
        },
        "id": "IUgEmrwbF5Is",
        "outputId": "42f9f346-0acd-4123-f213-515371f68f0b"
      },
      "outputs": [
        {
          "name": "stdout",
          "output_type": "stream",
          "text": [
            "14/14 [==============================] - 4s 207ms/step - loss: 0.0590 - dice_coef: 0.9904 - jacard_coef: -0.1820\n"
          ]
        },
        {
          "data": {
            "text/plain": [
              "[0.05901692807674408, 0.9904336333274841, -0.18195804953575134]"
            ]
          },
          "execution_count": 252,
          "metadata": {},
          "output_type": "execute_result"
        }
      ],
      "source": [
        "att_unet_model.evaluate(mySet.testArrayX,mySet.testArrayY,verbose=1)"
      ]
    },
    {
      "cell_type": "code",
      "execution_count": null,
      "metadata": {
        "id": "lUvm81T72Q1Z"
      },
      "outputs": [],
      "source": [
        "num_img_test = 0"
      ]
    },
    {
      "cell_type": "code",
      "execution_count": null,
      "metadata": {
        "id": "ln-gcOCIKbLD"
      },
      "outputs": [],
      "source": [
        "from skimage.transform import resize\n",
        "\n",
        "img=cv2.imread(\"/content/drive/MyDrive/NewDatasetsBG/Bone/TestSet/No/10100.png\")\n",
        "img=img.astype(np.float32)\n",
        "img/=255.\n",
        "img=resize(img,(256,256))\n",
        "img=img.reshape(1,256,256,3)"
      ]
    },
    {
      "cell_type": "code",
      "execution_count": null,
      "metadata": {
        "id": "uuy2l0MiKud8"
      },
      "outputs": [],
      "source": [
        "att_unet_model1 = unet_model.build_attention_unit()\n",
        "att_unet_model1.load_weights(\"/content/drive/MyDrive/SegmentationNewModels/HighestmodelOne.h5\")\n",
        "att_unet_model2 = unet_model.build_attention_unit()\n",
        "att_unet_model2.load_weights(\"/content/drive/MyDrive/SegmentationNewModels/HighestmodelTwo.h5\")\n",
        "att_unet_model3 = unet_model.build_attention_unit()\n",
        "att_unet_model3.load_weights(\"/content/drive/MyDrive/SegmentationNewModels/HighestmodelThree.h5\")\n",
        "att_unet_model4 = unet_model.build_attention_unit()\n",
        "att_unet_model4.load_weights(\"/content/drive/MyDrive/SegmentationNewModels/HighestmodelFour.h5\")\n",
        "att_unet_model5 = unet_model.build_attention_unit()\n",
        "att_unet_model5.load_weights(\"/content/drive/MyDrive/SegmentationNewModels/HighestmodelFifth.h5\")\n"
      ]
    },
    {
      "cell_type": "code",
      "execution_count": null,
      "metadata": {
        "id": "vWw3ZYqoaZA8"
      },
      "outputs": [],
      "source": [
        "num_img_test=0"
      ]
    },
    {
      "cell_type": "code",
      "execution_count": null,
      "metadata": {
        "colab": {
          "base_uri": "https://localhost:8080/",
          "height": 310
        },
        "id": "Ts_QkpdVt6vU",
        "outputId": "2df92cce-122f-497a-da8a-a0f3f801c47e"
      },
      "outputs": [
        {
          "data": {
            "image/png": "[encoded data removed]",
            "text/plain": [
              "<Figure size 1080x720 with 3 Axes>"
            ]
          },
          "metadata": {},
          "output_type": "display_data"
        }
      ],
      "source": [
        "\n",
        "img_test = cv2.imread(\"/content/drive/MyDrive/Segment/BoneNewTwo/TestSet/Annotation/\"+mySet.nameArray[num_img_test])\n",
        "test_label = cv2.resize(cv2.imread(\"/content/testFolder/\"+mySet.nameArray[num_img_test]),(512,512),interpolation=cv2.INTER_CUBIC)\n",
        "\n",
        "img_test_input = np.expand_dims(img_test, 0)\n",
        "\n",
        "#pred = ((model.predict(img_test_input)[0,:,:,:] > 0.5)*255).astype(np.uint8)\n",
        "'''pred2 = ((att_unet_model2.predict(img_test_input)[0,:,:,:] > 0.5)*255).astype(np.uint8)\n",
        "pred3 = ((att_unet_model3.predict(img_test_input)[0,:,:,:] > 0.5)*255).astype(np.uint8)\n",
        "pred4 = ((att_unet_model4.predict(img_test_input)[0,:,:,:] > 0.5)*255).astype(np.uint8)\n",
        "pred5 = ((att_unet_model5.predict(img_test_input)[0,:,:,:] > 0.5)*255).astype(np.uint8)'''\n",
        "#pred = (att_unet_model.predict(img_test_input)[0,:,:,0] > 0.5).astype(np.uint8)\n",
        "#pred2 = (att_unet_model.predict(img_test_input)[0,:,:,1] > 0.5).astype(np.uint8)\n",
        "# Visualize the result \n",
        "plt.figure(figsize=(15, 10))\n",
        "plt.subplot(231)\n",
        "plt.title('Testing Image')\n",
        "plt.imshow(img_test, cmap='gray')\n",
        "plt.subplot(232)\n",
        "plt.title('Testing Label')\n",
        "plt.imshow(test_label, cmap='gray')\n",
        "plt.subplot(233)\n",
        "plt.title('Prediction on test image')\n",
        "plt.imshow(test_label, cmap='gray')\n",
        "\n",
        "\n",
        "num_img_test+=1\n"
      ]
    },
    {
      "cell_type": "code",
      "execution_count": null,
      "metadata": {
        "colab": {
          "base_uri": "https://localhost:8080/",
          "height": 181
        },
        "id": "GGF0uUHs-xLi",
        "outputId": "3a9cc892-fd56-4aea-c200-3b6546576589"
      },
      "outputs": [
        {
          "ename": "NameError",
          "evalue": "ignored",
          "output_type": "error",
          "traceback": [
            "\u001b[0;31m---------------------------------------------------------------------------\u001b[0m",
            "\u001b[0;31mNameError\u001b[0m                                 Traceback (most recent call last)",
            "\u001b[0;32m<ipython-input-35-e0173067867e>\u001b[0m in \u001b[0;36m<module>\u001b[0;34m()\u001b[0m\n\u001b[1;32m      1\u001b[0m \u001b[0;32mfrom\u001b[0m \u001b[0mmatplotlib\u001b[0m \u001b[0;32mimport\u001b[0m \u001b[0mpyplot\u001b[0m \u001b[0;32mas\u001b[0m \u001b[0mplt\u001b[0m\u001b[0;34m\u001b[0m\u001b[0;34m\u001b[0m\u001b[0m\n\u001b[0;32m----> 2\u001b[0;31m \u001b[0mplt\u001b[0m\u001b[0;34m.\u001b[0m\u001b[0mimsave\u001b[0m\u001b[0;34m(\u001b[0m\u001b[0;34m\"perd4.png\"\u001b[0m\u001b[0;34m,\u001b[0m\u001b[0mcv2\u001b[0m\u001b[0;34m.\u001b[0m\u001b[0mcvtColor\u001b[0m\u001b[0;34m(\u001b[0m\u001b[0mpred4\u001b[0m\u001b[0;34m,\u001b[0m\u001b[0mcv2\u001b[0m\u001b[0;34m.\u001b[0m\u001b[0mCOLOR_BGR2RGB\u001b[0m\u001b[0;34m)\u001b[0m\u001b[0;34m)\u001b[0m\u001b[0;34m\u001b[0m\u001b[0;34m\u001b[0m\u001b[0m\n\u001b[0m",
            "\u001b[0;31mNameError\u001b[0m: name 'pred4' is not defined"
          ]
        }
      ],
      "source": [
        "from matplotlib import pyplot as plt\n",
        "plt.imsave(\"perd4.png\",cv2.cvtColor(pred4,cv2.COLOR_BGR2RGB))"
      ]
    },
    {
      "cell_type": "code",
      "execution_count": null,
      "metadata": {
        "id": "Kcf_Gx3O_q-g"
      },
      "outputs": [],
      "source": [
        "import cv2"
      ]
    },
    {
      "cell_type": "code",
      "execution_count": null,
      "metadata": {
        "id": "AysIO9MfQ5hk"
      },
      "outputs": [],
      "source": [
        "for i in range(len(mySet.nameArray)):\n",
        "  img_test = mySet.testArrayX[i]\n",
        "  img_test_input = np.expand_dims(img_test, 0)\n",
        "  plt.imsave(\"/content/testFolder/\"+str(mySet.nameArray[i]),cv2.cvtColor(((model.predict(img_test_input)[0,:,:,:] > 0.5)*255).astype(np.uint8),cv2.COLOR_BGR2RGB))"
      ]
    },
    {
      "cell_type": "code",
      "execution_count": null,
      "metadata": {
        "id": "xrTDHAm8BK57"
      },
      "outputs": [],
      "source": [
        "!zip -r \"/content/testFolder.zip\" \"/content/testFolder\""
      ]
    },
    {
      "cell_type": "code",
      "execution_count": null,
      "metadata": {
        "id": "Gv1JwrL7S6v_"
      },
      "outputs": [],
      "source": [
        "target=res\n",
        "prediction=resized\n",
        "intersection = np.logical_and(target, prediction)\n",
        "union = np.logical_or(target, prediction)\n",
        "iou_score = np.sum(intersection) / np.sum(union)"
      ]
    },
    {
      "cell_type": "code",
      "execution_count": null,
      "metadata": {
        "id": "HTc_rqfIVkQU"
      },
      "outputs": [],
      "source": [
        "iou_score"
      ]
    },
    {
      "cell_type": "markdown",
      "metadata": {
        "id": "7KI7uKIi-y52"
      },
      "source": [
        "# Model 2"
      ]
    },
    {
      "cell_type": "code",
      "execution_count": null,
      "metadata": {
        "id": "-8l_G8iC-1HM"
      },
      "outputs": [],
      "source": [
        "def multi_unet_model(n_classes=4, IMG_HEIGHT=256, IMG_WIDTH=256, IMG_CHANNELS=1):\n",
        "#Build the model\n",
        "    inputs = Input((IMG_HEIGHT, IMG_WIDTH, IMG_CHANNELS))\n",
        "    #s = Lambda(lambda x: x / 255)(inputs)   #No need for this if we normalize our inputs beforehand\n",
        "    s = inputs\n",
        "\n",
        "    #Contraction path\n",
        "    c1 = Conv2D(16, (3, 3), activation='relu', kernel_initializer='he_normal', padding='same')(s)\n",
        "    c1 = Dropout(0.2)(c1)  # Original 0.1\n",
        "    c1 = Conv2D(16, (3, 3), activation='relu', kernel_initializer='he_normal', padding='same')(c1)\n",
        "    p1 = MaxPooling2D((2, 2))(c1)\n",
        "    \n",
        "    c2 = Conv2D(32, (3, 3), activation='relu', kernel_initializer='he_normal', padding='same')(p1)\n",
        "    c2 = Dropout(0.2)(c2)  # Original 0.1\n",
        "    c2 = Conv2D(32, (3, 3), activation='relu', kernel_initializer='he_normal', padding='same')(c2)\n",
        "    p2 = MaxPooling2D((2, 2))(c2)\n",
        "     \n",
        "    c3 = Conv2D(64, (3, 3), activation='relu', kernel_initializer='he_normal', padding='same')(p2)\n",
        "    c3 = Dropout(0.2)(c3)\n",
        "    c3 = Conv2D(64, (3, 3), activation='relu', kernel_initializer='he_normal', padding='same')(c3)\n",
        "    p3 = MaxPooling2D((2, 2))(c3)\n",
        "     \n",
        "    c4 = Conv2D(128, (3, 3), activation='relu', kernel_initializer='he_normal', padding='same')(p3)\n",
        "    c4 = Dropout(0.2)(c4)\n",
        "    c4 = Conv2D(128, (3, 3), activation='relu', kernel_initializer='he_normal', padding='same')(c4)\n",
        "    p4 = MaxPooling2D(pool_size=(2, 2))(c4)\n",
        "     \n",
        "    c5 = Conv2D(256, (3, 3), activation='relu', kernel_initializer='he_normal', padding='same')(p4)\n",
        "    c5 = Dropout(0.3)(c5)\n",
        "    c5 = Conv2D(256, (3, 3), activation='relu', kernel_initializer='he_normal', padding='same')(c5)\n",
        "    \n",
        "    #Expansive path \n",
        "    u6 = Conv2DTranspose(128, (2, 2), strides=(2, 2), padding='same')(c5)\n",
        "    u6 = concatenate([u6, c4])\n",
        "    c6 = Conv2D(128, (3, 3), activation='relu', kernel_initializer='he_normal', padding='same')(u6)\n",
        "    c6 = Dropout(0.2)(c6)\n",
        "    c6 = Conv2D(128, (3, 3), activation='relu', kernel_initializer='he_normal', padding='same')(c6)\n",
        "     \n",
        "    u7 = Conv2DTranspose(64, (2, 2), strides=(2, 2), padding='same')(c6)\n",
        "    u7 = concatenate([u7, c3])\n",
        "    c7 = Conv2D(64, (3, 3), activation='relu', kernel_initializer='he_normal', padding='same')(u7)\n",
        "    c7 = Dropout(0.2)(c7)\n",
        "    c7 = Conv2D(64, (3, 3), activation='relu', kernel_initializer='he_normal', padding='same')(c7)\n",
        "     \n",
        "    u8 = Conv2DTranspose(32, (2, 2), strides=(2, 2), padding='same')(c7)\n",
        "    u8 = concatenate([u8, c2])\n",
        "    c8 = Conv2D(32, (3, 3), activation='relu', kernel_initializer='he_normal', padding='same')(u8)\n",
        "    c8 = Dropout(0.2)(c8)  # Original 0.1\n",
        "    c8 = Conv2D(32, (3, 3), activation='relu', kernel_initializer='he_normal', padding='same')(c8)\n",
        "     \n",
        "    u9 = Conv2DTranspose(16, (2, 2), strides=(2, 2), padding='same')(c8)\n",
        "    u9 = concatenate([u9, c1], axis=3)\n",
        "    c9 = Conv2D(16, (3, 3), activation='relu', kernel_initializer='he_normal', padding='same')(u9)\n",
        "    c9 = Dropout(0.2)(c9)  # Original 0.1\n",
        "    c9 = Conv2D(16, (3, 3), activation='relu', kernel_initializer='he_normal', padding='same')(c9)\n",
        "     \n",
        "    outputs = Conv2D(n_classes, (1, 1), activation='softmax')(c9)\n",
        "     \n",
        "    model = Model(inputs=[inputs], outputs=[outputs])\n",
        "    \n",
        "    #NOTE: Compile the model in the main program to make it easy to test with various loss functions\n",
        "    #model.compile(optimizer='adam', loss='binary_crossentropy', metrics=['accuracy'])\n",
        "    \n",
        "    #model.summary()\n",
        "    \n",
        "    return model"
      ]
    },
    {
      "cell_type": "code",
      "execution_count": null,
      "metadata": {
        "id": "SErcRHz8AcRc"
      },
      "outputs": [],
      "source": [
        "multiunet=multi_unet_model(3,512,512)"
      ]
    },
    {
      "cell_type": "code",
      "execution_count": null,
      "metadata": {
        "id": "c6CYbZQ51AkR"
      },
      "outputs": [],
      "source": [
        "newmulti=multi_unet_model(3,512,512,3)"
      ]
    },
    {
      "cell_type": "code",
      "execution_count": null,
      "metadata": {
        "id": "rDwjbYJ_aNLy"
      },
      "outputs": [],
      "source": [
        "newmulti.load_weights(\"/content/drive/MyDrive/sotaSegMod/model2w.h5\")"
      ]
    },
    {
      "cell_type": "code",
      "execution_count": null,
      "metadata": {
        "id": "Un43beBCdhMH"
      },
      "outputs": [],
      "source": [
        "multiunet.summary()"
      ]
    },
    {
      "cell_type": "code",
      "execution_count": null,
      "metadata": {
        "id": "sXgnp_8rVkYF"
      },
      "outputs": [],
      "source": [
        "multiunet.compile(optimizer='adam', loss='categorical_crossentropy', metrics=['accuracy',jacard_coef])"
      ]
    },
    {
      "cell_type": "code",
      "execution_count": null,
      "metadata": {
        "id": "UttXtYXWVwtX"
      },
      "outputs": [],
      "source": [
        "checkpoint_filepath=\"/content/drive/MyDrive/sotaSegMod/modelgrayscaleNEWMODEL2.h5\"\n",
        "model_checkpoint_callback = tf.keras.callbacks.ModelCheckpoint(\n",
        "    filepath=checkpoint_filepath,\n",
        "    monitor='val_jacard_coef',\n",
        "    mode='max',\n",
        "    save_weights_only=True,\n",
        "    save_best_only=True)"
      ]
    },
    {
      "cell_type": "code",
      "execution_count": null,
      "metadata": {
        "id": "HhCBAl2aV9CH"
      },
      "outputs": [],
      "source": [
        "history = multiunet.fit(mySet.trainingArrayX, mySet.trainingArrayY, \n",
        "                             verbose=1,\n",
        "                             batch_size = 16,\n",
        "                             validation_data=(mySet.testArrayX,mySet.testArrayY),\n",
        "                             shuffle=False,\n",
        "                             epochs=200,\n",
        "                             callbacks=[model_checkpoint_callback])"
      ]
    },
    {
      "cell_type": "code",
      "execution_count": null,
      "metadata": {
        "id": "LvnIk-blW1et"
      },
      "outputs": [],
      "source": [
        "multiunet.evaluate(mySet.testArrayX,mySet.testArrayY)"
      ]
    },
    {
      "cell_type": "code",
      "execution_count": null,
      "metadata": {
        "id": "zXhjTkiECTbr"
      },
      "outputs": [],
      "source": [
        "for i in range(len(mySet.nameArray)):\n",
        "  img_test = mySet.testArrayX[i]\n",
        "  img_test_input = np.expand_dims(img_test, 0)\n",
        "  plt.imsave(\"/content/testFolder/\"+str(mySet.nameArray[i]),(((model.predict(img_test_input)[0,:,:,:] > 0.5)*255).astype(np.uint8)))"
      ]
    },
    {
      "cell_type": "code",
      "execution_count": null,
      "metadata": {
        "id": "VzNCxi9U9MaA"
      },
      "outputs": [],
      "source": [
        "num_img_test=0"
      ]
    },
    {
      "cell_type": "code",
      "execution_count": null,
      "metadata": {
        "colab": {
          "base_uri": "https://localhost:8080/",
          "height": 310
        },
        "id": "jMn0B3KQWBtP",
        "outputId": "c1072081-75f1-410a-ea9b-55989f3a8300"
      },
      "outputs": [
        {
          "data": {
            "image/png": "[encoded data removed]",
            "text/plain": [
              "<Figure size 1080x720 with 3 Axes>"
            ]
          },
          "metadata": {},
          "output_type": "display_data"
        }
      ],
      "source": [
        "\n",
        "img_test = mySet.testArrayX[num_img_test]\n",
        "test_label = mySet.testArrayY[num_img_test]\n",
        "\n",
        "img_test_input = np.expand_dims(img_test, 0)\n",
        "\n",
        "pred = ((model.predict(img_test_input)[0,:,:,:] > 0.5)*255).astype(np.uint8)\n",
        "'''pred2 = ((att_unet_model2.predict(img_test_input)[0,:,:,:] > 0.5)*255).astype(np.uint8)\n",
        "pred3 = ((att_unet_model3.predict(img_test_input)[0,:,:,:] > 0.5)*255).astype(np.uint8)\n",
        "pred4 = ((att_unet_model4.predict(img_test_input)[0,:,:,:] > 0.5)*255).astype(np.uint8)\n",
        "pred5 = ((att_unet_model5.predict(img_test_input)[0,:,:,:] > 0.5)*255).astype(np.uint8)'''\n",
        "#pred = (att_unet_model.predict(img_test_input)[0,:,:,0] > 0.5).astype(np.uint8)\n",
        "#pred2 = (att_unet_model.predict(img_test_input)[0,:,:,1] > 0.5).astype(np.uint8)\n",
        "# Visualize the result \n",
        "plt.figure(figsize=(15, 10))\n",
        "plt.subplot(231)\n",
        "plt.title('Testing Image')\n",
        "plt.imshow(img_test, cmap='gray')\n",
        "plt.subplot(232)\n",
        "plt.title('Testing Label')\n",
        "plt.imshow(test_label[:,:,:], cmap='gray')\n",
        "plt.subplot(233)\n",
        "plt.title('Prediction on test image')\n",
        "plt.imshow(pred, cmap='gray')\n",
        "\n",
        "\n",
        "num_img_test+=1\n"
      ]
    },
    {
      "cell_type": "code",
      "execution_count": null,
      "metadata": {
        "id": "Oct2nodPXBlp"
      },
      "outputs": [],
      "source": []
    },
    {
      "cell_type": "markdown",
      "metadata": {
        "id": "NsjnuZ1deiEV"
      },
      "source": [
        "# MODEL 3\n"
      ]
    },
    {
      "cell_type": "code",
      "execution_count": null,
      "metadata": {
        "id": "EByqsyhZe6B6"
      },
      "outputs": [],
      "source": [
        "IMAGE_SIZE = 512\n",
        "EPOCHS = 30\n",
        "BATCH = 8\n",
        "LR = 1e-4\n",
        "\n",
        "PATH = \"/content/\""
      ]
    },
    {
      "cell_type": "code",
      "execution_count": null,
      "metadata": {
        "id": "-ECWSt-Aey-Y"
      },
      "outputs": [],
      "source": [
        "import os\n",
        "import numpy as np\n",
        "import cv2\n",
        "from glob import glob\n",
        "import tensorflow as tf\n",
        "import matplotlib.pyplot as plt\n",
        "from sklearn.model_selection import train_test_split\n",
        "\n",
        "from tensorflow.keras.layers import Conv2D, Activation, BatchNormalization\n",
        "from tensorflow.keras.layers import UpSampling2D, Input, Concatenate\n",
        "from tensorflow.keras.models import Model\n",
        "from tensorflow.keras.applications import MobileNetV2\n",
        "from tensorflow.keras.callbacks import EarlyStopping, ReduceLROnPlateau\n",
        "from tensorflow.keras.metrics import Recall, Precision\n",
        "from tensorflow.keras import backend as K"
      ]
    },
    {
      "cell_type": "code",
      "execution_count": null,
      "metadata": {
        "id": "mBf8j_VkekKC"
      },
      "outputs": [],
      "source": [
        "def model():\n",
        "    inputs = Input(shape=(IMAGE_SIZE, IMAGE_SIZE, 3), name=\"input_image\")\n",
        "    \n",
        "    encoder = MobileNetV2(input_tensor=inputs, weights=\"imagenet\", include_top=False, alpha=0.35)\n",
        "    skip_connection_names = [\"input_image\", \"block_1_expand_relu\", \"block_3_expand_relu\", \"block_6_expand_relu\"]\n",
        "    encoder_output = encoder.get_layer(\"block_13_expand_relu\").output\n",
        "    \n",
        "    f = [16, 32, 48, 64]\n",
        "    x = encoder_output\n",
        "    for i in range(1, len(skip_connection_names)+1, 1):\n",
        "        x_skip = encoder.get_layer(skip_connection_names[-i]).output\n",
        "        x = UpSampling2D((2, 2))(x)\n",
        "        x = Concatenate()([x, x_skip])\n",
        "        \n",
        "        x = Conv2D(f[-i], (3, 3), padding=\"same\")(x)\n",
        "        x = BatchNormalization()(x)\n",
        "        x = Activation(\"relu\")(x)\n",
        "        \n",
        "        x = Conv2D(f[-i], (3, 3), padding=\"same\")(x)\n",
        "        x = BatchNormalization()(x)\n",
        "        x = Activation(\"relu\")(x)\n",
        "        \n",
        "    x = Conv2D(3, (1, 1), padding=\"same\")(x)\n",
        "    x = Activation(\"softmax\")(x)\n",
        "    \n",
        "    model = Model(inputs, x)\n",
        "    return model"
      ]
    },
    {
      "cell_type": "code",
      "execution_count": null,
      "metadata": {
        "id": "jA18VO7lel9Z"
      },
      "outputs": [],
      "source": [
        "modelim=model()\n",
        "modelim.summary()"
      ]
    },
    {
      "cell_type": "code",
      "execution_count": null,
      "metadata": {
        "id": "kt7d2VGgenFb"
      },
      "outputs": [],
      "source": [
        "modelim.compile(optimizer='adam', loss='categorical_crossentropy', metrics=['accuracy',jacard_coef])"
      ]
    },
    {
      "cell_type": "code",
      "execution_count": null,
      "metadata": {
        "id": "KSBE_c3FhtpH"
      },
      "outputs": [],
      "source": [
        "checkpoint_filepath=\"/content/drive/MyDrive/SegmentationNewModels/modelim22.h5\"\n",
        "model_checkpoint_callback = tf.keras.callbacks.ModelCheckpoint(\n",
        "    filepath=checkpoint_filepath,\n",
        "    save_weights_only=True,\n",
        "    monitor='val_jacard_coef',\n",
        "    mode='max',\n",
        "    save_best_only=True)"
      ]
    },
    {
      "cell_type": "code",
      "execution_count": null,
      "metadata": {
        "id": "Fd129h4Vhu6Z"
      },
      "outputs": [],
      "source": [
        "history = modelim.fit(mySet.trainingArrayX, mySet.trainingArrayY, \n",
        "                             verbose=1,\n",
        "                             batch_size = 4,\n",
        "                             validation_data=(mySet.testArrayX,mySet.testArrayY),\n",
        "                             shuffle=False,\n",
        "                             epochs=50,\n",
        "                             callbacks=[model_checkpoint_callback])"
      ]
    },
    {
      "cell_type": "code",
      "execution_count": null,
      "metadata": {
        "id": "ZfvIZDYohxya"
      },
      "outputs": [],
      "source": []
    },
    {
      "cell_type": "markdown",
      "metadata": {
        "id": "9BvpgZqIpT-W"
      },
      "source": [
        "# MODEL 4\n"
      ]
    },
    {
      "cell_type": "code",
      "execution_count": null,
      "metadata": {
        "id": "vdPqPujApWyk"
      },
      "outputs": [],
      "source": [
        "from tensorflow.keras.layers import Conv2D, BatchNormalization, Activation, MaxPool2D, Conv2DTranspose, Concatenate, Input\n",
        "from tensorflow.keras.models import Model\n",
        "from tensorflow.keras.applications import VGG16\n",
        "\n",
        "def conv_block(input, num_filters):\n",
        "    x = Conv2D(num_filters, 3, padding=\"same\")(input)\n",
        "    x = BatchNormalization()(x)\n",
        "    x = Activation(\"relu\")(x)\n",
        "\n",
        "    x = Conv2D(num_filters, 3, padding=\"same\")(x)\n",
        "    x = BatchNormalization()(x)\n",
        "    x = Activation(\"relu\")(x)\n",
        "\n",
        "    return x\n",
        "\n",
        "def decoder_block(input, skip_features, num_filters):\n",
        "    x = Conv2DTranspose(num_filters, (2, 2), strides=2, padding=\"same\")(input)\n",
        "    x = Concatenate()([x, skip_features])\n",
        "    x = conv_block(x, num_filters)\n",
        "    return x\n",
        "\n",
        "def build_vgg16_unet(input_shape):\n",
        "    \"\"\" Input \"\"\"\n",
        "    inputs = Input(input_shape)\n",
        "\n",
        "    \"\"\" Pre-trained VGG16 Model \"\"\"\n",
        "    vgg16 = VGG16(include_top=False, weights=\"imagenet\", input_tensor=inputs)\n",
        "\n",
        "    \"\"\" Encoder \"\"\"\n",
        "    s1 = vgg16.get_layer(\"block1_conv2\").output         ## (512 x 512)\n",
        "    s2 = vgg16.get_layer(\"block2_conv2\").output         ## (256 x 256)\n",
        "    s3 = vgg16.get_layer(\"block3_conv3\").output         ## (128 x 128)\n",
        "    s4 = vgg16.get_layer(\"block4_conv3\").output         ## (64 x 64)\n",
        "\n",
        "    \"\"\" Bridge \"\"\"\n",
        "    b1 = vgg16.get_layer(\"block5_conv3\").output         ## (32 x 32)\n",
        "\n",
        "    \"\"\" Decoder \"\"\"\n",
        "    d1 = decoder_block(b1, s4, 512)                     ## (64 x 64)\n",
        "    d2 = decoder_block(d1, s3, 256)                     ## (128 x 128)\n",
        "    d3 = decoder_block(d2, s2, 128)                     ## (256 x 256)\n",
        "    d4 = decoder_block(d3, s1, 64)                      ## (512 x 512)\n",
        "\n",
        "    \"\"\" Output \"\"\"\n",
        "    outputs = Conv2D(3, 1, padding=\"same\", activation=\"softmax\")(d4)\n",
        "\n",
        "    model = Model(inputs, outputs, name=\"VGG16_U-Net\")\n",
        "    return model"
      ]
    },
    {
      "cell_type": "code",
      "execution_count": null,
      "metadata": {
        "id": "QmJeirfdpcnB"
      },
      "outputs": [],
      "source": [
        "model = build_vgg16_unet((256,256,3))\n",
        "model.summary()"
      ]
    },
    {
      "cell_type": "code",
      "execution_count": null,
      "metadata": {
        "id": "Y-_26jzwpkJe"
      },
      "outputs": [],
      "source": [
        "model.compile(optimizer='adam', loss='categorical_crossentropy', metrics=['accuracy',jacard_coef])"
      ]
    },
    {
      "cell_type": "code",
      "execution_count": null,
      "metadata": {
        "id": "VFfoYxP3prwe"
      },
      "outputs": [],
      "source": [
        "checkpoint_filepath=\"/content/drive/MyDrive/SegmentationNewModels/vgg16unet.h5\"\n",
        "model_checkpoint_callback = tf.keras.callbacks.ModelCheckpoint(\n",
        "    filepath=checkpoint_filepath,\n",
        "    save_weights_only=True,\n",
        "    monitor='val_jacard_coef',\n",
        "    mode='max',\n",
        "    save_best_only=True)"
      ]
    },
    {
      "cell_type": "code",
      "execution_count": null,
      "metadata": {
        "id": "j6bjyHHpptxu"
      },
      "outputs": [],
      "source": [
        "history = model.fit(mySet.trainingArrayX, mySet.trainingArrayY, \n",
        "                             verbose=1,\n",
        "                             batch_size = 16,\n",
        "                             validation_data=(mySet.testArrayX,mySet.testArrayY),\n",
        "                             shuffle=False,\n",
        "                             epochs=50,\n",
        "                             callbacks=[model_checkpoint_callback])"
      ]
    },
    {
      "cell_type": "code",
      "execution_count": null,
      "metadata": {
        "id": "I6Gxt7X7EzYm"
      },
      "outputs": [],
      "source": []
    },
    {
      "cell_type": "markdown",
      "metadata": {
        "id": "LQ_hz2_y8ORn"
      },
      "source": [
        "# MODEL 5\n"
      ]
    },
    {
      "cell_type": "code",
      "execution_count": null,
      "metadata": {
        "id": "mO4Rm26FG0e_"
      },
      "outputs": [],
      "source": [
        "import pandas as pd\n",
        "import numpy as np\n",
        "import os\n",
        "from tensorflow.keras.layers import *\n",
        "#from tensorflow.keras.layers import Conv2D, Conv2DTranspose\n",
        "from tensorflow.keras.models import *\n",
        "from tensorflow.keras.preprocessing.image import ImageDataGenerator, load_img\n",
        "from tensorflow.keras.preprocessing.image import img_to_array\n",
        "import matplotlib.pyplot as plt\n",
        "import seaborn as sns"
      ]
    },
    {
      "cell_type": "code",
      "execution_count": null,
      "metadata": {
        "id": "wGl-Co6L8QdI"
      },
      "outputs": [],
      "source": [
        "input_height=256\n",
        "input_width=256\n",
        "n_classes=3\n",
        "VGG_Weights_path=\"/content/vgg16_weights_tf_dim_ordering_tf_kernels_notop.h5\"\n",
        "def FCN8(IMG_input, nClasses,  input_height=224, input_width=224):\n",
        "    ## input_height and width must be devisible by 32 because maxpooling with filter size = (2,2) is operated 5 times,\n",
        "    ## which makes the input_height and width 2^5 = 32 times smaller   \n",
        "    ## Block 1\n",
        "    x = Conv2D(64, (3, 3), activation='relu', padding='same', name='block1_conv1')(IMG_input)\n",
        "    x = Conv2D(64, (3, 3), activation='relu', padding='same', name='block1_conv2')(x)\n",
        "    x = MaxPooling2D((2, 2), strides=(2, 2), name='block1_pool')(x)\n",
        "    f1 = x\n",
        "    \n",
        "    # Block 2\n",
        "    x = Conv2D(128, (3, 3), activation='relu', padding='same', name='block2_conv1')(x)\n",
        "    x = Conv2D(128, (3, 3), activation='relu', padding='same', name='block2_conv2')(x)\n",
        "    x = MaxPooling2D((2, 2), strides=(2, 2), name='block2_pool')(x)\n",
        "    f2 = x\n",
        "\n",
        "    # Block 3\n",
        "    x = Conv2D(256, (3, 3), activation='relu', padding='same', name='block3_conv1')(x)\n",
        "    x = Conv2D(256, (3, 3), activation='relu', padding='same', name='block3_conv2')(x)\n",
        "    x = Conv2D(256, (3, 3), activation='relu', padding='same', name='block3_conv3')(x)\n",
        "    x = MaxPooling2D((2, 2), strides=(2, 2), name='block3_pool')(x)\n",
        "    pool3 = x\n",
        "\n",
        "    # Block 4\n",
        "    x = Conv2D(512, (3, 3), activation='relu', padding='same', name='block4_conv1')(x)\n",
        "    x = Conv2D(512, (3, 3), activation='relu', padding='same', name='block4_conv2')(x)\n",
        "    x = Conv2D(512, (3, 3), activation='relu', padding='same', name='block4_conv3')(x)\n",
        "    pool4 = MaxPooling2D((2, 2), strides=(2, 2), name='block4_pool')(x)## (None, 14, 14, 512) \n",
        "\n",
        "    # Block 5\n",
        "    x = Conv2D(512, (3, 3), activation='relu', padding='same', name='block5_conv1')(pool4)\n",
        "    x = Conv2D(512, (3, 3), activation='relu', padding='same', name='block5_conv2')(x)\n",
        "    x = Conv2D(512, (3, 3), activation='relu', padding='same', name='block5_conv3')(x)\n",
        "    pool5 = MaxPooling2D((2, 2), strides=(2, 2), name='block5_pool')(x)## (None, 7, 7, 512)\n",
        "     \n",
        "    vgg  = Model(img_input, pool5)\n",
        "    vgg.load_weights(VGG_Weights_path) ## loading VGG weights for the encoder parts of FCN8\n",
        "    \n",
        "    o = (Conv2D(n_classes, (7, 7), activation='relu', padding='same', name=\"conv6\"))(pool5)\n",
        "        \n",
        "    ## 4 times upsamping for final layer\n",
        "    conv6_4 = Conv2DTranspose(n_classes, kernel_size=(4,4),  strides=(4,4), use_bias = False)(o)\n",
        "    ## 2 times upsampling for pool411\n",
        "    pool4_n = ( Conv2D(n_classes, (1, 1), activation='relu', padding='same', name=\"pool4_n\"))(pool4)\n",
        "    pool4_n_2 = (Conv2DTranspose(nClasses, kernel_size=(2,2), strides=(2,2), use_bias=False))(pool4_n)\n",
        "    #1 time for pool3\n",
        "    pool3_n = (Conv2D( nClasses , ( 1 , 1 ) , activation='relu' , padding='same', name=\"pool3_n\"))(pool3)\n",
        "        \n",
        "    o = Add(name=\"add\")([pool4_n_2, pool3_n, conv6_4 ])\n",
        "    o = Conv2DTranspose( nClasses , kernel_size=(8,8) ,  strides=(8,8) , use_bias=False)(o)\n",
        "    o = (Activation('softmax'))(o)\n",
        "    \n",
        "    model = Model(img_input, o)\n",
        "    return model\n",
        "\n",
        "img_input = Input(shape=(input_height,input_width, 3)) \n",
        "model = FCN8(img_input,n_classes,  \n",
        "             input_height = 224, \n",
        "             input_width = 224)\n",
        "model.summary()"
      ]
    },
    {
      "cell_type": "code",
      "execution_count": null,
      "metadata": {
        "id": "83VnHdN8-MC5"
      },
      "outputs": [],
      "source": [
        "model.compile(optimizer='adam', loss='categorical_crossentropy', metrics=['accuracy',jacard_coef])"
      ]
    },
    {
      "cell_type": "code",
      "execution_count": null,
      "metadata": {
        "id": "primaR0z9Uo9"
      },
      "outputs": [],
      "source": [
        "checkpoint_filepath=\"/content/drive/MyDrive/SegmentationNewModels/fcnmodel.h5\"\n",
        "model_checkpoint_callback = tf.keras.callbacks.ModelCheckpoint(\n",
        "    filepath=checkpoint_filepath,\n",
        "    save_weights_only=True,\n",
        "    monitor='val_jacard_coef',\n",
        "    mode='max',\n",
        "    save_best_only=True)"
      ]
    },
    {
      "cell_type": "code",
      "execution_count": null,
      "metadata": {
        "id": "-BmEG7aT-Ab6"
      },
      "outputs": [],
      "source": [
        "history = model.fit(mySet.trainingArrayX, mySet.trainingArrayY, \n",
        "                             verbose=1,\n",
        "                             batch_size = 16,\n",
        "                             validation_data=(mySet.testArrayX,mySet.testArrayY),\n",
        "                             shuffle=False,\n",
        "                             epochs=50,\n",
        "                             callbacks=[model_checkpoint_callback])"
      ]
    },
    {
      "cell_type": "markdown",
      "metadata": {
        "id": "B3aU82P0o2Pd"
      },
      "source": [
        "# MODEL 6\n"
      ]
    },
    {
      "cell_type": "code",
      "execution_count": null,
      "metadata": {
        "id": "NMxxdXpho7w_"
      },
      "outputs": [],
      "source": [
        "from tensorflow.keras import layers\n",
        "import keras\n",
        "\n",
        "\n",
        "def get_model(img_size, num_classes):\n",
        "    inputs = keras.Input(shape=img_size + (3,))\n",
        "\n",
        "    ### [First half of the network: downsampling inputs] ###\n",
        "\n",
        "    # Entry block\n",
        "    x = layers.Conv2D(32, 3, strides=2, padding=\"same\")(inputs)\n",
        "    x = layers.BatchNormalization()(x)\n",
        "    x = layers.Activation(\"relu\")(x)\n",
        "\n",
        "    previous_block_activation = x  # Set aside residual\n",
        "\n",
        "    # Blocks 1, 2, 3 are identical apart from the feature depth.\n",
        "    for filters in [64, 128, 256]:\n",
        "        x = layers.Activation(\"relu\")(x)\n",
        "        x = layers.SeparableConv2D(filters, 3, padding=\"same\")(x)\n",
        "        x = layers.BatchNormalization()(x)\n",
        "\n",
        "        x = layers.Activation(\"relu\")(x)\n",
        "        x = layers.SeparableConv2D(filters, 3, padding=\"same\")(x)\n",
        "        x = layers.BatchNormalization()(x)\n",
        "\n",
        "        x = layers.MaxPooling2D(3, strides=2, padding=\"same\")(x)\n",
        "\n",
        "        # Project residual\n",
        "        residual = layers.Conv2D(filters, 1, strides=2, padding=\"same\")(\n",
        "            previous_block_activation\n",
        "        )\n",
        "        x = layers.add([x, residual])  # Add back residual\n",
        "        previous_block_activation = x  # Set aside next residual\n",
        "\n",
        "    ### [Second half of the network: upsampling inputs] ###\n",
        "\n",
        "    for filters in [256, 128, 64, 32]:\n",
        "        x = layers.Activation(\"relu\")(x)\n",
        "        x = layers.Conv2DTranspose(filters, 3, padding=\"same\")(x)\n",
        "        x = layers.BatchNormalization()(x)\n",
        "\n",
        "        x = layers.Activation(\"relu\")(x)\n",
        "        x = layers.Conv2DTranspose(filters, 3, padding=\"same\")(x)\n",
        "        x = layers.BatchNormalization()(x)\n",
        "\n",
        "        x = layers.UpSampling2D(2)(x)\n",
        "\n",
        "        # Project residual\n",
        "        residual = layers.UpSampling2D(2)(previous_block_activation)\n",
        "        residual = layers.Conv2D(filters, 1, padding=\"same\")(residual)\n",
        "        x = layers.add([x, residual])  # Add back residual\n",
        "        previous_block_activation = x  # Set aside next residual\n",
        "\n",
        "    # Add a per-pixel classification layer\n",
        "    outputs = layers.Conv2D(num_classes, 3, activation=\"softmax\", padding=\"same\")(x)\n",
        "\n",
        "    # Define the model\n",
        "    model = keras.Model(inputs, outputs)\n",
        "    return model\n",
        "\n",
        "\n",
        "# Free up RAM in case the model definition cells were run multiple times\n",
        "keras.backend.clear_session()\n",
        "\n",
        "# Build model\n",
        "model = get_model((256,256), 3)\n",
        "model.summary()"
      ]
    },
    {
      "cell_type": "code",
      "execution_count": null,
      "metadata": {
        "id": "O07dH167pzeM"
      },
      "outputs": [],
      "source": [
        "model.compile(optimizer=\"rmsprop\", loss=\"categorical_crossentropy\")\n",
        "\n",
        "callbacks = [\n",
        "    keras.callbacks.ModelCheckpoint(\"oxford_segmentation.h5\", save_best_only=True)\n",
        "]\n",
        "\n",
        "# Train the model, doing validation at the end of each epoch.\n",
        "epochs = 15\n",
        "model.fit(mySet.trainingArrayX,mySet.trainingArrayY, epochs=epochs, validation_data=(mySet.testArrayX,mySet.testArrayY), callbacks=callbacks)"
      ]
    },
    {
      "cell_type": "code",
      "execution_count": null,
      "metadata": {
        "id": "HYN6shxWrVNP"
      },
      "outputs": [],
      "source": [
        "num_img_test=0"
      ]
    },
    {
      "cell_type": "code",
      "execution_count": null,
      "metadata": {
        "id": "bDqCLRyHqRJL"
      },
      "outputs": [],
      "source": [
        "\n",
        "img_test = mySet.testArrayX[num_img_test]\n",
        "test_label = mySet.testArrayY[num_img_test]\n",
        "\n",
        "img_test_input = np.expand_dims(img_test, 0)\n",
        "\n",
        "pred = ((att_unet_model.predict(img_test_input)[0,:,:,:] > 0.5)*255).astype(np.uint8)\n",
        "'''pred2 = ((att_unet_model2.predict(img_test_input)[0,:,:,:] > 0.5)*255).astype(np.uint8)\n",
        "pred3 = ((att_unet_model3.predict(img_test_input)[0,:,:,:] > 0.5)*255).astype(np.uint8)\n",
        "pred4 = ((att_unet_model4.predict(img_test_input)[0,:,:,:] > 0.5)*255).astype(np.uint8)\n",
        "pred5 = ((att_unet_model5.predict(img_test_input)[0,:,:,:] > 0.5)*255).astype(np.uint8)'''\n",
        "#pred = (att_unet_model.predict(img_test_input)[0,:,:,0] > 0.5).astype(np.uint8)\n",
        "#pred2 = (att_unet_model.predict(img_test_input)[0,:,:,1] > 0.5).astype(np.uint8)\n",
        "# Visualize the result \n",
        "plt.figure(figsize=(15, 10))\n",
        "plt.subplot(231)\n",
        "plt.title('Testing Image')\n",
        "plt.imshow(img_test, cmap='gray')\n",
        "plt.subplot(232)\n",
        "plt.title('Testing Label')\n",
        "plt.imshow(test_label[:,:,:], cmap='gray')\n",
        "plt.subplot(233)\n",
        "plt.title('Prediction on test image')\n",
        "plt.imshow(pred, cmap='gray')\n",
        "\n",
        "\n",
        "num_img_test+=1\n"
      ]
    },
    {
      "cell_type": "markdown",
      "metadata": {
        "id": "cw0ExfuOzxAx"
      },
      "source": [
        "# MODEL 7"
      ]
    },
    {
      "cell_type": "code",
      "execution_count": null,
      "metadata": {
        "colab": {
          "base_uri": "https://localhost:8080/"
        },
        "id": "8IJHShKNz0B5",
        "outputId": "0223a161-6ecc-4b8e-8371-e007ce51b2a9"
      },
      "outputs": [
        {
          "name": "stdout",
          "output_type": "stream",
          "text": [
            "Collecting keras-unet-collection\n",
            "  Downloading keras_unet_collection-0.1.11-py3-none-any.whl (67 kB)\n",
            "\u001b[?25l\r\u001b[K     |████▉                           | 10 kB 34.0 MB/s eta 0:00:01\r\u001b[K     |█████████▊                      | 20 kB 25.3 MB/s eta 0:00:01\r\u001b[K     |██████████████▌                 | 30 kB 29.3 MB/s eta 0:00:01\r\u001b[K     |███████████████████▍            | 40 kB 28.6 MB/s eta 0:00:01\r\u001b[K     |████████████████████████▏       | 51 kB 17.4 MB/s eta 0:00:01\r\u001b[K     |█████████████████████████████   | 61 kB 19.3 MB/s eta 0:00:01\r\u001b[K     |████████████████████████████████| 67 kB 4.8 MB/s \n",
            "\u001b[?25hInstalling collected packages: keras-unet-collection\n",
            "Successfully installed keras-unet-collection-0.1.11\n"
          ]
        }
      ],
      "source": [
        "!pip install keras-unet-collection"
      ]
    },
    {
      "cell_type": "code",
      "execution_count": null,
      "metadata": {
        "id": "DR1SxJYSz0y2"
      },
      "outputs": [],
      "source": [
        "from keras_unet_collection import models,utils\n",
        "import numpy as np\n",
        "from glob import glob\n",
        "from tensorflow import keras \n"
      ]
    },
    {
      "cell_type": "code",
      "execution_count": null,
      "metadata": {
        "colab": {
          "base_uri": "https://localhost:8080/",
          "height": 232
        },
        "id": "AmIuh5KWz-2l",
        "outputId": "53c0d275-c8e8-4ed4-e721-7ea31884f838"
      },
      "outputs": [
        {
          "ename": "NameError",
          "evalue": "ignored",
          "output_type": "error",
          "traceback": [
            "\u001b[0;31m---------------------------------------------------------------------------\u001b[0m",
            "\u001b[0;31mNameError\u001b[0m                                 Traceback (most recent call last)",
            "\u001b[0;32m<ipython-input-25-f996156aad39>\u001b[0m in \u001b[0;36m<module>\u001b[0;34m()\u001b[0m\n\u001b[0;32m----> 1\u001b[0;31m model = swin_unet_2d((256, 256, 3), filter_num=[64, 128, 256, 512, 1024], n_labels=3, \n\u001b[0m\u001b[1;32m      2\u001b[0m                            \u001b[0mstack_num_down\u001b[0m\u001b[0;34m=\u001b[0m\u001b[0;36m2\u001b[0m\u001b[0;34m,\u001b[0m \u001b[0mstack_num_up\u001b[0m\u001b[0;34m=\u001b[0m\u001b[0;36m2\u001b[0m\u001b[0;34m,\u001b[0m \u001b[0mactivation\u001b[0m\u001b[0;34m=\u001b[0m\u001b[0;34m'ReLU'\u001b[0m\u001b[0;34m,\u001b[0m\u001b[0;34m\u001b[0m\u001b[0;34m\u001b[0m\u001b[0m\n\u001b[1;32m      3\u001b[0m                            \u001b[0matten_activation\u001b[0m\u001b[0;34m=\u001b[0m\u001b[0;34m'ReLU'\u001b[0m\u001b[0;34m,\u001b[0m \u001b[0mattention\u001b[0m\u001b[0;34m=\u001b[0m\u001b[0;34m'add'\u001b[0m\u001b[0;34m,\u001b[0m \u001b[0moutput_activation\u001b[0m\u001b[0;34m=\u001b[0m\u001b[0;34m'Softmax'\u001b[0m\u001b[0;34m,\u001b[0m\u001b[0;34m\u001b[0m\u001b[0;34m\u001b[0m\u001b[0m\n\u001b[1;32m      4\u001b[0m                            \u001b[0mpool\u001b[0m\u001b[0;34m=\u001b[0m\u001b[0;32mFalse\u001b[0m\u001b[0;34m,\u001b[0m \u001b[0munpool\u001b[0m\u001b[0;34m=\u001b[0m\u001b[0;32mFalse\u001b[0m\u001b[0;34m,\u001b[0m\u001b[0;34m\u001b[0m\u001b[0;34m\u001b[0m\u001b[0m\n\u001b[1;32m      5\u001b[0m                            \u001b[0mbackbone\u001b[0m\u001b[0;34m=\u001b[0m\u001b[0;34m'VGG16'\u001b[0m\u001b[0;34m,\u001b[0m \u001b[0mweights\u001b[0m\u001b[0;34m=\u001b[0m\u001b[0;34m'imagenet'\u001b[0m\u001b[0;34m,\u001b[0m\u001b[0;34m\u001b[0m\u001b[0;34m\u001b[0m\u001b[0m\n",
            "\u001b[0;31mNameError\u001b[0m: name 'swin_unet_2d' is not defined"
          ]
        }
      ],
      "source": [
        "model = swin_unet_2d((256, 256, 3), filter_num=[64, 128, 256, 512, 1024], n_labels=3, \n",
        "                           stack_num_down=2, stack_num_up=2, activation='ReLU', \n",
        "                           atten_activation='ReLU', attention='add', output_activation='Softmax', \n",
        "                           pool=False, unpool=False, \n",
        "                           backbone='VGG16', weights='imagenet', \n",
        "                           freeze_backbone=True, freeze_batch_norm=True, \n",
        "                           name='attunet')"
      ]
    },
    {
      "cell_type": "code",
      "execution_count": null,
      "metadata": {
        "colab": {
          "base_uri": "https://localhost:8080/"
        },
        "id": "H1h-q5nJ0tYD",
        "outputId": "91faa42e-733c-406c-f659-bb55a844abfb"
      },
      "outputs": [
        {
          "name": "stdout",
          "output_type": "stream",
          "text": [
            "Model: \"attunet_model\"\n",
            "__________________________________________________________________________________________________\n",
            "Layer (type)                    Output Shape         Param #     Connected to                     \n",
            "==================================================================================================\n",
            "input_1 (InputLayer)            [(None, 256, 256, 3) 0                                            \n",
            "__________________________________________________________________________________________________\n",
            "VGG16_backbone (Functional)     [(None, 256, 256, 64 14714688    input_1[0][0]                    \n",
            "__________________________________________________________________________________________________\n",
            "attunet_up0_decode_trans_conv ( (None, 32, 32, 512)  2359808     VGG16_backbone[0][4]             \n",
            "__________________________________________________________________________________________________\n",
            "attunet_up0_decode_activation ( (None, 32, 32, 512)  0           attunet_up0_decode_trans_conv[0][\n",
            "__________________________________________________________________________________________________\n",
            "attunet_up0_att_theta_x (Conv2D (None, 32, 32, 256)  131328      VGG16_backbone[0][3]             \n",
            "__________________________________________________________________________________________________\n",
            "attunet_up0_att_phi_g (Conv2D)  (None, 32, 32, 256)  131328      attunet_up0_decode_activation[0][\n",
            "__________________________________________________________________________________________________\n",
            "attunet_up0_att_add (Add)       (None, 32, 32, 256)  0           attunet_up0_att_theta_x[0][0]    \n",
            "                                                                 attunet_up0_att_phi_g[0][0]      \n",
            "__________________________________________________________________________________________________\n",
            "attunet_up0_att_activation (ReL (None, 32, 32, 256)  0           attunet_up0_att_add[0][0]        \n",
            "__________________________________________________________________________________________________\n",
            "attunet_up0_att_psi_f (Conv2D)  (None, 32, 32, 1)    257         attunet_up0_att_activation[0][0] \n",
            "__________________________________________________________________________________________________\n",
            "attunet_up0_att_sigmoid (Activa (None, 32, 32, 1)    0           attunet_up0_att_psi_f[0][0]      \n",
            "__________________________________________________________________________________________________\n",
            "attunet_up0_att_masking (Multip (None, 32, 32, 512)  0           VGG16_backbone[0][3]             \n",
            "                                                                 attunet_up0_att_sigmoid[0][0]    \n",
            "__________________________________________________________________________________________________\n",
            "attunet_up0_concat (Concatenate (None, 32, 32, 1024) 0           attunet_up0_decode_activation[0][\n",
            "                                                                 attunet_up0_att_masking[0][0]    \n",
            "__________________________________________________________________________________________________\n",
            "attunet_up0_conv_after_concat_0 (None, 32, 32, 512)  4719104     attunet_up0_concat[0][0]         \n",
            "__________________________________________________________________________________________________\n",
            "attunet_up0_conv_after_concat_0 (None, 32, 32, 512)  0           attunet_up0_conv_after_concat_0[0\n",
            "__________________________________________________________________________________________________\n",
            "attunet_up0_conv_after_concat_1 (None, 32, 32, 512)  2359808     attunet_up0_conv_after_concat_0_a\n",
            "__________________________________________________________________________________________________\n",
            "attunet_up0_conv_after_concat_1 (None, 32, 32, 512)  0           attunet_up0_conv_after_concat_1[0\n",
            "__________________________________________________________________________________________________\n",
            "attunet_up1_decode_trans_conv ( (None, 64, 64, 256)  1179904     attunet_up0_conv_after_concat_1_a\n",
            "__________________________________________________________________________________________________\n",
            "attunet_up1_decode_activation ( (None, 64, 64, 256)  0           attunet_up1_decode_trans_conv[0][\n",
            "__________________________________________________________________________________________________\n",
            "attunet_up1_att_theta_x (Conv2D (None, 64, 64, 128)  32896       VGG16_backbone[0][2]             \n",
            "__________________________________________________________________________________________________\n",
            "attunet_up1_att_phi_g (Conv2D)  (None, 64, 64, 128)  32896       attunet_up1_decode_activation[0][\n",
            "__________________________________________________________________________________________________\n",
            "attunet_up1_att_add (Add)       (None, 64, 64, 128)  0           attunet_up1_att_theta_x[0][0]    \n",
            "                                                                 attunet_up1_att_phi_g[0][0]      \n",
            "__________________________________________________________________________________________________\n",
            "attunet_up1_att_activation (ReL (None, 64, 64, 128)  0           attunet_up1_att_add[0][0]        \n",
            "__________________________________________________________________________________________________\n",
            "attunet_up1_att_psi_f (Conv2D)  (None, 64, 64, 1)    129         attunet_up1_att_activation[0][0] \n",
            "__________________________________________________________________________________________________\n",
            "attunet_up1_att_sigmoid (Activa (None, 64, 64, 1)    0           attunet_up1_att_psi_f[0][0]      \n",
            "__________________________________________________________________________________________________\n",
            "attunet_up1_att_masking (Multip (None, 64, 64, 256)  0           VGG16_backbone[0][2]             \n",
            "                                                                 attunet_up1_att_sigmoid[0][0]    \n",
            "__________________________________________________________________________________________________\n",
            "attunet_up1_concat (Concatenate (None, 64, 64, 512)  0           attunet_up1_decode_activation[0][\n",
            "                                                                 attunet_up1_att_masking[0][0]    \n",
            "__________________________________________________________________________________________________\n",
            "attunet_up1_conv_after_concat_0 (None, 64, 64, 256)  1179904     attunet_up1_concat[0][0]         \n",
            "__________________________________________________________________________________________________\n",
            "attunet_up1_conv_after_concat_0 (None, 64, 64, 256)  0           attunet_up1_conv_after_concat_0[0\n",
            "__________________________________________________________________________________________________\n",
            "attunet_up1_conv_after_concat_1 (None, 64, 64, 256)  590080      attunet_up1_conv_after_concat_0_a\n",
            "__________________________________________________________________________________________________\n",
            "attunet_up1_conv_after_concat_1 (None, 64, 64, 256)  0           attunet_up1_conv_after_concat_1[0\n",
            "__________________________________________________________________________________________________\n",
            "attunet_up2_decode_trans_conv ( (None, 128, 128, 128 295040      attunet_up1_conv_after_concat_1_a\n",
            "__________________________________________________________________________________________________\n",
            "attunet_up2_decode_activation ( (None, 128, 128, 128 0           attunet_up2_decode_trans_conv[0][\n",
            "__________________________________________________________________________________________________\n",
            "attunet_up2_att_theta_x (Conv2D (None, 128, 128, 64) 8256        VGG16_backbone[0][1]             \n",
            "__________________________________________________________________________________________________\n",
            "attunet_up2_att_phi_g (Conv2D)  (None, 128, 128, 64) 8256        attunet_up2_decode_activation[0][\n",
            "__________________________________________________________________________________________________\n",
            "attunet_up2_att_add (Add)       (None, 128, 128, 64) 0           attunet_up2_att_theta_x[0][0]    \n",
            "                                                                 attunet_up2_att_phi_g[0][0]      \n",
            "__________________________________________________________________________________________________\n",
            "attunet_up2_att_activation (ReL (None, 128, 128, 64) 0           attunet_up2_att_add[0][0]        \n",
            "__________________________________________________________________________________________________\n",
            "attunet_up2_att_psi_f (Conv2D)  (None, 128, 128, 1)  65          attunet_up2_att_activation[0][0] \n",
            "__________________________________________________________________________________________________\n",
            "attunet_up2_att_sigmoid (Activa (None, 128, 128, 1)  0           attunet_up2_att_psi_f[0][0]      \n",
            "__________________________________________________________________________________________________\n",
            "attunet_up2_att_masking (Multip (None, 128, 128, 128 0           VGG16_backbone[0][1]             \n",
            "                                                                 attunet_up2_att_sigmoid[0][0]    \n",
            "__________________________________________________________________________________________________\n",
            "attunet_up2_concat (Concatenate (None, 128, 128, 256 0           attunet_up2_decode_activation[0][\n",
            "                                                                 attunet_up2_att_masking[0][0]    \n",
            "__________________________________________________________________________________________________\n",
            "attunet_up2_conv_after_concat_0 (None, 128, 128, 128 295040      attunet_up2_concat[0][0]         \n",
            "__________________________________________________________________________________________________\n",
            "attunet_up2_conv_after_concat_0 (None, 128, 128, 128 0           attunet_up2_conv_after_concat_0[0\n",
            "__________________________________________________________________________________________________\n",
            "attunet_up2_conv_after_concat_1 (None, 128, 128, 128 147584      attunet_up2_conv_after_concat_0_a\n",
            "__________________________________________________________________________________________________\n",
            "attunet_up2_conv_after_concat_1 (None, 128, 128, 128 0           attunet_up2_conv_after_concat_1[0\n",
            "__________________________________________________________________________________________________\n",
            "attunet_up3_decode_trans_conv ( (None, 256, 256, 64) 73792       attunet_up2_conv_after_concat_1_a\n",
            "__________________________________________________________________________________________________\n",
            "attunet_up3_decode_activation ( (None, 256, 256, 64) 0           attunet_up3_decode_trans_conv[0][\n",
            "__________________________________________________________________________________________________\n",
            "attunet_up3_att_theta_x (Conv2D (None, 256, 256, 32) 2080        VGG16_backbone[0][0]             \n",
            "__________________________________________________________________________________________________\n",
            "attunet_up3_att_phi_g (Conv2D)  (None, 256, 256, 32) 2080        attunet_up3_decode_activation[0][\n",
            "__________________________________________________________________________________________________\n",
            "attunet_up3_att_add (Add)       (None, 256, 256, 32) 0           attunet_up3_att_theta_x[0][0]    \n",
            "                                                                 attunet_up3_att_phi_g[0][0]      \n",
            "__________________________________________________________________________________________________\n",
            "attunet_up3_att_activation (ReL (None, 256, 256, 32) 0           attunet_up3_att_add[0][0]        \n",
            "__________________________________________________________________________________________________\n",
            "attunet_up3_att_psi_f (Conv2D)  (None, 256, 256, 1)  33          attunet_up3_att_activation[0][0] \n",
            "__________________________________________________________________________________________________\n",
            "attunet_up3_att_sigmoid (Activa (None, 256, 256, 1)  0           attunet_up3_att_psi_f[0][0]      \n",
            "__________________________________________________________________________________________________\n",
            "attunet_up3_att_masking (Multip (None, 256, 256, 64) 0           VGG16_backbone[0][0]             \n",
            "                                                                 attunet_up3_att_sigmoid[0][0]    \n",
            "__________________________________________________________________________________________________\n",
            "attunet_up3_concat (Concatenate (None, 256, 256, 128 0           attunet_up3_decode_activation[0][\n",
            "                                                                 attunet_up3_att_masking[0][0]    \n",
            "__________________________________________________________________________________________________\n",
            "attunet_up3_conv_after_concat_0 (None, 256, 256, 64) 73792       attunet_up3_concat[0][0]         \n",
            "__________________________________________________________________________________________________\n",
            "attunet_up3_conv_after_concat_0 (None, 256, 256, 64) 0           attunet_up3_conv_after_concat_0[0\n",
            "__________________________________________________________________________________________________\n",
            "attunet_up3_conv_after_concat_1 (None, 256, 256, 64) 36928       attunet_up3_conv_after_concat_0_a\n",
            "__________________________________________________________________________________________________\n",
            "attunet_up3_conv_after_concat_1 (None, 256, 256, 64) 0           attunet_up3_conv_after_concat_1[0\n",
            "__________________________________________________________________________________________________\n",
            "attunet_output (Conv2D)         (None, 256, 256, 3)  195         attunet_up3_conv_after_concat_1_a\n",
            "__________________________________________________________________________________________________\n",
            "attunet_output_activation (Soft (None, 256, 256, 3)  0           attunet_output[0][0]             \n",
            "==================================================================================================\n",
            "Total params: 28,375,271\n",
            "Trainable params: 13,660,583\n",
            "Non-trainable params: 14,714,688\n",
            "__________________________________________________________________________________________________\n"
          ]
        }
      ],
      "source": [
        "model.summary()"
      ]
    },
    {
      "cell_type": "code",
      "execution_count": null,
      "metadata": {
        "id": "qQU7Rb0O26sd"
      },
      "outputs": [],
      "source": [
        "from keras_unet_collection.losses import iou_seg\n",
        "\n",
        "model.compile(loss='categorical_crossentropy', optimizer=keras.optimizers.Adam(),metrics=['accuracy',iou_seg])\n"
      ]
    },
    {
      "cell_type": "code",
      "execution_count": null,
      "metadata": {
        "id": "19Igip8Qe5oA"
      },
      "outputs": [],
      "source": [
        "model.load_weights(\"/content/drive/MyDrive/sotaSegMod/unetCollection.h5\")"
      ]
    },
    {
      "cell_type": "code",
      "execution_count": null,
      "metadata": {
        "id": "EpDDfBxj4Tef"
      },
      "outputs": [],
      "source": [
        "checkpoint_filepath=\"/content/drive/MyDrive/sotaSegMod/unetCollection2.h5\"\n",
        "model_checkpoint_callback = tf.keras.callbacks.ModelCheckpoint(\n",
        "    filepath=checkpoint_filepath,\n",
        "    save_weights_only=True,\n",
        "    monitor='val_iou_seg',\n",
        "    mode='min',\n",
        "    save_best_only=True)\n",
        "\n"
      ]
    },
    {
      "cell_type": "code",
      "execution_count": null,
      "metadata": {
        "id": "XQGNm4Py2-dv"
      },
      "outputs": [],
      "source": [
        "history = model.fit(mySet.trainingArrayX, mySet.trainingArrayY, \n",
        "                             verbose=1,\n",
        "                             batch_size = 32,\n",
        "                             validation_data=(mySet.testArrayX,mySet.testArrayY),\n",
        "                             shuffle=False,\n",
        "                             epochs=50,\n",
        "                             callbacks=[model_checkpoint_callback])"
      ]
    },
    {
      "cell_type": "code",
      "execution_count": null,
      "metadata": {
        "id": "o5_SH0N7ffWU"
      },
      "outputs": [],
      "source": [
        "for i in range(len(mySet.nameArray)):\n",
        "  img_test = mySet.testArrayX[i]\n",
        "  img_test_input = np.expand_dims(img_test, 0)\n",
        "  plt.imsave(\"/content/testFolder/\"+str(mySet.nameArray[i]),(((model.predict(img_test_input)[0,:,:,:] > 0.5)*255).astype(np.uint8)))"
      ]
    },
    {
      "cell_type": "code",
      "execution_count": null,
      "metadata": {
        "id": "J9gNfFMz91sX"
      },
      "outputs": [],
      "source": [
        "num_img_test=0"
      ]
    },
    {
      "cell_type": "code",
      "execution_count": null,
      "metadata": {
        "colab": {
          "base_uri": "https://localhost:8080/",
          "height": 255
        },
        "id": "G1GVpK9g9ux3",
        "outputId": "ea913bc7-a89d-4089-9450-35d99f513b07"
      },
      "outputs": [
        {
          "data": {
            "image/png": "[encoded data removed]",
            "text/plain": [
              "<Figure size 1080x720 with 3 Axes>"
            ]
          },
          "metadata": {},
          "output_type": "display_data"
        }
      ],
      "source": [
        "\n",
        "img_test = mySet.testArrayX[num_img_test]\n",
        "test_label = mySet.testArrayY[num_img_test]\n",
        "\n",
        "img_test_input = np.expand_dims(img_test, 0)\n",
        "\n",
        "pred = ((model.predict(img_test_input)[0,:,:,:] > 0.5)*255).astype(np.uint8)\n",
        "'''pred2 = ((att_unet_model2.predict(img_test_input)[0,:,:,:] > 0.5)*255).astype(np.uint8)\n",
        "pred3 = ((att_unet_model3.predict(img_test_input)[0,:,:,:] > 0.5)*255).astype(np.uint8)\n",
        "pred4 = ((att_unet_model4.predict(img_test_input)[0,:,:,:] > 0.5)*255).astype(np.uint8)\n",
        "pred5 = ((att_unet_model5.predict(img_test_input)[0,:,:,:] > 0.5)*255).astype(np.uint8)'''\n",
        "#pred = (att_unet_model.predict(img_test_input)[0,:,:,0] > 0.5).astype(np.uint8)\n",
        "#pred2 = (att_unet_model.predict(img_test_input)[0,:,:,1] > 0.5).astype(np.uint8)\n",
        "# Visualize the result \n",
        "plt.figure(figsize=(15, 10))\n",
        "plt.subplot(231)\n",
        "plt.title('Testing Image')\n",
        "plt.imshow(img_test, cmap='gray')\n",
        "plt.subplot(232)\n",
        "plt.title('Testing Label')\n",
        "plt.imshow(test_label[:,:,:], cmap='gray')\n",
        "plt.subplot(233)\n",
        "plt.title('Prediction on test image')\n",
        "plt.imshow(pred, cmap='gray')\n",
        "\n",
        "\n",
        "num_img_test+=1"
      ]
    },
    {
      "cell_type": "markdown",
      "metadata": {
        "id": "GPm3eOQT1FWP"
      },
      "source": [
        "# MODEL 8"
      ]
    },
    {
      "cell_type": "code",
      "execution_count": null,
      "metadata": {
        "colab": {
          "base_uri": "https://localhost:8080/"
        },
        "id": "hinV8tHU1Gt0",
        "outputId": "c633c88b-a389-4b3e-a2dd-fde14aa9e222"
      },
      "outputs": [
        {
          "name": "stderr",
          "output_type": "stream",
          "text": [
            "/usr/local/lib/python3.7/dist-packages/keras_unet_collection/_backbone_zoo.py:45: UserWarning: \n",
            "\n",
            "Backbone VGG16 does not use batch norm, but other layers received batch_norm=True\n",
            "  warnings.warn(param_mismatch);\n"
          ]
        },
        {
          "name": "stdout",
          "output_type": "stream",
          "text": [
            "Downloading data from https://storage.googleapis.com/tensorflow/keras-applications/vgg16/vgg16_weights_tf_dim_ordering_tf_kernels_notop.h5\n",
            "58892288/58889256 [==============================] - 0s 0us/step\n",
            "58900480/58889256 [==============================] - 0s 0us/step\n"
          ]
        }
      ],
      "source": [
        "model_Unet = models.unet_2d((256, 256, 3), filter_num=[64, 128, 256, 512, 1024], \n",
        "                           n_labels=3, \n",
        "                           stack_num_down=2, stack_num_up=2, \n",
        "                           activation='ReLU', \n",
        "                           output_activation='Softmax', \n",
        "                           batch_norm=True, pool=False, unpool=False, \n",
        "                           backbone='VGG16', weights='imagenet', \n",
        "                           freeze_backbone=True, freeze_batch_norm=True, \n",
        "                           name='unet')"
      ]
    },
    {
      "cell_type": "code",
      "execution_count": null,
      "metadata": {
        "id": "2kKeRZMa1Lfe"
      },
      "outputs": [],
      "source": [
        "model_Unet.load_weights(\"/content/drive/MyDrive/sotaSegMod/model_Unet2D.h5\")"
      ]
    },
    {
      "cell_type": "code",
      "execution_count": null,
      "metadata": {
        "id": "y1Cgf5F01oIT"
      },
      "outputs": [],
      "source": [
        "from keras_unet_collection.losses import iou_seg\n",
        "\n",
        "model_Unet.compile(loss='categorical_crossentropy', optimizer=keras.optimizers.Adam(learning_rate=0.0001),metrics=['accuracy',iou_seg])\n"
      ]
    },
    {
      "cell_type": "code",
      "execution_count": null,
      "metadata": {
        "id": "82Aa14wb1v2-"
      },
      "outputs": [],
      "source": [
        "checkpoint_filepath=\"/content/drive/MyDrive/sotaSegMod/model_Unet2D.h5\"\n",
        "model_checkpoint_callback = tf.keras.callbacks.ModelCheckpoint(\n",
        "    filepath=checkpoint_filepath,\n",
        "    save_weights_only=True,\n",
        "    monitor='val_iou_seg',\n",
        "    mode='min',\n",
        "    save_best_only=True)\n",
        "\n"
      ]
    },
    {
      "cell_type": "code",
      "execution_count": null,
      "metadata": {
        "colab": {
          "base_uri": "https://localhost:8080/"
        },
        "id": "YRcYPZgI1x3n",
        "outputId": "9a25144c-2786-4951-f77f-a6363570cbda"
      },
      "outputs": [],
      "source": [
        "history = model_Unet.fit(mySet.trainingArrayX, mySet.trainingArrayY, \n",
        "                             verbose=1,\n",
        "                             batch_size = 32,\n",
        "                             validation_data=(mySet.testArrayX,mySet.testArrayY),\n",
        "                             shuffle=False,\n",
        "                             epochs=200,\n",
        "                             callbacks=[model_checkpoint_callback])"
      ]
    },
    {
      "cell_type": "code",
      "execution_count": null,
      "metadata": {
        "id": "JPvOwGJB434N"
      },
      "outputs": [],
      "source": [
        "for i in range(len(mySet.nameArray)):\n",
        "  img_test = mySet.testArrayX[i]\n",
        "  img_test_input = np.expand_dims(img_test, 0)\n",
        "  plt.imsave(\"/content/testFolder/\"+str(mySet.nameArray[i]),(((model.predict(img_test_input)[0,:,:,:] > 0.5)*255).astype(np.uint8)))"
      ]
    },
    {
      "cell_type": "markdown",
      "metadata": {
        "id": "pZoxlg-9IxSb"
      },
      "source": [
        "# MODEL 9"
      ]
    },
    {
      "cell_type": "code",
      "execution_count": null,
      "metadata": {
        "colab": {
          "base_uri": "https://localhost:8080/"
        },
        "id": "B5oi5fNjIyx_",
        "outputId": "9be1979b-7926-4c80-ad6d-9600b447ad17"
      },
      "outputs": [
        {
          "name": "stderr",
          "output_type": "stream",
          "text": [
            "/usr/local/lib/python3.7/dist-packages/keras_unet_collection/_backbone_zoo.py:45: UserWarning: \n",
            "\n",
            "Backbone VGG16 does not use batch norm, but other layers received batch_norm=True\n",
            "  warnings.warn(param_mismatch);\n",
            "/usr/local/lib/python3.7/dist-packages/keras/optimizer_v2/optimizer_v2.py:356: UserWarning: The `lr` argument is deprecated, use `learning_rate` instead.\n",
            "  \"The `lr` argument is deprecated, use `learning_rate` instead.\")\n"
          ]
        }
      ],
      "source": [
        "from keras_unet_collection import losses\n",
        "model = models.att_unet_2d((256, 256, 3), filter_num=[64, 128, 256, 512, 1024], n_labels=2, \n",
        "                           stack_num_down=4, stack_num_up=2, activation='ReLU', \n",
        "                           atten_activation='ReLU', attention='add', output_activation='Sigmoid', \n",
        "                           batch_norm=True, pool=True, unpool=False, \n",
        "                           backbone='VGG16', weights='imagenet', \n",
        "                           freeze_backbone=False, freeze_batch_norm=False, \n",
        "                           name='attunet')\n",
        "\n",
        "model.compile(loss='categorical_crossentropy', optimizer=tf.keras.optimizers.Adam(lr = 1e-3), \n",
        "              metrics=['accuracy', losses.dice_coef,losses.iou_seg])"
      ]
    },
    {
      "cell_type": "code",
      "execution_count": null,
      "metadata": {
        "id": "jeG115807uE4"
      },
      "outputs": [],
      "source": [
        "help(models.att_unet_2d)"
      ]
    },
    {
      "cell_type": "code",
      "execution_count": null,
      "metadata": {
        "id": "FzrisYnzJAWk"
      },
      "outputs": [],
      "source": [
        "checkpoint_filepath=\"/content/drive/MyDrive/collectionModels/attUnet.h5\"\n",
        "model_checkpoint_callback = tf.keras.callbacks.ModelCheckpoint(\n",
        "    filepath=checkpoint_filepath,\n",
        "    save_weights_only=True,\n",
        "    monitor='val_iou_seg',\n",
        "    mode='min',\n",
        "    save_best_only=True)\n",
        "\n"
      ]
    },
    {
      "cell_type": "code",
      "execution_count": null,
      "metadata": {
        "id": "-WxYhmAjTPdy"
      },
      "outputs": [],
      "source": [
        "tf.keras.utils.plot_model(model)"
      ]
    },
    {
      "cell_type": "code",
      "execution_count": null,
      "metadata": {
        "colab": {
          "base_uri": "https://localhost:8080/",
          "height": 358
        },
        "id": "rOtLYjYMJVKn",
        "outputId": "70275cca-c432-434d-a9ef-7aa191a132f5"
      },
      "outputs": [],
      "source": [
        "history = model_att_unet.fit(mySet.trainingArrayX, mySet.trainingArrayY, \n",
        "                             verbose=1,\n",
        "                             batch_size = 32,\n",
        "                             validation_data=(mySet.testArrayX,mySet.testArrayY),\n",
        "                             shuffle=True,\n",
        "                             epochs=100,\n",
        "                             callbacks=[model_checkpoint_callback])"
      ]
    },
    {
      "cell_type": "code",
      "execution_count": null,
      "metadata": {
        "id": "HyNhlr-9NpxF"
      },
      "outputs": [],
      "source": [
        "for i in range(len(mySet.nameArray)):\n",
        "  img_test = mySet.testArrayX[i]\n",
        "  img_test_input = np.expand_dims(img_test, 0)\n",
        "  plt.imsave(\"/content/testFolder/\"+str(mySet.nameArray[i]),(((model_att_unet.predict(img_test_input)[0,:,:,:] > 0.5)*255).astype(np.uint8)))"
      ]
    },
    {
      "cell_type": "markdown",
      "metadata": {
        "id": "B0x0rpa34JUC"
      },
      "source": [
        "# MODEL 10"
      ]
    },
    {
      "cell_type": "code",
      "execution_count": null,
      "metadata": {
        "id": "5mNknq_V4Sqz"
      },
      "outputs": [],
      "source": [
        "from keras_unet_collection import models,utils\n",
        "import numpy as np\n",
        "from glob import glob\n",
        "from tensorflow import keras \n",
        "from keras_unet_collection.losses import iou_seg,dice_coef\n",
        "from keras import backend as K"
      ]
    },
    {
      "cell_type": "code",
      "execution_count": null,
      "metadata": {
        "id": "HxJyrUnU4PTi"
      },
      "outputs": [],
      "source": [
        "model = models.unet_2d((256, 256, 3), [512,1024], n_labels=3,\n",
        "                      stack_num_down=2, stack_num_up=1,\n",
        "                      activation='GELU', output_activation='Softmax', \n",
        "                      batch_norm=True, pool='max', unpool='nearest', name='unet')"
      ]
    },
    {
      "cell_type": "code",
      "execution_count": null,
      "metadata": {
        "colab": {
          "base_uri": "https://localhost:8080/"
        },
        "id": "hLI62i2F_SqT",
        "outputId": "613f31f7-135d-4153-9f3a-4a1f5fd91963"
      },
      "outputs": [],
      "source": [
        "model.summary()"
      ]
    },
    {
      "cell_type": "code",
      "execution_count": null,
      "metadata": {
        "id": "KwuQUYVo-lb_"
      },
      "outputs": [],
      "source": [
        "focal_loss = sm.losses.CategoricalCELoss()\n",
        "\n",
        "adam=tf.keras.optimizers.Adam(0.00005)\n",
        "metric = [sm.metrics.IOUScore(threshold=0.5), sm.metrics.FScore(threshold=0.5)]\n",
        "model.compile(loss=focal_loss, optimizer=adam, \n",
        "              metrics=metric)"
      ]
    },
    {
      "cell_type": "code",
      "execution_count": null,
      "metadata": {
        "colab": {
          "base_uri": "https://localhost:8080/",
          "height": 307
        },
        "id": "AVF_tOjszSoO",
        "outputId": "9746fc7c-5176-4ed9-de76-f89b62ec3ffa"
      },
      "outputs": [],
      "source": [
        "model.load_weights(\"/content/drive/MyDrive/collectionModels/augmentModeladam.h5\")"
      ]
    },
    {
      "cell_type": "code",
      "execution_count": null,
      "metadata": {
        "id": "1C6K3nQy-vyQ"
      },
      "outputs": [],
      "source": [
        "checkpoint_filepath=\"/content/drive/MyDrive/collectionModels/enerjik.h5\"\n",
        "model_checkpoint_callback = tf.keras.callbacks.ModelCheckpoint(\n",
        "    filepath=checkpoint_filepath,\n",
        "    save_weights_only=True,\n",
        "    monitor='val_iou_score',\n",
        "    mode='max',\n",
        "    save_best_only=True)\n"
      ]
    },
    {
      "cell_type": "code",
      "execution_count": null,
      "metadata": {
        "colab": {
          "base_uri": "https://localhost:8080/",
          "height": 375
        },
        "id": "q-89kVJv-2fU",
        "outputId": "a162acf2-a641-46c7-f016-1f5ea0ac7bcb"
      },
      "outputs": [],
      "source": [
        "history = model.fit(mySet.trainingArrayX, mySet.trainingArrayY, \n",
        "                             verbose = 1,\n",
        "                             batch_size = 4,\n",
        "                             validation_data = (mySet.testArrayX,mySet.testArrayY),\n",
        "                             shuffle = False,\n",
        "                             epochs = 25,\n",
        "                             callbacks = [model_checkpoint_callback])"
      ]
    },
    {
      "cell_type": "code",
      "execution_count": null,
      "metadata": {
        "id": "dXR1nZ9QUlQp"
      },
      "outputs": [],
      "source": [
        "from matplotlib import pyplot as plt\n",
        "import cv2\n",
        "for i in range(len(mySet.nameArray)):\n",
        "  img_test = mySet.testArrayX[i]\n",
        "  img_test_input = np.expand_dims(img_test, 0)\n",
        "  plt.imsave(\"/content/testFolder/\"+str(mySet.nameArray[i]),cv2.cvtColor(((model.predict(img_test_input)[0,:,:,:] > 0.5)*255).astype(np.uint8),cv2.COLOR_BGR2RGB))"
      ]
    },
    {
      "cell_type": "code",
      "execution_count": null,
      "metadata": {
        "id": "YU39ix8pxv0l"
      },
      "outputs": [],
      "source": [
        "modelTwo = models.unet_2d((256, 256, 3), [64, 128, 256, 512, 1024], n_labels=3,\n",
        "                      stack_num_down=2, stack_num_up=2,\n",
        "                      activation='ReLU', output_activation='Softmax', \n",
        "                      batch_norm=True, pool='max', unpool='nearest', name='unet')"
      ]
    },
    {
      "cell_type": "code",
      "execution_count": null,
      "metadata": {
        "id": "UFBvOWlMx1RE"
      },
      "outputs": [],
      "source": [
        "modelTwo.compile(loss='categorical_crossentropy', optimizer=tf.keras.optimizers.Adam(), \n",
        "              metrics=[dice_coef,iou_seg])"
      ]
    },
    {
      "cell_type": "code",
      "execution_count": null,
      "metadata": {
        "id": "1tokCnANx4Dm"
      },
      "outputs": [],
      "source": [
        "modelTwo.load_weights(\"/content/drive/MyDrive/collectionModels/unetReluOne.h5\")"
      ]
    },
    {
      "cell_type": "markdown",
      "metadata": {
        "id": "2Sx41KIy9YCb"
      },
      "source": [
        "# MODEL 11"
      ]
    },
    {
      "cell_type": "code",
      "execution_count": null,
      "metadata": {
        "id": "cSIaKrSZ9W6A"
      },
      "outputs": [],
      "source": [
        "!pip install -U segmentation-models"
      ]
    },
    {
      "cell_type": "code",
      "execution_count": null,
      "metadata": {
        "colab": {
          "base_uri": "https://localhost:8080/",
          "height": 52
        },
        "id": "tQEBgjWhLeJG",
        "outputId": "419305d7-5a34-40e9-f0b0-3f7c2083643b"
      },
      "outputs": [
        {
          "name": "stdout",
          "output_type": "stream",
          "text": [
            "Segmentation Models: using `keras` framework.\n"
          ]
        },
        {
          "data": {
            "application/vnd.google.colaboratory.intrinsic+json": {
              "type": "string"
            },
            "text/plain": [
              "'tf.keras'"
            ]
          },
          "execution_count": 7,
          "metadata": {},
          "output_type": "execute_result"
        }
      ],
      "source": [
        "import segmentation_models as sm\n",
        "sm.set_framework('tf.keras')\n",
        "sm.framework()"
      ]
    },
    {
      "cell_type": "code",
      "execution_count": null,
      "metadata": {
        "colab": {
          "base_uri": "https://localhost:8080/"
        },
        "id": "B5kCXSR09gMh",
        "outputId": "b4777547-33c5-4d27-fd12-70e31b1966de"
      },
      "outputs": [
        {
          "name": "stdout",
          "output_type": "stream",
          "text": [
            "2.6.0\n",
            "2.6.0\n"
          ]
        }
      ],
      "source": [
        "import keras\n",
        "import tensorflow as tf\n",
        "print(keras.__version__)\n",
        "print(tf.__version__)\n",
        "#from keras.utils import normalize\n",
        "import os\n",
        "import glob\n",
        "import cv2\n",
        "import numpy as np\n",
        "from matplotlib import pyplot as plt\n",
        "from segmentation_models.losses import cce_jaccard_loss\n",
        "from segmentation_models.metrics import iou_score"
      ]
    },
    {
      "cell_type": "code",
      "execution_count": null,
      "metadata": {
        "id": "VHZqC5g496uf"
      },
      "outputs": [],
      "source": [
        "from tensorflow.keras.layers import Input,Conv2D,Rescaling\n",
        "from tensorflow.keras import Model\n",
        "base_model = sm.Unet('vgg16', classes=3, activation='softmax',encoder_weights='imagenet',decoder_use_batchnorm=True)\n",
        "inp = Input(shape=(None, None, 1))\n",
        "l1 = Conv2D(3, (1, 1))(inp) # map N channels data to 3 channels\n",
        "\n",
        "out = base_model(l1)\n",
        "\n",
        "\n",
        "model = Model(inp, out, name=base_model.name)\n",
        "#model=base_model"
      ]
    },
    {
      "cell_type": "code",
      "execution_count": null,
      "metadata": {
        "id": "ACSDtD4SBJrB"
      },
      "outputs": [],
      "source": [
        "model.load_weights(\"/content/drive/MyDrive/SegmentModelLastDay/vgg256unetilkoturum.h5\")"
      ]
    },
    {
      "cell_type": "code",
      "execution_count": null,
      "metadata": {
        "colab": {
          "base_uri": "https://localhost:8080/",
          "height": 286
        },
        "id": "JSZRno_bchpT",
        "outputId": "8e046ed5-15c0-4ba7-f7e2-543ae91f630d"
      },
      "outputs": [
        {
          "data": {
            "text/plain": [
              "<matplotlib.image.AxesImage at 0x7efde0103690>"
            ]
          },
          "execution_count": 12,
          "metadata": {},
          "output_type": "execute_result"
        },
        {
          "data": {
            "image/png": "[encoded data removed]",
            "text/plain": [
              "<Figure size 432x288 with 1 Axes>"
            ]
          },
          "metadata": {
            "needs_background": "light"
          },
          "output_type": "display_data"
        }
      ],
      "source": [
        "plt.imshow(mySet.trainingArrayY[0][:,:,0])"
      ]
    },
    {
      "cell_type": "code",
      "execution_count": null,
      "metadata": {
        "id": "YrtlcswPd8DJ"
      },
      "outputs": [],
      "source": [
        "#model.load_weights('/content/drive/MyDrive/ModelsForCompetition/mehmetakifgece.h5')\n",
        "\n",
        "dice_loss = sm.losses.DiceLoss(class_indexes=np.array([0,1])) \n",
        "focal_loss = sm.losses.CategoricalCELoss(class_indexes=np.array([0,1]))\n",
        "jaccard_loss=sm.losses.JaccardLoss(class_indexes=np.array([0,1]))\n",
        "total_loss = 0.5*dice_loss + 0.25*jaccard_loss + 0.25*focal_loss\n",
        "adam=tf.keras.optimizers.Adam(learning_rate=0.0001) \n",
        "metrics = [sm.metrics.IOUScore(threshold=0.5,class_indexes=np.array([0,1])),sm.metrics.FScore(threshold=0.5,class_indexes=np.array([0,1]))]\n",
        "model.compile(optimizer=adam,loss=dice_loss,metrics=metrics)"
      ]
    },
    {
      "cell_type": "code",
      "execution_count": null,
      "metadata": {
        "id": "SOpkY7v_sZFs"
      },
      "outputs": [],
      "source": [
        "model.load_weights('/content/drive/MyDrive/SegmentModelLastDay/vgg256unetilkoturum.h5')"
      ]
    },
    {
      "cell_type": "code",
      "execution_count": null,
      "metadata": {
        "colab": {
          "base_uri": "https://localhost:8080/"
        },
        "id": "EYucjnCznkxa",
        "outputId": "c7298d94-17d9-4929-cd02-610d415eb066"
      },
      "outputs": [
        {
          "name": "stderr",
          "output_type": "stream",
          "text": [
            "/usr/local/lib/python3.7/dist-packages/keras/utils/generic_utils.py:497: CustomMaskWarning: Custom mask layers require a config and must override get_config. When loading, the custom mask layer must be passed to the custom_objects argument.\n",
            "  category=CustomMaskWarning)\n"
          ]
        },
        {
          "name": "stdout",
          "output_type": "stream",
          "text": [
            "Saved model to disk\n"
          ]
        }
      ],
      "source": [
        "model_json = model.to_json()\n",
        "with open(\"/content/drive/MyDrive/SegmentationLastModels/modelResNetFocalTwo.json\", \"w\") as json_file:\n",
        "    json_file.write(model_json)\n",
        "# serialize weights to HDF5\n",
        "model.save_weights(\"/content/drive/MyDrive/SegmentationLastModels/modelResNetFocalTwo.h5\")\n",
        "print(\"Saved model to disk\")"
      ]
    },
    {
      "cell_type": "code",
      "execution_count": null,
      "metadata": {
        "id": "-pOrsZ0Ten_n"
      },
      "outputs": [],
      "source": [
        "checkpoint_filepath = '/content/drive/MyDrive/SegmentModelLastDay/vgg256focalilkoturumiki.h5'\n",
        "model_checkpoint_callback = tf.keras.callbacks.ModelCheckpoint(\n",
        "    filepath=checkpoint_filepath,\n",
        "    monitor='val_iou_score',\n",
        "    mode='max',\n",
        "    save_best_only=True,\n",
        "    save_weights_only=True)\n"
      ]
    },
    {
      "cell_type": "code",
      "execution_count": null,
      "metadata": {
        "id": "gr2mRwJNersn"
      },
      "outputs": [],
      "source": [
        "model.fit(\n",
        "   x=mySet.trainingArrayX,\n",
        "   y=mySet.trainingArrayY,\n",
        "   batch_size=2,\n",
        "   epochs=200,\n",
        "   validation_data=(mySet.testArrayX, mySet.testArrayY),\n",
        "   callbacks=[model_checkpoint_callback],\n",
        ")"
      ]
    },
    {
      "cell_type": "code",
      "execution_count": null,
      "metadata": {
        "id": "QHdwE64XYgCS"
      },
      "outputs": [],
      "source": [
        "vmodel.fit(\n",
        "   x=mySet.trainingArrayX,\n",
        "   y=mySet.trainingArrayY,\n",
        "   batch_size=4,\n",
        "   epochs=100,\n",
        "   validation_data=(mySet.testArrayX, mySet.testArrayY),\n",
        "   callbacks=[model_checkpoint_callback],\n",
        ")"
      ]
    },
    {
      "cell_type": "code",
      "execution_count": null,
      "metadata": {
        "id": "KoXuKPpeetjX"
      },
      "outputs": [],
      "source": [
        "for i in range(len(mySet.nameArray)):\n",
        "  img_test = mySet.testArrayX[i]\n",
        "  img_test_input = np.expand_dims(img_test, 0)\n",
        "  plt.imsave(\"/content/testFolder/\"+str(mySet.nameArray[i]),((model.predict(img_test_input)[0,:,:,:] > 0.5)*255).astype(np.uint8))"
      ]
    },
    {
      "cell_type": "code",
      "execution_count": null,
      "metadata": {
        "id": "QCUsrWdwlvpe"
      },
      "outputs": [],
      "source": [
        "model.save_weights(\"/content/drive/MyDrive/SegmentModelLastDay/79verenmodelsonepoch.h5\")"
      ]
    },
    {
      "cell_type": "markdown",
      "metadata": {
        "id": "D0Recq7dDVPG"
      },
      "source": [
        "# Evaluation"
      ]
    },
    {
      "cell_type": "code",
      "execution_count": null,
      "metadata": {
        "colab": {
          "base_uri": "https://localhost:8080/"
        },
        "id": "o9rU3-32v_2-",
        "outputId": "4d579946-c856-4fd8-91a6-8a1b4c9daae0"
      },
      "outputs": [
        {
          "name": "stdout",
          "output_type": "stream",
          "text": [
            "Loaded model from disk\n"
          ]
        }
      ],
      "source": [
        "from keras.models import model_from_json\n",
        "json_file = open('/content/drive/MyDrive/SegmentationLastModels/modelResNetFocalTwo.json', 'r')\n",
        "loaded_model_json = json_file.read()\n",
        "json_file.close()\n",
        "loaded_model = model_from_json(loaded_model_json)\n",
        "# load weights into new model\n",
        "loaded_model.load_weights(\"/content/drive/MyDrive/SegmentationLastModels/modelResNetFocalTwo.h5\")\n",
        "print(\"Loaded model from disk\")"
      ]
    },
    {
      "cell_type": "code",
      "execution_count": null,
      "metadata": {
        "id": "8cRlfsWVwJdN"
      },
      "outputs": [],
      "source": [
        "#model.load_weights('/content/drive/MyDrive/ModelsForCompetition/mehmetakifgece.h5')\n",
        "dice_loss = sm.losses.DiceLoss(class_weights=np.array([1, 1, 0.5])) \n",
        "focal_loss = sm.losses.CategoricalFocalLoss()\n",
        "total_loss = (0.75 * dice_loss) + (0.25 * focal_loss)\n",
        "adam=tf.keras.optimizers.Adam(0.0001)\n",
        "metrics = [sm.metrics.IOUScore(threshold=0.5),sm.metrics.FScore(class_indexes=np.array([0,1]),threshold=0.5)]\n",
        "loaded_model.compile(optimizer=adam,loss=total_loss,metrics=metrics)"
      ]
    },
    {
      "cell_type": "code",
      "execution_count": null,
      "metadata": {
        "colab": {
          "base_uri": "https://localhost:8080/"
        },
        "id": "8tn2PoHFwq14",
        "outputId": "86f11404-1b77-4468-c7aa-32f1c7e661b7"
      },
      "outputs": [
        {
          "name": "stdout",
          "output_type": "stream",
          "text": [
            "14/14 [==============================] - 11s 391ms/step - loss: 0.2218 - iou_score: 0.7531 - f1-score: 0.8358\n"
          ]
        },
        {
          "data": {
            "text/plain": [
              "[0.22175036370754242, 0.7531320452690125, 0.8358188271522522]"
            ]
          },
          "execution_count": 12,
          "metadata": {},
          "output_type": "execute_result"
        }
      ],
      "source": [
        "model.evaluate(mySet.testArrayX,mySet.testArrayY)"
      ]
    },
    {
      "cell_type": "code",
      "execution_count": null,
      "metadata": {
        "id": "tJ4w1YcVDiZa"
      },
      "outputs": [],
      "source": [
        "import tensorflow as tf\n",
        "import numpy as np\n",
        "coefList=[]\n",
        "lenlist=[]\n",
        "reals,preds,preds2=[],[],[]\n",
        "for i in range(len(mySet.nameArray)):\n",
        "   \n",
        "  predimg=cv2.imread(\"/content/drive/MyDrive/Segment/BoneNewTwo/TestSet/Annotation/\"+mySet.nameArray[i])\n",
        "  reals.append(predimg)\n",
        "  predimgOne=predimg[:,:,0:2]\n",
        "  realimg=cv2.resize(cv2.imread(\"/content/testFolder/\"+mySet.nameArray[i]),(512,512),interpolation=cv2.INTER_CUBIC)\n",
        "  realimg2=cv2.resize(cv2.imread(\"/content/testFolder/\"+mySet.nameArray[i]),(512,512),interpolation=cv2.INTER_NEAREST)\n",
        "  preds.append(realimg)\n",
        "  preds2.append(realimg2)\n",
        "  realimgOne=realimg2[:,:,0:2]\n",
        "  predimgOneF=predimgOne.flatten()\n",
        "  realimgOneF=realimgOne.flatten()\n",
        "  intersectOne=predimgOneF*realimgOneF\n",
        "  intersectOne=np.sum(intersectOne)\n",
        "\n",
        "  xorOne=np.sum(np.logical_xor(predimgOneF,realimgOneF))\n",
        "  iouOne=intersectOne/(intersectOne+xorOne)\n",
        "  coefList.append(iouOne)"
      ]
    },
    {
      "cell_type": "code",
      "execution_count": null,
      "metadata": {
        "colab": {
          "base_uri": "https://localhost:8080/"
        },
        "id": "GKJywUtok7kr",
        "outputId": "e87435c8-3f2e-41f1-e486-147a3ab92f9e"
      },
      "outputs": [
        {
          "data": {
            "text/plain": [
              "0.5241832048825514"
            ]
          },
          "execution_count": 13,
          "metadata": {},
          "output_type": "execute_result"
        }
      ],
      "source": [
        "sum(coefList)/len(coefList)"
      ]
    },
    {
      "cell_type": "code",
      "execution_count": null,
      "metadata": {
        "colab": {
          "base_uri": "https://localhost:8080/",
          "height": 232
        },
        "id": "e3h8KwWOt4DX",
        "outputId": "b028290b-15d4-46be-dfff-27bd7522dbfc"
      },
      "outputs": [],
      "source": [
        "import tensorflow as tf\n",
        "import numpy as np\n",
        "coefList=[]\n",
        "lenlist=[]\n",
        "reals,preds,preds2=[],[],[]\n",
        "for i in range(len(mySet.nameArray)):\n",
        "   \n",
        "  predimg=cv2.imread(\"/content/drive/MyDrive/Segment/BoneNewTwo/TestSet/Annotation/\"+mySet.nameArray[i])\n",
        "  reals.append(predimg)\n",
        "  predimgOne=predimg[:,:,0:2]\n",
        "  realimg=cv2.cvtColor(cv2.imread(\"/content/testFolder/\"+mySet.nameArray[i]),cv2.COLOR_BGR2RGB)\n",
        "  realimg2=cv2.imread(\"/content/testFolder/\"+mySet.nameArray[i])\n",
        "  preds.append(realimg)\n",
        "  preds2.append(realimg2)\n",
        "  realimgOne=realimg[:,:,0:2]\n",
        "  predimgOneF=predimgOne.flatten()\n",
        "  realimgOneF=realimgOne.flatten()\n",
        "  intersectOne=predimgOneF*realimgOneF\n",
        "  intersectOne=np.sum(intersectOne)\n",
        "\n",
        "  xorOne=np.sum(np.logical_xor(predimgOneF,realimgOneF))\n",
        "  iouOne=intersectOne/(intersectOne+xorOne)\n",
        "  coefList.append(iouOne)"
      ]
    },
    {
      "cell_type": "code",
      "execution_count": null,
      "metadata": {
        "colab": {
          "base_uri": "https://localhost:8080/"
        },
        "id": "OtvCGxiuEjXv",
        "outputId": "48be18d3-4cdd-4373-8838-56d1f76aac0d"
      },
      "outputs": [
        {
          "data": {
            "text/plain": [
              "0.5855659877878219"
            ]
          },
          "execution_count": 19,
          "metadata": {},
          "output_type": "execute_result"
        }
      ],
      "source": [
        "sum(coefList)/len(coefList)"
      ]
    },
    {
      "cell_type": "code",
      "execution_count": null,
      "metadata": {
        "colab": {
          "base_uri": "https://localhost:8080/"
        },
        "id": "ghAovmjeJ7AD",
        "outputId": "760375ca-3f2d-43c1-8658-970effcec870"
      },
      "outputs": [],
      "source": [
        "import time\n",
        "scores=[]\n",
        "\n",
        "for i in range(len(mySet.nameArray)):\n",
        "    start = time.time()\n",
        "   \n",
        "    \n",
        "    grd=cv2.cvtColor(cv2.imread(\"/content/drive/MyDrive/Segment/BoneNewTwo/TestSet/Annotation/\"+mySet.nameArray[i]),cv2.COLOR_BGR2RGB)\n",
        "    prd=cv2.cvtColor(cv2.resize(cv2.imread(\"/content/testFolder/\"+mySet.nameArray[i]),(512,512),interpolation=cv2.INTER_CUBIC),cv2.COLOR_BGR2RGB)\n",
        "    newimage=np.zeros((512,512))\n",
        "    newimage2=np.zeros((512,512))\n",
        "    for i in range(512):\n",
        "      for j in range(512):\n",
        "        class_labels = np.argmax(prd[i,j], axis=0)\n",
        "        newimage[i][j]=class_labels\n",
        "        class_labelsTwo = np.argmax(grd[i,j], axis=0)\n",
        "        newimage2[i][j]=class_labelsTwo\n",
        "    predictedMask=newimage\n",
        "    groundtruthMask=newimage2\n",
        "    \n",
        "    iou=calculateIoU(groundtruthMask,predictedMask,False)\n",
        "    end = time.time()\n",
        "  \n",
        "    scores.append(iou)\n",
        "    print(end - start,iou,sum(scores)/len(scores))"
      ]
    },
    {
      "cell_type": "code",
      "execution_count": null,
      "metadata": {
        "colab": {
          "base_uri": "https://localhost:8080/"
        },
        "id": "OK88mmovZQLL",
        "outputId": "8b274d56-fe1b-4062-92da-33a1f084c69e"
      },
      "outputs": [
        {
          "data": {
            "text/plain": [
              "0.695549726698729"
            ]
          },
          "execution_count": 21,
          "metadata": {},
          "output_type": "execute_result"
        }
      ],
      "source": [
        "sum(scores)/len(scores)"
      ]
    },
    {
      "cell_type": "code",
      "execution_count": null,
      "metadata": {
        "colab": {
          "base_uri": "https://localhost:8080/",
          "height": 232
        },
        "id": "QV4pwLSY7ZPn",
        "outputId": "7fee2e9a-91a2-42bc-e0f4-68ca80d72f42"
      },
      "outputs": [],
      "source": [
        "scores=[]\n",
        "for i in range(len(mySet.nameArray)):\n",
        "\n",
        "    prd=cv2.imread(\"/content/drive/MyDrive/Segment/BoneNewTwo/TestSet/Annotation/\"+mySet.nameArray[i])\n",
        "    grd=cv2.resize(cv2.imread(\"/content/testFolder/\"+mySet.nameArray[i]),(512,512),interpolation=cv2.INTER_CUBIC)\n",
        "    newimage=np.zeros((512,512))\n",
        "    newimage2=np.zeros((512,512))\n",
        "    for i in range(512):\n",
        "      for j in range(512):\n",
        "        if prd[i][j][0]==255:\n",
        "          newimage[i][j]=1\n",
        "        if prd[i][j][1]==255:\n",
        "          newimage[i][j]=2\n",
        "        if prd[i][j][2]==255:\n",
        "          newimage[i][j]=0\n",
        "        if grd[i][j][0]==255:\n",
        "          newimage2[i][j]=1\n",
        "        if grd[i][j][1]==255:\n",
        "          newimage2[i][j]=2\n",
        "        if grd[i][j][2]==255:\n",
        "          newimage2[i][j]=0\n",
        "    predictedMask=newimage\n",
        "    groundtruthMask=newimage2\n",
        "    \n",
        "    iou=calculateIoU(groundtruthMask,predictedMask,False)\n",
        "    print(iou)\n",
        "    scores.append(iou)\n"
      ]
    },
    {
      "cell_type": "code",
      "execution_count": null,
      "metadata": {
        "colab": {
          "base_uri": "https://localhost:8080/"
        },
        "id": "JXplxLrABRqk",
        "outputId": "a1a5beda-f996-4ef2-d175-f6573991fcaf"
      },
      "outputs": [
        {
          "data": {
            "text/plain": [
              "0.7188215406567501"
            ]
          },
          "execution_count": 22,
          "metadata": {},
          "output_type": "execute_result"
        }
      ],
      "source": [
        "sum(scores)/len(scores)"
      ]
    },
    {
      "cell_type": "code",
      "execution_count": null,
      "metadata": {
        "id": "lvyXNBilNxCg"
      },
      "outputs": [],
      "source": [
        "\n",
        "newimage=np.zeros((512,512))\n",
        "for i in range(len(prd[0])):\n",
        "  print(prd[0][i])\n",
        "  if prd[0][i][0]==255:\n",
        "    newimage[i][i]=0\n",
        "  if prd[0][i][1]==255:\n",
        "    newimage[i][j]=1\n",
        "  if prd[0][i][2]==255:\n",
        "    newimage[i][j]=2\n",
        "  \n",
        "plt.imshow(newimage)"
      ]
    },
    {
      "cell_type": "code",
      "execution_count": null,
      "metadata": {
        "id": "9VI2ard1ul4v"
      },
      "outputs": [],
      "source": [
        "def loadMask(path):\n",
        "    reader = sitk.ImageFileReader()\n",
        "    reader.SetFileName(path)\n",
        "    sitkMask = reader.Execute();\n",
        "    mask = sitk.GetArrayFromImage(sitkMask)\n",
        "    \n",
        "    return mask\n",
        "\n",
        "def showGrayScale(mask, title):\n",
        "    plt.imshow(mask, cmap=plt.cm.gray)\n",
        "    plt.title(title)\n",
        "    plt.show()\n",
        "\n",
        "# 8 bit ve tek kanallı, normal (0), iskemik (1) ve kanama (2) sınıflarından oluşan\n",
        "# groundTruthMask ve predictedMask'i parametre olarak alip predictedMask'i puanlayan fonksiyon.\n",
        "# Maskelerin her adımdakı değişiminlerini görmek için showSteps = True.\n",
        "def calculateIoU(groundTruthMask, predictedMask, showSteps = False):\n",
        "    \n",
        "    if showSteps:\n",
        "        showGrayScale(groundtruthMask, \"Ground Truth Maskesi\")\n",
        "        showGrayScale(predictedMask, \"Predicted Maskesi\")\n",
        "    \n",
        "    # 1 ve 2 maskelerini ayrı ayrı oluşturuyoruz (0 ve 255 değerlerinin olduğu birer maske olarak)\n",
        "    mask1 = np.where(groundtruthMask == 1, 1, 0).astype(np.uint8)\n",
        "    mask2 = np.where(groundtruthMask == 2, 1, 0).astype(np.uint8)\n",
        "    \n",
        "\n",
        "    if showSteps:\n",
        "        showGrayScale(mask1, \"Ground Truth Sınıf 1\")\n",
        "        showGrayScale(mask2, \"Ground Truth Sınıf 2\")\n",
        "        \n",
        "\n",
        "    # İki sınıfı ayrı ayrı dilate ve erode ediyoruz\n",
        "    kernel = np.ones((3,3))\n",
        "\n",
        "    erosion1 = cv2.erode(mask1, kernel, iterations=1) \n",
        "    dilation1 = cv2.dilate(mask1, kernel, iterations=1)\n",
        "\n",
        "    erosion2 = cv2.erode(mask2, kernel, iterations=1) \n",
        "    dilation2 = cv2.dilate(mask2, kernel, iterations=1)\n",
        "    \n",
        "   \n",
        "    if showSteps:\n",
        "        showGrayScale(erosion1, \"Erode Edilmiş Ground Truth Sınıf 1\")\n",
        "    \n",
        "    \n",
        "    # Erode edilmiş ground truth class maskelerini birleştiriyoruz\n",
        "    erodedGroundtruth = np.zeros(groundtruthMask.shape, dtype = np.uint8)\n",
        "    erodedGroundtruth[erosion1 == 1] = 1\n",
        "    erodedGroundtruth[erosion2 == 1] = 2\n",
        "    \n",
        "    \n",
        "    if showSteps:\n",
        "        showGrayScale(erodedGroundtruth, \"Erode Edilmiş Ground Truthların Birleştirilmesi\")\n",
        "    \n",
        "    \n",
        "    # Dilate edilmiş ground truth class maskelerini birleştiriyoruz\n",
        "    dilatedGroundtruth = np.zeros(groundtruthMask.shape, dtype = np.uint8)\n",
        "    dilatedGroundtruth[dilation1 == 1] = 1\n",
        "    dilatedGroundtruth[dilation2 == 1] = 2    \n",
        "    \n",
        "    \n",
        "    if showSteps:\n",
        "        showGrayScale(dilatedGroundtruth, \"Dilate Edilmiş Ground Truthların Birleştirilmesi\")\n",
        "    \n",
        "    \n",
        "    # Dilate edilmiş ground truth ile kesişim\n",
        "    intersection = np.where(np.logical_and(dilatedGroundtruth == predictedMask, dilatedGroundtruth != 0), 1, 0)        \n",
        "    intersectionCount = np.count_nonzero(intersection)\n",
        "\n",
        "    # Erode edilmiş ground truth ile birleşim\n",
        "    union = np.where(np.logical_or(erodedGroundtruth != 0, predictedMask != 0), 1, 0)\n",
        "    unionCount = np.count_nonzero(union)\n",
        "\n",
        "    score = intersectionCount / unionCount\n",
        "\n",
        "    \n",
        "    if showSteps:\n",
        "        showGrayScale(intersection, \"Kesişim\")\n",
        "        showGrayScale(union, \"Birleşim\")\n",
        "        print('Kesişim piksel sayısı: ', intersectionCount)\n",
        "        print('Birleşim piksel sayısı: ', unionCount)\n",
        "        print('Puan: ', score)\n",
        "    \n",
        "    \n",
        "    return score"
      ]
    },
    {
      "cell_type": "code",
      "execution_count": null,
      "metadata": {
        "id": "dLtYk_CmLKCJ"
      },
      "outputs": [],
      "source": [
        "num_img_test=27"
      ]
    },
    {
      "cell_type": "code",
      "execution_count": null,
      "metadata": {
        "colab": {
          "base_uri": "https://localhost:8080/",
          "height": 310
        },
        "id": "rpDe-X5lLBhM",
        "outputId": "9cb430a2-9773-4f5f-c8d1-237c60d9cd1a"
      },
      "outputs": [
        {
          "data": {
            "image/png": "[encoded data removed]",
            "text/plain": [
              "<Figure size 1080x720 with 3 Axes>"
            ]
          },
          "metadata": {},
          "output_type": "display_data"
        }
      ],
      "source": [
        "\n",
        "img_test = reals[num_img_test]\n",
        "test_label = preds2[num_img_test]\n",
        "pred = preds[num_img_test]\n",
        "'''pred2 = ((att_unet_model2.predict(img_test_input)[0,:,:,:] > 0.5)*255).astype(np.uint8)\n",
        "pred3 = ((att_unet_model3.predict(img_test_input)[0,:,:,:] > 0.5)*255).astype(np.uint8)\n",
        "pred4 = ((att_unet_model4.predict(img_test_input)[0,:,:,:] > 0.5)*255).astype(np.uint8)\n",
        "pred5 = ((att_unet_model5.predict(img_test_input)[0,:,:,:] > 0.5)*255).astype(np.uint8)'''\n",
        "#pred = (att_unet_model.predict(img_test_input)[0,:,:,0] > 0.5).astype(np.uint8)\n",
        "#pred2 = (att_unet_model.predict(img_test_input)[0,:,:,1] > 0.5).astype(np.uint8)\n",
        "# Visualize the result \n",
        "plt.figure(figsize=(15, 10))\n",
        "plt.subplot(231)\n",
        "\n",
        "plt.title('Testing Image')\n",
        "plt.imshow(img_test, cmap='gray')\n",
        "plt.subplot(232)\n",
        "plt.title('Testing Label')\n",
        "plt.imshow(test_label[:,:,:], cmap='gray')\n",
        "plt.subplot(233)\n",
        "plt.title('Prediction on test image')\n",
        "plt.imshow(pred, cmap='gray')\n",
        "\n",
        "num_img_test+=1"
      ]
    },
    {
      "cell_type": "code",
      "execution_count": null,
      "metadata": {
        "colab": {
          "base_uri": "https://localhost:8080/",
          "height": 286
        },
        "id": "EJqy7Fv9EUiA",
        "outputId": "b72bc67d-3b18-4b2e-fc97-4cb1c1c605b8"
      },
      "outputs": [
        {
          "data": {
            "text/plain": [
              "<matplotlib.image.AxesImage at 0x7fea3f05b490>"
            ]
          },
          "execution_count": 75,
          "metadata": {},
          "output_type": "execute_result"
        },
        {
          "data": {
            "image/png": "[encoded data removed]",
            "text/plain": [
              "<Figure size 432x288 with 1 Axes>"
            ]
          },
          "metadata": {},
          "output_type": "display_data"
        }
      ],
      "source": [
        "plt.imshow(test_label[:,:,2])"
      ]
    },
    {
      "cell_type": "code",
      "execution_count": null,
      "metadata": {
        "colab": {
          "base_uri": "https://localhost:8080/"
        },
        "id": "tUsWBMWGxUUK",
        "outputId": "8b88d864-9b02-4a56-e437-9906e407306d"
      },
      "outputs": [],
      "source": [
        "cv2.resize(imgm,(512,512),interpolation=cv2.INTER_NEAREST)"
      ]
    },
    {
      "cell_type": "markdown",
      "metadata": {
        "id": "sGSLl8Nj6JU5"
      },
      "source": [
        "# Upload"
      ]
    },
    {
      "cell_type": "code",
      "execution_count": null,
      "metadata": {
        "colab": {
          "base_uri": "https://localhost:8080/"
        },
        "id": "iI61wWYL681R",
        "outputId": "1eddbb26-c08b-44b6-e0c5-e254294fbc2c"
      },
      "outputs": [],
      "source": [
        "!pip install pydicom"
      ]
    },
    {
      "cell_type": "code",
      "execution_count": null,
      "metadata": {
        "colab": {
          "base_uri": "https://localhost:8080/"
        },
        "id": "_8wQiEzlxVBA",
        "outputId": "31a4e3fb-3951-4422-d7ca-2ea31dec1124"
      },
      "outputs": [
        {
          "data": {
            "text/plain": [
              "4427"
            ]
          },
          "execution_count": 98,
          "metadata": {},
          "output_type": "execute_result"
        }
      ],
      "source": [
        "import pngGeneratorTwo\n",
        "gen=pngGeneratorTwo.PngGenerator(\"/content/drive/MyDrive/TRAINING/INMEYOK/DICOM\")\n",
        "gen.insertDicomData()\n",
        "len(gen.pathList)"
      ]
    },
    {
      "cell_type": "code",
      "execution_count": null,
      "metadata": {
        "colab": {
          "base_uri": "https://localhost:8080/"
        },
        "id": "rU9XRq9V694f",
        "outputId": "38bc9431-bbc1-4839-aa9c-2751838548fb"
      },
      "outputs": [],
      "source": [
        "gen.getPngData(\"/content/drive/MyDrive/CubicData\",\"Inmeyok\")"
      ]
    },
    {
      "cell_type": "markdown",
      "metadata": {
        "id": "lsZBl9XHTa1i"
      },
      "source": [
        "# WORKING CODE"
      ]
    },
    {
      "cell_type": "code",
      "execution_count": null,
      "metadata": {
        "colab": {
          "base_uri": "https://localhost:8080/"
        },
        "id": "3mCusdYT7jvV",
        "outputId": "e883b575-33a8-4c54-c161-8f5cba6e3022"
      },
      "outputs": [
        {
          "name": "stdout",
          "output_type": "stream",
          "text": [
            "Requirement already satisfied: pydicom in /usr/local/lib/python3.7/dist-packages (2.2.1)\n"
          ]
        }
      ],
      "source": [
        "!pip install pydicom"
      ]
    },
    {
      "cell_type": "code",
      "execution_count": null,
      "metadata": {
        "id": "8_69rIB3Mxpt"
      },
      "outputs": [],
      "source": [
        "from PIL import Image\n",
        "import numpy as np\n",
        "from numpy import asarray\n",
        "import cv2\n",
        "import tensorflow as tf\n",
        "import os\n",
        "from tensorflow.keras.models import model_from_json\n",
        "from tensorflow.keras.utils import to_categorical\n",
        "import pandas as pd"
      ]
    },
    {
      "cell_type": "code",
      "execution_count": null,
      "metadata": {
        "colab": {
          "base_uri": "https://localhost:8080/"
        },
        "id": "51Nj-HsbM1C3",
        "outputId": "0551cf9f-f117-44e3-edd1-82f5681c73a2"
      },
      "outputs": [],
      "source": [
        "import yarismaPngGenerator\n",
        "pngGen=yarismaPngGenerator.PngGenerator(\"/content/drive/MyDrive/yarismaOturumBir\",\"Classification\")\n",
        "pngGen.insertDicomData()\n",
        "pngGen.getPngData(\"/content/drive/MyDrive/pngOturumBir\",\"Data\")"
      ]
    },
    {
      "cell_type": "code",
      "execution_count": null,
      "metadata": {
        "colab": {
          "base_uri": "https://localhost:8080/"
        },
        "id": "hV-snRfZNuGL",
        "outputId": "5573e34b-47be-45d8-af95-2f7375f3a34c"
      },
      "outputs": [],
      "source": [
        "# Import necessary components to build LeNet\n",
        "\n",
        "from keras.applications.vgg16 import VGG16\n",
        "from keras.layers import Dense, Dropout\n",
        "import numpy as np\n",
        "from keras.models import Model\n",
        "from keras.preprocessing.image import ImageDataGenerator\n",
        "from keras.models import Sequential\n",
        "from keras.applications.vgg16 import VGG16\n",
        "from keras.applications.xception import Xception\n",
        "from keras.applications.mobilenet import MobileNet\n",
        "from keras.applications.efficientnet import EfficientNetB5\n",
        "from keras.applications.inception_resnet_v2 import InceptionResNetV2\n",
        "from keras.applications.vgg19 import VGG19\n",
        "from keras.layers.core import Dense, Dropout, Activation, Flatten\n",
        "from keras.layers.convolutional import Conv2D, MaxPooling2D, ZeroPadding2D\n",
        "from keras.regularizers import l2\n",
        "import numpy as np\n",
        "from keras import layers\n",
        "from keras.layers import Input, Dense,Dropout, Activation,BatchNormalization, Flatten, Conv2D, MaxPooling2D\n",
        "from keras.models import Model\n",
        "from keras.preprocessing import image\n",
        "from keras.preprocessing.image import ImageDataGenerator\n",
        "import keras.backend as K\n",
        "import matplotlib.pyplot as plt\n",
        "from matplotlib.pyplot import imshow\n",
        "from keras.callbacks import EarlyStopping\n",
        "from keras.layers import Dense, GlobalAveragePooling2D\n",
        "\n",
        "from keras.layers import Dense, GlobalAveragePooling2D\n",
        "\n",
        "def vgg16():\n",
        "    \n",
        "  conv=VGG16(input_shape=[224,224,3],weights='imagenet',include_top=False)\n",
        "  conv.output\n",
        "\n",
        "\n",
        "  x = conv.output\n",
        "  x = Dropout(0.2)(x)\n",
        "  x = GlobalAveragePooling2D()(x)\n",
        "\n",
        "\n",
        "  x = Dense(2048,activation='relu')(x)\n",
        "  x = Dense(1024,activation='relu')(x)\n",
        "  x = Dropout(0.2)(x)\n",
        "  x = Dense(1024,activation='relu')(x)\n",
        "  x = Dense(512,activation='relu')(x)\n",
        "  \n",
        "  \n",
        "  pred = Dense(2,activation='softmax')(x)\n",
        "  model = Model(inputs = conv.input,outputs=pred)\n",
        "\n",
        "  model.summary()\n",
        "\n",
        "\n",
        "  for layer in conv.layers:\n",
        "      layer.trainable = False\n",
        "  return model\n",
        "model=vgg16()"
      ]
    },
    {
      "cell_type": "code",
      "execution_count": null,
      "metadata": {
        "id": "aYu4ZjCDNyB_"
      },
      "outputs": [],
      "source": [
        "adam=tf.keras.optimizers.Adam(learning_rate=0.00001)\n",
        "model.compile(optimizer = adam ,loss=\"categorical_crossentropy\", metrics=['accuracy'])\n",
        "model.load_weights(\"/content/drive/MyDrive/SagliktaYapayZekaModelleri/modelAugmented.h5\")"
      ]
    },
    {
      "cell_type": "code",
      "execution_count": null,
      "metadata": {
        "colab": {
          "base_uri": "https://localhost:8080/"
        },
        "id": "l3Kd5YFns3FS",
        "outputId": "cd0194dc-c4a3-4d38-ae92-217af6574704"
      },
      "outputs": [],
      "source": [
        "filenamelist"
      ]
    },
    {
      "cell_type": "code",
      "execution_count": null,
      "metadata": {
        "id": "cNoq3xpjM4Tu"
      },
      "outputs": [],
      "source": [
        "liste=list()\n",
        "liste2=list()\n",
        "filenamelist=list()\n",
        "path=\"/content/drive/MyDrive/pngOturumBir\"\n",
        "predictions=[]\n",
        "for subdir,dirs,files in os.walk(path):\n",
        "  for file in files:\n",
        "    filePath=subdir+os.sep+file\n",
        "    img=cv2.imread(filePath)\n",
        "    img_test = cv2.resize(img,(224,224),interpolation=cv2.INTER_CUBIC)\n",
        "    liste.append(img_test)\n",
        "    liste2.append(0)\n",
        "    img_test_input = np.expand_dims(img_test,0)\n",
        "    img_test_input=img_test_input.astype(np.float32)\n",
        "    img_test_input=img_test_input/255.\n",
        "    strfile=file\n",
        "    filenamelist.append(strfile.split(\".\")[0])\n",
        "\n",
        "    prediction = model.predict(img_test_input)\n",
        "    prediction=(prediction>0.5).astype(np.uint8)\n",
        "    predictions.append(prediction)\n",
        "\n"
      ]
    },
    {
      "cell_type": "code",
      "execution_count": null,
      "metadata": {
        "id": "i_XnIvyRN7Z_"
      },
      "outputs": [],
      "source": [
        "preds=list()\n",
        "\n",
        "for i in range(len(predictions)):\n",
        "  preds.append(int(predictions[i][0][1]))\n"
      ]
    },
    {
      "cell_type": "code",
      "execution_count": null,
      "metadata": {
        "colab": {
          "base_uri": "https://localhost:8080/",
          "height": 419
        },
        "id": "hfWecAhAN8xf",
        "outputId": "0f30c39b-1fc6-4e8e-90d7-9cc86ba7d5dc"
      },
      "outputs": [],
      "source": [
        "import pandas as pd\n",
        "\n",
        "data={\n",
        "    \"ID\": filenamelist,\n",
        "    \"ETİKET\": preds\n",
        "}\n",
        "\n",
        "df=pd.DataFrame(data)\n",
        "df = df.reset_index(drop=True)\n",
        "\n",
        "csv=df.to_csv(\"/content/drive/MyDrive/OTURUM1.csv\",index=False)\n",
        "\n",
        "df"
      ]
    },
    {
      "cell_type": "code",
      "execution_count": null,
      "metadata": {
        "id": "WaTCXoGZ42Vc"
      },
      "outputs": [],
      "source": [
        "listeyeni=list()\n",
        "for i in pngGen.pathList:\n",
        " spltd=i.split(os.sep)[-1]\n",
        " spltdtwo=spltd.split(\".\")[0]\n",
        " if spltdtwo not in filenamelist:\n",
        "   listeyeni.append(spltdtwo)\n"
      ]
    },
    {
      "cell_type": "code",
      "execution_count": null,
      "metadata": {
        "colab": {
          "base_uri": "https://localhost:8080/"
        },
        "id": "AoFY1NvQ5Q0O",
        "outputId": "384045a2-0dd7-44f0-fefc-6198f88dd273"
      },
      "outputs": [
        {
          "data": {
            "text/plain": [
              "['11074']"
            ]
          },
          "execution_count": 15,
          "metadata": {},
          "output_type": "execute_result"
        }
      ],
      "source": [
        "listeyeni"
      ]
    },
    {
      "cell_type": "code",
      "execution_count": null,
      "metadata": {
        "id": "vTVuay3l5R0Q"
      },
      "outputs": [],
      "source": []
    }
  ],
  "metadata": {
    "accelerator": "GPU",
    "colab": {
      "collapsed_sections": [
        "9BvpgZqIpT-W",
        "LQ_hz2_y8ORn",
        "B3aU82P0o2Pd",
        "GPm3eOQT1FWP"
      ],
      "machine_shape": "hm",
      "name": "Models For Segmentation.ipynb",
      "provenance": [],
      "toc_visible": true
    },
    "kernelspec": {
      "display_name": "Python 3",
      "name": "python3"
    },
    "language_info": {
      "name": "python"
    }
  },
  "nbformat": 4,
  "nbformat_minor": 0
}
